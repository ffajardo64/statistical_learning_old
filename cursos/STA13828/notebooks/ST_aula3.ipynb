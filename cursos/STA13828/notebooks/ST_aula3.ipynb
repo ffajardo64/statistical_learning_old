{
  "nbformat": 4,
  "nbformat_minor": 0,
  "metadata": {
    "colab": {
      "private_outputs": true,
      "provenance": []
    },
    "kernelspec": {
      "name": "ir",
      "display_name": "R"
    },
    "language_info": {
      "name": "R"
    }
  },
  "cells": [
    {
      "cell_type": "markdown",
      "source": [
        "# Aula de Séries Temporais I\n",
        "\n",
        "## Estimação da sazonalidade"
      ],
      "metadata": {
        "id": "H0sEn-xslSHQ"
      }
    },
    {
      "cell_type": "code",
      "execution_count": null,
      "metadata": {
        "id": "2oKvkzurkiAF"
      },
      "outputs": [],
      "source": [
        "if(!require(itsmr)) install.packages(\"itsmr\", repos = \"http://cran.us.r-project.org\")\n",
        "if(!require(astsa)) install.packages(\"astsa\", repos = \"http://cran.us.r-project.org\")"
      ]
    },
    {
      "cell_type": "code",
      "source": [
        "# Aumentar o tamanho das figuras\n",
        "options(repr.plot.width=16, repr.plot.height=12)"
      ],
      "metadata": {
        "id": "RzSZ5WxQJiw6"
      },
      "execution_count": null,
      "outputs": []
    },
    {
      "cell_type": "code",
      "source": [
        "n <- 1000\n",
        "t <- 1:n"
      ],
      "metadata": {
        "id": "FGxd9jLNVsuu"
      },
      "execution_count": null,
      "outputs": []
    },
    {
      "cell_type": "code",
      "source": [
        "# Geração de dados ARMA\n",
        "\n",
        "ARMA <- rnorm(n)#arima.sim(n=n,list(order=c(1,0,0),ar=0.01))\n",
        "itsmr::plotc(ARMA); itsmr::plota(ARMA)"
      ],
      "metadata": {
        "id": "GMGgmC92VzJS"
      },
      "execution_count": null,
      "outputs": []
    },
    {
      "cell_type": "markdown",
      "source": [
        "### Componente cíclica\n",
        "<div class=\"math\">\n",
        "\\begin{align}\n",
        "  x_{t1} &= 2\\cos(2\\pi t6/n) + 3 \\sin(2\\pi t 6/n)\\\\\n",
        "  x_{t2} &= 4\\cos(2\\pi t10/n) + 5 \\sin(2\\pi t 10/n)\\\\\n",
        "  x_{t3} &= 6\\cos(2\\pi t40/n) + 7 \\sin(2\\pi t 40/n)\n",
        "  \\end{align}\n",
        "</div>"
      ],
      "metadata": {
        "id": "Sjnad6jdxklZ"
      }
    },
    {
      "cell_type": "code",
      "source": [
        "# Componente cíclica\n",
        "serie1 <- 2*cos(2*pi*t*6/n)  + 3*sin(2*pi*t*6/n)\n",
        "serie2 <- 4*cos(2*pi*t*10/n) + 5*sin(2*pi*t*10/n)\n",
        "serie3 <- 6*cos(2*pi*t*40/n) + 7*sin(2*pi*t*40/n)\n",
        "\n",
        "s <- serie1 + serie2 + serie3"
      ],
      "metadata": {
        "id": "2U3WhDy8Pmri"
      },
      "execution_count": null,
      "outputs": []
    },
    {
      "cell_type": "code",
      "source": [
        "itsmr::plotc(serie1); itsmr::plotc(serie2); itsmr::plotc(serie3);"
      ],
      "metadata": {
        "id": "Kx4SQrerwBSo"
      },
      "execution_count": null,
      "outputs": []
    },
    {
      "cell_type": "code",
      "source": [
        "# Tendência\n",
        "m <- 3.0 + 0.1*t"
      ],
      "metadata": {
        "id": "mXY4_S4gJYrs"
      },
      "execution_count": null,
      "outputs": []
    },
    {
      "cell_type": "code",
      "source": [
        "# Gerando a série com Tendência, componente cíclica e componente estocástica\n",
        "\n",
        "# Decomposição Aditiva\n",
        "\n",
        "serie <- m + s + ARMA\n",
        "\n",
        "itsmr::plotc(serie); itsmr::plota(serie)"
      ],
      "metadata": {
        "id": "aFDNalQmQC8x"
      },
      "execution_count": null,
      "outputs": []
    },
    {
      "cell_type": "code",
      "source": [
        "y <- c(ARMA[1:(0.5*n)], ARMA[((0.5*n)+1):n]+1.5)\n",
        "\n",
        "plotc(ARMA,y) \n",
        "plota(ARMA); plota(y)"
      ],
      "metadata": {
        "id": "2F-eJYqvTCjJ"
      },
      "execution_count": null,
      "outputs": []
    },
    {
      "cell_type": "code",
      "source": [
        "m2 <- c(3.0 + 0.1*(1:(0.5*n)),3.0 + 0.1*(((0.5*n)+1):n)+10)\n",
        "y <- m2 + s + ARMA\n",
        "\n",
        "plotc(serie,y) \n",
        "plota(serie); plota(y)"
      ],
      "metadata": {
        "id": "tKwi_HI53Ljm"
      },
      "execution_count": null,
      "outputs": []
    },
    {
      "cell_type": "code",
      "source": [
        "# Decomposição Multiplicativa\n",
        "\n",
        "serie2 <- m * s * x\n",
        "\n",
        "itsmr::plotc(serie2)\n",
        "itsmr::plota(serie2,h=250)"
      ],
      "metadata": {
        "id": "ZN8Q23-2Ov8R"
      },
      "execution_count": null,
      "outputs": []
    },
    {
      "cell_type": "code",
      "source": [
        "serie3 <- serie2*m^(-1)*s^(-1)\n",
        "itsmr::plotc(serie3)\n",
        "itsmr::plota(serie3,h=250)\n",
        "itsmr::plota(ARMA,h=250)"
      ],
      "metadata": {
        "id": "RNVdIzmhMb0S"
      },
      "execution_count": null,
      "outputs": []
    },
    {
      "cell_type": "code",
      "source": [
        "## SARIMA(0,1,1)x(0,1,1)_12\n",
        "sarima <- sarima.sim(d=0, ma=-.4, D=1, sma=-.6, S=12, n=n)\n",
        "astsa::tsplot(sarima)\n",
        "astsa::acf2(sarima)"
      ],
      "metadata": {
        "id": "ZpqHS96eF4N4"
      },
      "execution_count": null,
      "outputs": []
    }
  ]
}