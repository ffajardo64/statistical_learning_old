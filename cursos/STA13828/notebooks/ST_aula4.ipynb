{
  "nbformat": 4,
  "nbformat_minor": 0,
  "metadata": {
    "colab": {
      "private_outputs": true,
      "provenance": []
    },
    "kernelspec": {
      "name": "ir",
      "display_name": "R"
    },
    "language_info": {
      "name": "R"
    }
  },
  "cells": [
    {
      "cell_type": "markdown",
      "source": [
        "https://colab.to/r"
      ],
      "metadata": {
        "id": "XVU8VVa1u6bv"
      }
    },
    {
      "cell_type": "code",
      "execution_count": null,
      "metadata": {
        "id": "Hz1kFB3HuocN"
      },
      "outputs": [],
      "source": [
        "if(!require(itsmr)) install.packages(\"itsmr\", repos = \"http://cran.us.r-project.org\")\n",
        "if(!require(astsa)) install.packages(\"astsa\", repos = \"http://cran.us.r-project.org\")\n",
        "if(!require(TSA)) install.packages(\"TSA\", repos = \"http://cran.us.r-project.org\")\n",
        "if(!require(forecast)) install.packages(\"forecast\", repos = \"http://cran.us.r-project.org\")\n",
        "if(!require(lmtest)) install.packages(\"lmtest\", repos = \"http://cran.us.r-project.org\")\n",
        "if(!require(car)) install.packages(\"car\", repos = \"http://cran.us.r-project.org\")"
      ]
    },
    {
      "cell_type": "code",
      "source": [
        "# Aumentar o tamanho das figuras\n",
        "options(repr.plot.width=16, repr.plot.height=12)"
      ],
      "metadata": {
        "id": "G5epiVX-yTsO"
      },
      "execution_count": null,
      "outputs": []
    },
    {
      "cell_type": "code",
      "source": [
        "serie <- itsmr::airpass\n",
        "itsmr::plotc(serie)"
      ],
      "metadata": {
        "id": "ZWITr43jzTeI"
      },
      "execution_count": null,
      "outputs": []
    },
    {
      "cell_type": "code",
      "source": [
        "itsmr::plota(serie)"
      ],
      "metadata": {
        "id": "j6ISX6WizfQR"
      },
      "execution_count": null,
      "outputs": []
    },
    {
      "cell_type": "markdown",
      "source": [
        "## Removendo a tendência"
      ],
      "metadata": {
        "id": "R-BwfoSAzg0T"
      }
    },
    {
      "cell_type": "code",
      "source": [
        "itsmr::plotc(serie,itsmr::smooth.ma(serie,q=2))\n",
        "itsmr::plotc(serie-itsmr::smooth.ma(serie,q=2))\n",
        "itsmr::plota(serie-itsmr::smooth.ma(serie,q=2))"
      ],
      "metadata": {
        "id": "jlnm9aonzjwG"
      },
      "execution_count": null,
      "outputs": []
    },
    {
      "cell_type": "code",
      "source": [
        "itsmr::plotc(serie,itsmr::smooth.exp(serie, alpha = 0.4))\n",
        "itsmr::plotc(serie-itsmr::smooth.exp(serie, alpha = 0.4))\n",
        "itsmr::plota(serie-itsmr::smooth.exp(serie, alpha = 0.4))"
      ],
      "metadata": {
        "id": "Ox-JUnNV1tkv"
      },
      "execution_count": null,
      "outputs": []
    },
    {
      "cell_type": "code",
      "source": [
        "itsmr::plotc(serie,itsmr::smooth.fft(serie, f = 0.4))\n",
        "itsmr::plotc(serie-itsmr::smooth.fft(serie, f = 0.4))\n",
        "itsmr::plota(serie-itsmr::smooth.fft(serie, f = 0.4))"
      ],
      "metadata": {
        "id": "e8KZQMch1_2L"
      },
      "execution_count": null,
      "outputs": []
    },
    {
      "cell_type": "code",
      "source": [
        "itsmr::plotc(serie,itsmr::trend(serie,1))\n",
        "itsmr::plotc(serie-itsmr::trend(serie,1))\n",
        "itsmr::plota(serie-itsmr::trend(serie,1))"
      ],
      "metadata": {
        "id": "oQZk8WES2NO-"
      },
      "execution_count": null,
      "outputs": []
    },
    {
      "cell_type": "code",
      "source": [
        "dserie<-diff(serie)\n",
        "itsmr::plotc(serie,dserie)\n",
        "itsmr::plota(dserie)"
      ],
      "metadata": {
        "id": "T1bLcPtc3teW"
      },
      "execution_count": null,
      "outputs": []
    },
    {
      "cell_type": "code",
      "source": [
        "ddserie_12<-diff(dserie,12)\n",
        "itsmr::plotc(ddserie_12)\n",
        "itsmr::plota(ddserie_12)"
      ],
      "metadata": {
        "id": "2SBGt2bb5ev8"
      },
      "execution_count": null,
      "outputs": []
    },
    {
      "cell_type": "code",
      "source": [
        "TSA::eacf(ddserie_12)"
      ],
      "metadata": {
        "id": "bE8XmJz4FUOA"
      },
      "execution_count": null,
      "outputs": []
    },
    {
      "cell_type": "markdown",
      "source": [
        "## Tentativa 1. Usando função para ajuste automático"
      ],
      "metadata": {
        "id": "sGb6VFBNK9LX"
      }
    },
    {
      "cell_type": "code",
      "source": [
        "?forecast::auto.arima"
      ],
      "metadata": {
        "id": "9eeH4dD8EV4q"
      },
      "execution_count": null,
      "outputs": []
    },
    {
      "cell_type": "code",
      "source": [
        "treino <- ts(serie[1:132])\n",
        "teste <- ts(serie[133:144])\n",
        "\n",
        "modelo <- forecast::auto.arima(treino, stepwise = TRUE)"
      ],
      "metadata": {
        "id": "aCp9NANJ3-el"
      },
      "execution_count": null,
      "outputs": []
    },
    {
      "cell_type": "code",
      "source": [
        "summary(modelo)"
      ],
      "metadata": {
        "id": "N21omE5-BcqX"
      },
      "execution_count": null,
      "outputs": []
    },
    {
      "cell_type": "code",
      "source": [
        "lmtest::coeftest(modelo)"
      ],
      "metadata": {
        "id": "08ABQN4a9HL5"
      },
      "execution_count": null,
      "outputs": []
    },
    {
      "cell_type": "code",
      "source": [
        "forecast::accuracy(modelo$fitted, treino)"
      ],
      "metadata": {
        "id": "XXLs8huVBqmu"
      },
      "execution_count": null,
      "outputs": []
    },
    {
      "cell_type": "code",
      "source": [
        "plotc(treino,modelo$fitted)"
      ],
      "metadata": {
        "id": "FYx7RMqNHTOB"
      },
      "execution_count": null,
      "outputs": []
    },
    {
      "cell_type": "code",
      "source": [
        "tsdiag(modelo)"
      ],
      "metadata": {
        "id": "d_Wx4HosB4Xp"
      },
      "execution_count": null,
      "outputs": []
    },
    {
      "cell_type": "code",
      "source": [
        "test(modelo$residuals)"
      ],
      "metadata": {
        "id": "8ysR4On8Cpd1"
      },
      "execution_count": null,
      "outputs": []
    },
    {
      "cell_type": "code",
      "source": [
        "car::qqPlot(modelo$res)"
      ],
      "metadata": {
        "id": "B5GpecgGEzFN"
      },
      "execution_count": null,
      "outputs": []
    },
    {
      "cell_type": "code",
      "source": [
        "plot(forecast(modelo,h=12))"
      ],
      "metadata": {
        "id": "hXLlS1p0E7Ow"
      },
      "execution_count": null,
      "outputs": []
    },
    {
      "cell_type": "code",
      "source": [
        "forecast::accuracy(teste, as.numeric(forecast(modelo,h=12)$mean))"
      ],
      "metadata": {
        "id": "sY5NJkX8G7UQ"
      },
      "execution_count": null,
      "outputs": []
    },
    {
      "cell_type": "markdown",
      "source": [
        "## Tentativa 2"
      ],
      "metadata": {
        "id": "fEopM7mPK28-"
      }
    },
    {
      "cell_type": "code",
      "source": [
        "modelo2 <- forecast::Arima(treino, order=c(1,1,0), seasonal=list(order=c(0,1,0), period=12))\n",
        "summary(modelo2)"
      ],
      "metadata": {
        "id": "wxCyNPMnH1eb"
      },
      "execution_count": null,
      "outputs": []
    },
    {
      "cell_type": "code",
      "source": [
        "lmtest::coeftest(modelo2)"
      ],
      "metadata": {
        "id": "Tr9tz3O2Jy1D"
      },
      "execution_count": null,
      "outputs": []
    },
    {
      "cell_type": "code",
      "source": [
        "plotc(treino,modelo2$fitted)"
      ],
      "metadata": {
        "id": "KVjCyhj2JSOg"
      },
      "execution_count": null,
      "outputs": []
    },
    {
      "cell_type": "code",
      "source": [
        "forecast::accuracy(modelo2$fitted, treino)"
      ],
      "metadata": {
        "id": "2F-Flo6HIOiE"
      },
      "execution_count": null,
      "outputs": []
    },
    {
      "cell_type": "code",
      "source": [
        "tsdiag(modelo2)"
      ],
      "metadata": {
        "id": "i2-O1DRlKA6A"
      },
      "execution_count": null,
      "outputs": []
    },
    {
      "cell_type": "code",
      "source": [
        "test(modelo2$residuals)"
      ],
      "metadata": {
        "id": "BYrcwYZzKEl3"
      },
      "execution_count": null,
      "outputs": []
    },
    {
      "cell_type": "code",
      "source": [
        "car::qqPlot(modelo2$res)"
      ],
      "metadata": {
        "id": "ZHENIEgPKQsO"
      },
      "execution_count": null,
      "outputs": []
    },
    {
      "cell_type": "code",
      "source": [
        "plot(forecast(modelo2,h=12))"
      ],
      "metadata": {
        "id": "J0xrtK1TKYDw"
      },
      "execution_count": null,
      "outputs": []
    },
    {
      "cell_type": "code",
      "source": [
        "forecast::accuracy(teste, as.numeric(forecast(modelo2,h=12)$mean))"
      ],
      "metadata": {
        "id": "Crpr6BM7Kc_o"
      },
      "execution_count": null,
      "outputs": []
    }
  ]
}