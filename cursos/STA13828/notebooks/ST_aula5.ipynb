{
  "nbformat": 4,
  "nbformat_minor": 0,
  "metadata": {
    "colab": {
      "private_outputs": true,
      "provenance": []
    },
    "kernelspec": {
      "name": "ir",
      "display_name": "R"
    },
    "language_info": {
      "name": "R"
    }
  },
  "cells": [
    {
      "cell_type": "markdown",
      "source": [
        "https://colab.to/r"
      ],
      "metadata": {
        "id": "XVU8VVa1u6bv"
      }
    },
    {
      "cell_type": "code",
      "execution_count": null,
      "metadata": {
        "id": "Hz1kFB3HuocN"
      },
      "outputs": [],
      "source": [
        "if(!require(itsmr)) install.packages(\"itsmr\", repos = \"http://cran.us.r-project.org\")\n",
        "if(!require(astsa)) install.packages(\"astsa\", repos = \"http://cran.us.r-project.org\")\n",
        "if(!require(TSA)) install.packages(\"TSA\", repos = \"http://cran.us.r-project.org\")\n",
        "if(!require(forecast)) install.packages(\"forecast\", repos = \"http://cran.us.r-project.org\")\n",
        "if(!require(lmtest)) install.packages(\"lmtest\", repos = \"http://cran.us.r-project.org\")\n",
        "if(!require(car)) install.packages(\"car\", repos = \"http://cran.us.r-project.org\")"
      ]
    },
    {
      "cell_type": "code",
      "source": [
        "# Aumentar o tamanho das figuras\n",
        "options(repr.plot.width=16, repr.plot.height=12)"
      ],
      "metadata": {
        "id": "G5epiVX-yTsO"
      },
      "execution_count": null,
      "outputs": []
    },
    {
      "cell_type": "code",
      "source": [
        "data(AirPassengers); serie <- AirPassengers\n",
        "plot.ts(serie)"
      ],
      "metadata": {
        "id": "ZWITr43jzTeI"
      },
      "execution_count": null,
      "outputs": []
    },
    {
      "cell_type": "code",
      "source": [
        "itsmr::plota(serie)"
      ],
      "metadata": {
        "id": "j6ISX6WizfQR"
      },
      "execution_count": null,
      "outputs": []
    },
    {
      "cell_type": "markdown",
      "source": [
        "## Removendo a tendência"
      ],
      "metadata": {
        "id": "R-BwfoSAzg0T"
      }
    },
    {
      "cell_type": "code",
      "source": [
        "plot(decompose(serie))"
      ],
      "metadata": {
        "id": "jlnm9aonzjwG"
      },
      "execution_count": null,
      "outputs": []
    },
    {
      "cell_type": "code",
      "source": [
        "frequency(serie)"
      ],
      "metadata": {
        "id": "nHYUFwq3YrXA"
      },
      "execution_count": null,
      "outputs": []
    },
    {
      "cell_type": "code",
      "source": [
        "cycle(serie)"
      ],
      "metadata": {
        "id": "Ox-JUnNV1tkv"
      },
      "execution_count": null,
      "outputs": []
    },
    {
      "cell_type": "code",
      "source": [
        "boxplot(serie~cycle(serie),xlab=\"Mês\", ylab = \"Número de Passageiros x 1000\" ,main =\"Boxplot Mensal de Passageiros 1949-1961\")"
      ],
      "metadata": {
        "id": "e8KZQMch1_2L"
      },
      "execution_count": null,
      "outputs": []
    },
    {
      "cell_type": "code",
      "source": [
        "?HoltWinters"
      ],
      "metadata": {
        "id": "3Tl_0Wp3az7s"
      },
      "execution_count": null,
      "outputs": []
    },
    {
      "cell_type": "code",
      "source": [
        "HW1 <- HoltWinters(serie)"
      ],
      "metadata": {
        "id": "oQZk8WES2NO-"
      },
      "execution_count": null,
      "outputs": []
    },
    {
      "cell_type": "markdown",
      "source": [
        "alfa: o **valor base**. Quanto maior, mais peso às observações mais recentes;\n",
        "\n",
        "beta: o **valor de tendência**. Quanto maior, significa que a inclinação da tendência é mais dependente das inclinações de tendência recentes;\n",
        "\n",
        "gama: o **componente sazonal**. Quanto maior, mais peso nos ciclos sazonais mais recentes."
      ],
      "metadata": {
        "id": "sQWe-Ha4aHZD"
      }
    },
    {
      "cell_type": "code",
      "source": [
        "HW2 <- HoltWinters(serie, alpha=0.8, beta=0.1, gamma=0.1)"
      ],
      "metadata": {
        "id": "T1bLcPtc3teW"
      },
      "execution_count": null,
      "outputs": []
    },
    {
      "cell_type": "code",
      "source": [
        "plot(serie, ylab=\"Passageiros\", xlim=c(1954,1958))\n",
        "lines(HW1$fitted[,1], lty=2, col=\"blue\")\n",
        "lines(HW2$fitted[,1], lty=2, col=\"red\")"
      ],
      "metadata": {
        "id": "2SBGt2bb5ev8"
      },
      "execution_count": null,
      "outputs": []
    },
    {
      "cell_type": "code",
      "source": [
        "HW1.pred <- predict(HW1, 12, prediction.interval = TRUE, level=0.95)"
      ],
      "metadata": {
        "id": "bE8XmJz4FUOA"
      },
      "execution_count": null,
      "outputs": []
    },
    {
      "cell_type": "code",
      "source": [
        "plot(serie, ylab=\"Passageiros\", xlim=c(1955.1,1962.1))\n",
        "lines(HW1$fitted[,1], lty=2, col=\"blue\")\n",
        "lines(HW1.pred[,1], col=\"red\") # Previsão\n",
        "lines(HW1.pred[,2], lty=2, col=\"green\") # Limite superior do intervalo\n",
        "lines(HW1.pred[,3], lty=2, col=\"green\") # Limite inferior do intervalo"
      ],
      "metadata": {
        "id": "i2PGXIlZbQF9"
      },
      "execution_count": null,
      "outputs": []
    },
    {
      "cell_type": "code",
      "source": [
        "HW3 <- HoltWinters(serie, seasonal = \"multiplicative\")"
      ],
      "metadata": {
        "id": "9eeH4dD8EV4q"
      },
      "execution_count": null,
      "outputs": []
    },
    {
      "cell_type": "code",
      "source": [
        "HW3.pred <- predict(HW3, 12, prediction.interval = TRUE, level=0.95)"
      ],
      "metadata": {
        "id": "gEAD-coIdfBN"
      },
      "execution_count": null,
      "outputs": []
    },
    {
      "cell_type": "code",
      "source": [
        "plot(serie, ylab=\"Passageiros\", xlim=c(1955.1,1962.1))\n",
        "lines(HW3$fitted[,1], lty=2, col=\"blue\")\n",
        "lines(HW3.pred[,1], col=\"red\")\n",
        "lines(HW3.pred[,2], lty=2, col=\"green\")\n",
        "lines(HW3.pred[,3], lty=2, col=\"green\")"
      ],
      "metadata": {
        "id": "aCp9NANJ3-el"
      },
      "execution_count": null,
      "outputs": []
    },
    {
      "cell_type": "code",
      "source": [
        "HW1_forecast <- forecast(HW1, h=12, level=c(80,95))\n",
        "plot(HW1_forecast, xlim=c(1955.1,1962.1))\n",
        "lines(HW1_forecast$fitted, lty=2, col=\"blue\")"
      ],
      "metadata": {
        "id": "N21omE5-BcqX"
      },
      "execution_count": null,
      "outputs": []
    },
    {
      "cell_type": "code",
      "source": [
        "acf(HW1_forecast$residuals, lag.max=20, na.action=na.pass)\n",
        "Box.test(HW1_forecast$residuals, lag=20, type=\"Ljung-Box\")\n",
        "hist(HW1_forecast$residuals)"
      ],
      "metadata": {
        "id": "08ABQN4a9HL5"
      },
      "execution_count": null,
      "outputs": []
    }
  ]
}