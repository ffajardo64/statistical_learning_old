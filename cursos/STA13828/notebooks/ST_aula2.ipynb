{
  "nbformat": 4,
  "nbformat_minor": 0,
  "metadata": {
    "colab": {
      "provenance": []
    },
    "kernelspec": {
      "name": "python3",
      "display_name": "Python 3"
    },
    "language_info": {
      "name": "python"
    }
  },
  "cells": [
    {
      "cell_type": "markdown",
      "source": [
        "# Aula de Séries Temporais I\n",
        "\n",
        "## Estimação da tendência"
      ],
      "metadata": {
        "id": "c_VtIjZZPXtb"
      }
    },
    {
      "cell_type": "code",
      "source": [
        "!jupyter-kernelspec list"
      ],
      "metadata": {
        "id": "KolLJQGTNTaf"
      },
      "execution_count": null,
      "outputs": []
    },
    {
      "cell_type": "code",
      "source": [
        "# activate R magic\n",
        "%load_ext rpy2.ipython"
      ],
      "metadata": {
        "id": "0IEmK7bVNXrC"
      },
      "execution_count": null,
      "outputs": []
    },
    {
      "cell_type": "code",
      "source": [
        "%%R\n",
        "if(!require(itsmr)) install.packages(\"itsmr\", repos = \"http://cran.us.r-project.org\")"
      ],
      "metadata": {
        "id": "A4lCtriBNb8m"
      },
      "execution_count": null,
      "outputs": []
    },
    {
      "cell_type": "code",
      "source": [
        "%%R\n",
        "# Exemplo 1.\n",
        "\n",
        "n <- 1000\n",
        "t <- 1:n\n",
        "serie1 <- 2*cos(2*pi*t*6/n) + 3*sin(2*pi*t*6/n)\n",
        "serie2 <- 4*cos(2*pi*t*10/n) + 5*sin(2*pi*t*10/n)\n",
        "serie3 <- 6*cos(2*pi*t*40/n) + 7*sin(2*pi*t*40/n)\n",
        "s <- serie1+serie2+serie3\n",
        "\n",
        "y <- rnorm(n,sd=10) #arima.sim(n=1000,list(order=c(1,0,0),ar=0.1))\n",
        "m <- 3.0 + 0.1*t\n",
        "x <- m + s + y\n",
        "\n",
        "series_all <- cbind(x,m,y)\n",
        "\n",
        "par(mfrow=c(3,1))\n",
        "plot.ts(y, main=\"Comp. estocástica\")\n",
        "plot.ts(m, main=\"Tendência\")\n",
        "plot.ts(x, main=\"Série gerada\")"
      ],
      "metadata": {
        "id": "fawrUJv2NwGu"
      },
      "execution_count": null,
      "outputs": []
    },
    {
      "cell_type": "code",
      "source": [
        "%%R\n",
        "itsmr::plotc(x,diff(x))\n",
        "itsmr::plota(x,h=100)\n",
        "itsmr::plota(diff(x),h=100)\n",
        "itsmr::plota(diff(x,12),h=100)"
      ],
      "metadata": {
        "id": "UvrbZ4PsOWSq"
      },
      "execution_count": null,
      "outputs": []
    },
    {
      "cell_type": "code",
      "source": [
        "%%R\n",
        "# Exemplo 2.\n",
        "\n",
        "plot(decompose(AirPassengers))"
      ],
      "metadata": {
        "id": "6wX8gdO_N1yw"
      },
      "execution_count": null,
      "outputs": []
    },
    {
      "cell_type": "code",
      "execution_count": null,
      "metadata": {
        "id": "E3e4BLRINLAi"
      },
      "outputs": [],
      "source": [
        "%%R\n",
        "# Exemplo 3.\n",
        "\n",
        "itsmr::plotc(strikes)\n",
        "itsmr::plota(strikes)"
      ]
    },
    {
      "cell_type": "code",
      "source": [
        "%%R\n",
        "## Method 1: Trend Estimation\n",
        "\n",
        "# 1. Smoothing with a finite moving average filter\n",
        "itsmr::plotc(strikes,smooth.ma(strikes,q=2)) #apply(embed(strikes,5), 1, mean)\n",
        "itsmr::plotc(strikes-smooth.ma(strikes,q=2))\n",
        "itsmr::plota(strikes-smooth.ma(strikes,q=2))"
      ],
      "metadata": {
        "id": "jXTS2TO9N9bi"
      },
      "execution_count": null,
      "outputs": []
    },
    {
      "cell_type": "code",
      "source": [
        "%%R\n",
        "# 2. Exponential smoothing\n",
        "itsmr::plotc(strikes,smooth.exp(strikes, alpha = 0.4))\n",
        "itsmr::plotc(strikes-smooth.exp(strikes, alpha = 0.4))\n",
        "itsmr::plota(strikes-smooth.exp(strikes, alpha = 0.4))"
      ],
      "metadata": {
        "id": "tw-4zsuvOC-G"
      },
      "execution_count": null,
      "outputs": []
    },
    {
      "cell_type": "code",
      "source": [
        "%%R\n",
        "# 3. Smoothing by elimination of high-frequency components.\n",
        "\n",
        "itsmr::plotc(strikes,smooth.fft(strikes, f = 0.4))\n",
        "itsmr::plotc(strikes-smooth.fft(strikes, f = 0.4))\n",
        "itsmr::plota(strikes-smooth.fft(strikes, f = 0.4))"
      ],
      "metadata": {
        "id": "fh6O8zcgOG1E"
      },
      "execution_count": null,
      "outputs": []
    },
    {
      "cell_type": "code",
      "source": [
        "%%R\n",
        "# 4. Polynomial fitting.\n",
        "itsmr::plotc(strikes,trend(strikes,3))\n",
        "itsmr::plotc(strikes-trend(strikes,3))\n",
        "itsmr::plota(strikes-trend(strikes,3))"
      ],
      "metadata": {
        "id": "MZsVia86OK_0"
      },
      "execution_count": null,
      "outputs": []
    }
  ]
}