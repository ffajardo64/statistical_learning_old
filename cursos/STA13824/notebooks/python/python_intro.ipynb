{
 "cells": [
  {
   "cell_type": "markdown",
   "id": "f8d59051",
   "metadata": {},
   "source": [
    "# Introdução ao python"
   ]
  },
  {
   "cell_type": "code",
   "execution_count": null,
   "id": "11fd035e",
   "metadata": {},
   "outputs": [],
   "source": [
    "print(\"Olá mundo!\")"
   ]
  },
  {
   "cell_type": "code",
   "execution_count": null,
   "id": "27a1d848",
   "metadata": {},
   "outputs": [],
   "source": [
    "help(print)"
   ]
  },
  {
   "cell_type": "markdown",
   "id": "7d8fee4b",
   "metadata": {},
   "source": [
    "### Carregando biblioteca pandas"
   ]
  },
  {
   "cell_type": "code",
   "execution_count": null,
   "id": "443819bd-4d40-4ed4-b075-e13aba4e5e36",
   "metadata": {},
   "outputs": [],
   "source": [
    "import pandas as pd"
   ]
  },
  {
   "cell_type": "markdown",
   "id": "1329bbfa",
   "metadata": {},
   "source": [
    "* Documentação para [pandas](https://pandas.pydata.org/)"
   ]
  },
  {
   "cell_type": "code",
   "execution_count": null,
   "id": "c7347a64",
   "metadata": {},
   "outputs": [],
   "source": [
    "arquivo = 'prostate.csv'\n",
    "dados = pd.read_csv(arquivo)"
   ]
  },
  {
   "cell_type": "code",
   "execution_count": null,
   "id": "25f97ce3",
   "metadata": {},
   "outputs": [],
   "source": [
    "dados.head(10)"
   ]
  },
  {
   "cell_type": "code",
   "execution_count": null,
   "id": "389c60d2",
   "metadata": {},
   "outputs": [],
   "source": [
    "dados.info()"
   ]
  },
  {
   "cell_type": "code",
   "execution_count": null,
   "id": "aeaac871",
   "metadata": {},
   "outputs": [],
   "source": [
    "dados.shape"
   ]
  },
  {
   "cell_type": "code",
   "execution_count": null,
   "id": "38646987",
   "metadata": {},
   "outputs": [],
   "source": [
    "dados.values"
   ]
  },
  {
   "cell_type": "code",
   "execution_count": null,
   "id": "8b8503e4",
   "metadata": {},
   "outputs": [],
   "source": [
    "dados.columns"
   ]
  },
  {
   "cell_type": "code",
   "execution_count": null,
   "id": "71ee7839",
   "metadata": {},
   "outputs": [],
   "source": [
    "dados.index"
   ]
  },
  {
   "cell_type": "code",
   "execution_count": null,
   "id": "5afaef82",
   "metadata": {},
   "outputs": [],
   "source": [
    "dados.set_index(\"age\")"
   ]
  },
  {
   "cell_type": "code",
   "execution_count": null,
   "id": "c2d42cb1",
   "metadata": {},
   "outputs": [],
   "source": [
    "dados.reset_index()"
   ]
  },
  {
   "cell_type": "code",
   "execution_count": null,
   "id": "75d2a380",
   "metadata": {},
   "outputs": [],
   "source": [
    "dados.reset_index(drop=True)"
   ]
  },
  {
   "cell_type": "code",
   "execution_count": null,
   "id": "478e022a",
   "metadata": {},
   "outputs": [],
   "source": [
    "dados.iloc[1:7,:4]"
   ]
  },
  {
   "cell_type": "code",
   "execution_count": null,
   "id": "9224240b",
   "metadata": {},
   "outputs": [],
   "source": [
    "dados.sort_values(\"age\", ascending=False) # use o argumento ascending=False para ordem decrescente"
   ]
  },
  {
   "cell_type": "code",
   "execution_count": null,
   "id": "1cf0b353",
   "metadata": {},
   "outputs": [],
   "source": [
    "dados.sort_values([\"age\",\"gleason\"], ascending=[True,False])"
   ]
  },
  {
   "cell_type": "code",
   "execution_count": null,
   "id": "a11b59e3",
   "metadata": {},
   "outputs": [],
   "source": [
    "dados[\"age\"]"
   ]
  },
  {
   "cell_type": "code",
   "execution_count": null,
   "id": "6846e08f",
   "metadata": {},
   "outputs": [],
   "source": [
    "dados[[\"age\",\"svi\"]]"
   ]
  },
  {
   "cell_type": "code",
   "execution_count": null,
   "id": "d5255159",
   "metadata": {},
   "outputs": [],
   "source": [
    "dados[\"age\"]>50"
   ]
  },
  {
   "cell_type": "code",
   "execution_count": null,
   "id": "268b50ab",
   "metadata": {},
   "outputs": [],
   "source": [
    "dados[dados[\"age\"]>50]"
   ]
  },
  {
   "cell_type": "code",
   "execution_count": null,
   "id": "efa13240",
   "metadata": {},
   "outputs": [],
   "source": [
    "dados[(dados[\"age\"]>50) & (dados[\"svi\"]==1)]"
   ]
  },
  {
   "cell_type": "code",
   "execution_count": null,
   "id": "8b6b37b7",
   "metadata": {},
   "outputs": [],
   "source": [
    "dados[\"mod_lbph\"]=abs(dados[\"lbph\"])\n",
    "dados.head()"
   ]
  },
  {
   "cell_type": "markdown",
   "id": "472ce45f",
   "metadata": {},
   "source": [
    "### Algumas estatísticas"
   ]
  },
  {
   "cell_type": "code",
   "execution_count": null,
   "id": "c9f1ec46",
   "metadata": {},
   "outputs": [],
   "source": [
    "dados.describe()"
   ]
  },
  {
   "cell_type": "code",
   "execution_count": null,
   "id": "1c70c241",
   "metadata": {},
   "outputs": [],
   "source": [
    "dados.mean() # média das variáveis"
   ]
  },
  {
   "cell_type": "code",
   "execution_count": null,
   "id": "e51cb47d",
   "metadata": {},
   "outputs": [],
   "source": [
    "dados[\"age\"].mean()"
   ]
  },
  {
   "cell_type": "markdown",
   "id": "d8e6ccb1",
   "metadata": {},
   "source": [
    "### Outras funções disponíveis\n",
    ".median(), .mode(), .min(), .max(), .var(), .std(), .sum(), .quantile()"
   ]
  },
  {
   "cell_type": "code",
   "execution_count": null,
   "id": "54c72366",
   "metadata": {},
   "outputs": [],
   "source": [
    "dados[\"age\"].mode()"
   ]
  },
  {
   "cell_type": "markdown",
   "id": "ade27841",
   "metadata": {},
   "source": [
    "### Método .agg()"
   ]
  },
  {
   "cell_type": "code",
   "execution_count": null,
   "id": "31500c9e",
   "metadata": {},
   "outputs": [],
   "source": [
    "def quantil_30(column):\n",
    "    return column.quantile(0.3)\n",
    "\n",
    "dados[\"age\"].agg(quantil_30)"
   ]
  },
  {
   "cell_type": "code",
   "execution_count": null,
   "id": "a820f5f6",
   "metadata": {},
   "outputs": [],
   "source": [
    "dados[[\"age\",\"lcavol\"]].agg(quantil_30)"
   ]
  },
  {
   "cell_type": "code",
   "execution_count": null,
   "id": "70c74ddb",
   "metadata": {},
   "outputs": [],
   "source": [
    "def mediana(column):\n",
    "    return column.quantile(0.5)"
   ]
  },
  {
   "cell_type": "code",
   "execution_count": null,
   "id": "db9c2a66",
   "metadata": {},
   "outputs": [],
   "source": [
    "dados[[\"age\",\"lcavol\"]].agg([quantil_30,mediana])"
   ]
  },
  {
   "cell_type": "markdown",
   "id": "822a38f7",
   "metadata": {},
   "source": [
    "### Valores duplicados"
   ]
  },
  {
   "cell_type": "code",
   "execution_count": null,
   "id": "7f8ef8fd",
   "metadata": {},
   "outputs": [],
   "source": [
    "dados.drop_duplicates(subset=\"train\") # deleta valores duplicados"
   ]
  },
  {
   "cell_type": "code",
   "execution_count": null,
   "id": "16c80905",
   "metadata": {
    "scrolled": true
   },
   "outputs": [],
   "source": [
    "dados"
   ]
  },
  {
   "cell_type": "code",
   "execution_count": null,
   "id": "9029e019",
   "metadata": {},
   "outputs": [],
   "source": [
    "dados.drop(['lpsa'], axis = 1)"
   ]
  },
  {
   "cell_type": "code",
   "execution_count": null,
   "id": "b58b4510",
   "metadata": {},
   "outputs": [],
   "source": [
    "dados.head()"
   ]
  },
  {
   "cell_type": "code",
   "execution_count": null,
   "id": "23bf8925",
   "metadata": {},
   "outputs": [],
   "source": [
    "dados[\"train\"].value_counts()"
   ]
  },
  {
   "cell_type": "code",
   "execution_count": null,
   "id": "f1487dd6",
   "metadata": {},
   "outputs": [],
   "source": [
    "dados[\"train\"].value_counts(normalize=True)*100"
   ]
  },
  {
   "cell_type": "markdown",
   "id": "68c95bc7",
   "metadata": {},
   "source": [
    "### Resumo por grupos"
   ]
  },
  {
   "cell_type": "code",
   "execution_count": null,
   "id": "0d5ea814",
   "metadata": {},
   "outputs": [],
   "source": [
    "dados.groupby(\"train\")[\"age\"].mean()"
   ]
  },
  {
   "cell_type": "code",
   "execution_count": null,
   "id": "385caab9",
   "metadata": {},
   "outputs": [],
   "source": [
    "dados.groupby(\"train\")[\"age\"].agg([min, max, sum, quantil_30])"
   ]
  },
  {
   "cell_type": "code",
   "execution_count": null,
   "id": "4926cda8",
   "metadata": {},
   "outputs": [],
   "source": [
    "dados.groupby([\"train\",\"svi\"])[\"age\"].agg([min, max, sum, quantil_30])"
   ]
  },
  {
   "cell_type": "code",
   "execution_count": null,
   "id": "2c0dd008",
   "metadata": {},
   "outputs": [],
   "source": [
    "dados.groupby([\"train\",\"svi\"])[[\"age\",\"lweight\"]].agg([min, max, sum, quantil_30])"
   ]
  },
  {
   "cell_type": "markdown",
   "id": "a454103c",
   "metadata": {},
   "source": [
    "### Agrupando em tabelas pivote (pivot table)"
   ]
  },
  {
   "cell_type": "code",
   "execution_count": null,
   "id": "fda6e8a7",
   "metadata": {},
   "outputs": [],
   "source": [
    "import numpy as np\n",
    "\n",
    "dados.pivot_table(values=\"age\", index=\"train\", aggfunc=np.median)"
   ]
  },
  {
   "cell_type": "code",
   "execution_count": null,
   "id": "160ded98",
   "metadata": {},
   "outputs": [],
   "source": [
    "dados.pivot_table(values=[\"age\",\"lweight\"], index=\"train\", aggfunc=[np.median, np.mean])"
   ]
  },
  {
   "cell_type": "markdown",
   "id": "c130b4d7",
   "metadata": {},
   "source": [
    "### Visualizando os dados"
   ]
  },
  {
   "cell_type": "code",
   "execution_count": null,
   "id": "7cd9f112",
   "metadata": {},
   "outputs": [],
   "source": [
    "import matplotlib.pyplot as plt "
   ]
  },
  {
   "cell_type": "markdown",
   "id": "391bcf51",
   "metadata": {},
   "source": [
    "* Documentação biblioteca [matplotlib](https://matplotlib.org/)"
   ]
  },
  {
   "cell_type": "code",
   "execution_count": null,
   "id": "c1c747b5",
   "metadata": {},
   "outputs": [],
   "source": [
    "dados['age'].hist()\n",
    "plt.show()"
   ]
  },
  {
   "cell_type": "code",
   "execution_count": null,
   "id": "7c7407b4",
   "metadata": {},
   "outputs": [],
   "source": [
    "dados['age'].hist(bins=20)\n",
    "plt.show()"
   ]
  },
  {
   "cell_type": "code",
   "execution_count": null,
   "id": "71fb8014",
   "metadata": {},
   "outputs": [],
   "source": [
    "dados[dados[\"train\"]==\"T\"][\"age\"].hist(alpha=0.7)\n",
    "dados[dados[\"train\"]==\"F\"][\"age\"].hist(alpha=0.7)\n",
    "plt.legend([\"T\", \"F\"])\n",
    "plt.show()"
   ]
  },
  {
   "cell_type": "code",
   "execution_count": null,
   "id": "0a71ffa3",
   "metadata": {},
   "outputs": [],
   "source": [
    "media_idades = dados.groupby(\"train\")[\"age\"].mean()\n",
    "print(media_idades)"
   ]
  },
  {
   "cell_type": "code",
   "execution_count": null,
   "id": "c7e1cd26",
   "metadata": {},
   "outputs": [],
   "source": [
    "media_idades.plot(kind=\"bar\",rot=360)\n",
    "plt.show()"
   ]
  },
  {
   "cell_type": "code",
   "execution_count": null,
   "id": "e1fafe5c",
   "metadata": {},
   "outputs": [],
   "source": [
    "dados.plot(x=\"age\", y=\"lweight\", kind=\"scatter\")\n",
    "plt.title('Idade vs log peso')\n",
    "plt.xlabel('Idade')\n",
    "plt.ylabel('log peso')\n",
    "plt.show()"
   ]
  },
  {
   "cell_type": "code",
   "execution_count": null,
   "id": "da82ff18",
   "metadata": {},
   "outputs": [],
   "source": [
    "import seaborn as sns\n",
    "\n",
    "sns.boxplot(x=dados[\"age\"])\n",
    "plt.show()"
   ]
  },
  {
   "cell_type": "code",
   "execution_count": null,
   "id": "76ceac78",
   "metadata": {},
   "outputs": [],
   "source": [
    "sns.regplot(x=dados[\"age\"], y=dados[\"lweight\"])\n",
    "plt.show()"
   ]
  },
  {
   "cell_type": "code",
   "execution_count": null,
   "id": "eb4f8638",
   "metadata": {},
   "outputs": [],
   "source": [
    "sns.pairplot(dados, kind=\"reg\")\n",
    "plt.show()"
   ]
  },
  {
   "cell_type": "code",
   "execution_count": null,
   "id": "4ea256f6",
   "metadata": {},
   "outputs": [],
   "source": [
    "dados.isna()"
   ]
  },
  {
   "cell_type": "code",
   "execution_count": null,
   "id": "183a85a8",
   "metadata": {},
   "outputs": [],
   "source": [
    "from sklearn.linear_model import LinearRegression"
   ]
  },
  {
   "cell_type": "code",
   "execution_count": null,
   "id": "866e3766",
   "metadata": {},
   "outputs": [],
   "source": [
    "X = dados[\"age\"].values.reshape(-1, 1)  # values converts it into a numpy array\n",
    "Y = dados[\"lweight\"].values.reshape(-1, 1)  # -1 means that calculate the dimension of rows, but have 1 column\n",
    "linear_regressor.fit(X, Y)  # perform linear regression\n",
    "Y_pred = linear_regressor.predict(X)  # make predictions\n",
    "plt.scatter(X, Y)\n",
    "plt.plot(X, Y_pred, color='red')\n",
    "plt.show()"
   ]
  }
 ],
 "metadata": {
  "kernelspec": {
   "display_name": "Python 3",
   "language": "python",
   "name": "python3"
  },
  "language_info": {
   "codemirror_mode": {
    "name": "ipython",
    "version": 3
   },
   "file_extension": ".py",
   "mimetype": "text/x-python",
   "name": "python",
   "nbconvert_exporter": "python",
   "pygments_lexer": "ipython3",
   "version": "3.8.10"
  }
 },
 "nbformat": 4,
 "nbformat_minor": 5
}
