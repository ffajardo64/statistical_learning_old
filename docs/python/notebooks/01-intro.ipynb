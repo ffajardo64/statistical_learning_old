{
 "cells": [
  {
   "cell_type": "markdown",
   "id": "b8a4342a",
   "metadata": {
    "slideshow": {
     "slide_type": "slide"
    }
   },
   "source": [
    "<center><img src=\"./images/intro.png\" width=\"1400\"></center>"
   ]
  },
  {
   "cell_type": "markdown",
   "id": "c7fe07c0",
   "metadata": {
    "slideshow": {
     "slide_type": "slide"
    }
   },
   "source": [
    "# Vantagens do Python\n",
    "\n",
    "* Python é uma linguagem de programação de alto nı́vel;"
   ]
  },
  {
   "cell_type": "markdown",
   "id": "56db235a",
   "metadata": {
    "slideshow": {
     "slide_type": "fragment"
    }
   },
   "source": [
    "**<span style=\"color:rgba(141, 0, 69, 1)\">O que é uma linguagem de alto nivel?</span>**\n",
    "\n",
    "<span style=\"color:rgba(12, 47, 189, 1)\">\n",
    "Linguagem de programação de alto nı́vel é uma linguagem com um nı́vel de abstração relativamente elevado, longe do código de máquina e mais próximo à linguagem humana. Outras linguagens de alto nı́vel de que você já pode ter ouvido falar são C/C++, R, Basic/VisualBasic, PHP, Java, JavaScript, entre outros.</span>"
   ]
  },
  {
   "cell_type": "markdown",
   "id": "de326e18",
   "metadata": {
    "slideshow": {
     "slide_type": "fragment"
    }
   },
   "source": [
    "* **Portável**: o que significa que pode rodar em diferentes tipos de computador, com pouca ou nenhuma modificação."
   ]
  },
  {
   "cell_type": "markdown",
   "id": "c0cecf25",
   "metadata": {
    "slideshow": {
     "slide_type": "fragment"
    }
   },
   "source": [
    "* **Multiplataforma**: Roda em ambientes Linux, Windows, MacOS, smartphones, celulares, entre outros sistemas."
   ]
  },
  {
   "cell_type": "markdown",
   "id": "a90744af",
   "metadata": {
    "slideshow": {
     "slide_type": "slide"
    }
   },
   "source": [
    "# Vantagens do Python\n",
    "\n",
    "* **Linguagem Interpretada**: Python é considerada uma linguagem interpretada, pois os programas em Python são executados por um interpretador."
   ]
  },
  {
   "cell_type": "markdown",
   "id": "2c119ce4",
   "metadata": {
    "slideshow": {
     "slide_type": "fragment"
    }
   },
   "source": [
    "**<span style=\"color:rgba(141, 0, 69, 1)\">O que é um interpretador?</span>**\n",
    "\n",
    "<span style=\"color:rgba(12, 47, 189, 1)\">\n",
    "O interpretador lê um programa escrito em linguagem de alto nível e o executa, ou seja, faz o que o programa diz.</span>"
   ]
  },
  {
   "cell_type": "markdown",
   "id": "3477b174",
   "metadata": {
    "slideshow": {
     "slide_type": "fragment"
    }
   },
   "source": [
    "* **Análise de dados**: Python é usada principalmente quando a sua análise de dados precisa ser integrada com aplicativos web ou se o código estatı́stico precisa ser integrado em um servidor em ambiente de produção, que vai servir muitos usuários."
   ]
  },
  {
   "cell_type": "markdown",
   "id": "6b101e23",
   "metadata": {
    "slideshow": {
     "slide_type": "slide"
    }
   },
   "source": [
    "# Vantagens do Python\n",
    "\n",
    "* É uma das linguagens de programação mais usadas nos últimos anos. \n",
    "    - [Most Popular Programming Languages on Stack Overflow Bar Chart Race 2019](https://youtu.be/cKzP61Gjf00);\n",
    "    - [Top Programming Languages 2021 ](https://spectrum.ieee.org/top-programming-languages/). As classificações são criadas ponderando e combinando 11 métricas de oito fontes: [CareerBuilder](https://www.careerbuilder.com/), [GitHub](https://github.com/), [Google](https://www.google.com/), [Hacker News](https://news.ycombinator.com/news), [IEEE](https://www.ieee.org/), [Reddit](https://www.reddit.com/), [Stack Overflow](https://stackoverflow.com/) e [Twitter](https://twitter.com/). (Detalhes sobre o método e as fontes [aqui](https://spectrum.ieee.org/ieee-top-programming-languages-design-methods-and-data-sources)).\n",
    "    - [Developer survey 2021](https://bit.ly/3BiOOET): Em maio de 2021, mais de 80.000 desenvolvedores nos contaram como aprendem e sobem de nível, quais ferramentas estão usando e o que desejam.\n",
    "    - [Stack Overflow](https://www.globalapptesting.com/blog/picking-apart-stackoverflow-what-bugs-developers-the-most)"
   ]
  },
  {
   "cell_type": "markdown",
   "id": "629fdcf2",
   "metadata": {
    "slideshow": {
     "slide_type": "slide"
    }
   },
   "source": [
    "### As linguagens de programação mais populares 1965 - 2020"
   ]
  },
  {
   "cell_type": "code",
   "execution_count": 28,
   "id": "35c8f7a5",
   "metadata": {
    "slideshow": {
     "slide_type": "notes"
    }
   },
   "outputs": [],
   "source": [
    "from IPython.display import Video\n",
    "import IPython.display as ip"
   ]
  },
  {
   "cell_type": "code",
   "execution_count": 2,
   "id": "08dfd39a",
   "metadata": {
    "scrolled": false,
    "slideshow": {
     "slide_type": "-"
    }
   },
   "outputs": [
    {
     "data": {
      "text/html": [
       "<video src=\"videos/Most_Popular_Programming_Languages_1965_2020.mp4\" controls  width=\"900\"  height=\"700\">\n",
       "      Your browser does not support the <code>video</code> element.\n",
       "    </video>"
      ],
      "text/plain": [
       "<IPython.core.display.Video object>"
      ]
     },
     "execution_count": 2,
     "metadata": {},
     "output_type": "execute_result"
    }
   ],
   "source": [
    "Video(\"videos/Most_Popular_Programming_Languages_1965_2020.mp4\",width=900,height=700)"
   ]
  },
  {
   "cell_type": "markdown",
   "id": "9b9ea1ce",
   "metadata": {
    "slideshow": {
     "slide_type": "slide"
    }
   },
   "source": [
    "# Instalando python 3.x"
   ]
  },
  {
   "cell_type": "markdown",
   "id": "0eee97ca",
   "metadata": {
    "slideshow": {
     "slide_type": "slide"
    }
   },
   "source": [
    "# Python Brasil"
   ]
  },
  {
   "cell_type": "code",
   "execution_count": 3,
   "id": "da9c8383",
   "metadata": {
    "scrolled": false,
    "slideshow": {
     "slide_type": "-"
    }
   },
   "outputs": [
    {
     "data": {
      "text/html": [
       "\n",
       "        <iframe\n",
       "            width=\"100%\"\n",
       "            height=\"650\"\n",
       "            src=\"https://python.org.br/\"\n",
       "            frameborder=\"0\"\n",
       "            allowfullscreen\n",
       "        ></iframe>\n",
       "        "
      ],
      "text/plain": [
       "<IPython.lib.display.IFrame at 0x7f816c5cf130>"
      ]
     },
     "execution_count": 3,
     "metadata": {},
     "output_type": "execute_result"
    }
   ],
   "source": [
    "ip.IFrame('https://python.org.br/', width='100%', height=650)"
   ]
  },
  {
   "cell_type": "markdown",
   "id": "3f056565",
   "metadata": {
    "slideshow": {
     "slide_type": "slide"
    }
   },
   "source": [
    "## Versões do Python"
   ]
  },
  {
   "cell_type": "code",
   "execution_count": 62,
   "id": "03105202",
   "metadata": {
    "scrolled": false,
    "slideshow": {
     "slide_type": "-"
    }
   },
   "outputs": [
    {
     "data": {
      "text/html": [
       "\n",
       "        <iframe\n",
       "            width=\"100%\"\n",
       "            height=\"650\"\n",
       "            src=\"https://python-release-cycle.glitch.me/\"\n",
       "            frameborder=\"0\"\n",
       "            allowfullscreen\n",
       "        ></iframe>\n",
       "        "
      ],
      "text/plain": [
       "<IPython.lib.display.IFrame at 0x7f412263b1f0>"
      ]
     },
     "execution_count": 62,
     "metadata": {},
     "output_type": "execute_result"
    }
   ],
   "source": [
    "ip.IFrame('https://python-release-cycle.glitch.me/', width='100%', height=650)"
   ]
  },
  {
   "cell_type": "markdown",
   "id": "bacfa67d",
   "metadata": {},
   "source": [
    "<a href=\"https://docs.python.org/pt-br/3.11/whatsnew/3.10.html\">O que há de novo no Python 3.11?</a>"
   ]
  },
  {
   "cell_type": "markdown",
   "id": "1bdc40d2",
   "metadata": {
    "slideshow": {
     "slide_type": "slide"
    }
   },
   "source": [
    "# Ajuda no Python"
   ]
  },
  {
   "cell_type": "markdown",
   "id": "10490bc1",
   "metadata": {
    "slideshow": {
     "slide_type": "slide"
    }
   },
   "source": [
    "# Ajuda\n",
    "\n",
    "A função `help(<objeto>)` invoca o sistema de ajuda integrado do **Python**.\n",
    "\n",
    "Se o argumento for uma *string*, a *string* será tratada como o nome de um **módulo**, **função**, **classe**, **palavra-chave** ou **tópico da documentação** e uma página de ajuda será mostrada no console. Se o argumento for qualquer outro tipo de objeto, uma página de ajuda no objeto será exibida."
   ]
  },
  {
   "cell_type": "code",
   "execution_count": 5,
   "id": "e6daa28d",
   "metadata": {
    "slideshow": {
     "slide_type": "-"
    }
   },
   "outputs": [
    {
     "name": "stdout",
     "output_type": "stream",
     "text": [
      "Help on built-in function print in module builtins:\n",
      "\n",
      "print(...)\n",
      "    print(value, ..., sep=' ', end='\\n', file=sys.stdout, flush=False)\n",
      "    \n",
      "    Prints the values to a stream, or to sys.stdout by default.\n",
      "    Optional keyword arguments:\n",
      "    file:  a file-like object (stream); defaults to the current sys.stdout.\n",
      "    sep:   string inserted between values, default a space.\n",
      "    end:   string appended after the last value, default a newline.\n",
      "    flush: whether to forcibly flush the stream.\n",
      "\n"
     ]
    }
   ],
   "source": [
    "help(\"print\") # Função"
   ]
  },
  {
   "cell_type": "markdown",
   "id": "64309fc9",
   "metadata": {
    "slideshow": {
     "slide_type": "slide"
    }
   },
   "source": [
    "# Ajuda"
   ]
  },
  {
   "cell_type": "code",
   "execution_count": 6,
   "id": "11065282",
   "metadata": {
    "slideshow": {
     "slide_type": "-"
    }
   },
   "outputs": [
    {
     "name": "stdout",
     "output_type": "stream",
     "text": [
      "Help on built-in module math:\n",
      "\n",
      "NAME\n",
      "    math\n",
      "\n",
      "DESCRIPTION\n",
      "    This module provides access to the mathematical functions\n",
      "    defined by the C standard.\n",
      "\n",
      "FUNCTIONS\n",
      "    acos(x, /)\n",
      "        Return the arc cosine (measured in radians) of x.\n",
      "    \n",
      "    acosh(x, /)\n",
      "        Return the inverse hyperbolic cosine of x.\n",
      "    \n",
      "    asin(x, /)\n",
      "        Return the arc sine (measured in radians) of x.\n",
      "    \n",
      "    asinh(x, /)\n",
      "        Return the inverse hyperbolic sine of x.\n",
      "    \n",
      "    atan(x, /)\n",
      "        Return the arc tangent (measured in radians) of x.\n",
      "    \n",
      "    atan2(y, x, /)\n",
      "        Return the arc tangent (measured in radians) of y/x.\n",
      "        \n",
      "        Unlike atan(y/x), the signs of both x and y are considered.\n",
      "    \n",
      "    atanh(x, /)\n",
      "        Return the inverse hyperbolic tangent of x.\n",
      "    \n",
      "    ceil(x, /)\n",
      "        Return the ceiling of x as an Integral.\n",
      "        \n",
      "        This is the smallest integer >= x.\n",
      "    \n",
      "    comb(n, k, /)\n",
      "        Number of ways to choose k items from n items without repetition and without order.\n",
      "        \n",
      "        Evaluates to n! / (k! * (n - k)!) when k <= n and evaluates\n",
      "        to zero when k > n.\n",
      "        \n",
      "        Also called the binomial coefficient because it is equivalent\n",
      "        to the coefficient of k-th term in polynomial expansion of the\n",
      "        expression (1 + x)**n.\n",
      "        \n",
      "        Raises TypeError if either of the arguments are not integers.\n",
      "        Raises ValueError if either of the arguments are negative.\n",
      "    \n",
      "    copysign(x, y, /)\n",
      "        Return a float with the magnitude (absolute value) of x but the sign of y.\n",
      "        \n",
      "        On platforms that support signed zeros, copysign(1.0, -0.0)\n",
      "        returns -1.0.\n",
      "    \n",
      "    cos(x, /)\n",
      "        Return the cosine of x (measured in radians).\n",
      "    \n",
      "    cosh(x, /)\n",
      "        Return the hyperbolic cosine of x.\n",
      "    \n",
      "    degrees(x, /)\n",
      "        Convert angle x from radians to degrees.\n",
      "    \n",
      "    dist(p, q, /)\n",
      "        Return the Euclidean distance between two points p and q.\n",
      "        \n",
      "        The points should be specified as sequences (or iterables) of\n",
      "        coordinates.  Both inputs must have the same dimension.\n",
      "        \n",
      "        Roughly equivalent to:\n",
      "            sqrt(sum((px - qx) ** 2.0 for px, qx in zip(p, q)))\n",
      "    \n",
      "    erf(x, /)\n",
      "        Error function at x.\n",
      "    \n",
      "    erfc(x, /)\n",
      "        Complementary error function at x.\n",
      "    \n",
      "    exp(x, /)\n",
      "        Return e raised to the power of x.\n",
      "    \n",
      "    expm1(x, /)\n",
      "        Return exp(x)-1.\n",
      "        \n",
      "        This function avoids the loss of precision involved in the direct evaluation of exp(x)-1 for small x.\n",
      "    \n",
      "    fabs(x, /)\n",
      "        Return the absolute value of the float x.\n",
      "    \n",
      "    factorial(x, /)\n",
      "        Find x!.\n",
      "        \n",
      "        Raise a ValueError if x is negative or non-integral.\n",
      "    \n",
      "    floor(x, /)\n",
      "        Return the floor of x as an Integral.\n",
      "        \n",
      "        This is the largest integer <= x.\n",
      "    \n",
      "    fmod(x, y, /)\n",
      "        Return fmod(x, y), according to platform C.\n",
      "        \n",
      "        x % y may differ.\n",
      "    \n",
      "    frexp(x, /)\n",
      "        Return the mantissa and exponent of x, as pair (m, e).\n",
      "        \n",
      "        m is a float and e is an int, such that x = m * 2.**e.\n",
      "        If x is 0, m and e are both 0.  Else 0.5 <= abs(m) < 1.0.\n",
      "    \n",
      "    fsum(seq, /)\n",
      "        Return an accurate floating point sum of values in the iterable seq.\n",
      "        \n",
      "        Assumes IEEE-754 floating point arithmetic.\n",
      "    \n",
      "    gamma(x, /)\n",
      "        Gamma function at x.\n",
      "    \n",
      "    gcd(x, y, /)\n",
      "        greatest common divisor of x and y\n",
      "    \n",
      "    hypot(...)\n",
      "        hypot(*coordinates) -> value\n",
      "        \n",
      "        Multidimensional Euclidean distance from the origin to a point.\n",
      "        \n",
      "        Roughly equivalent to:\n",
      "            sqrt(sum(x**2 for x in coordinates))\n",
      "        \n",
      "        For a two dimensional point (x, y), gives the hypotenuse\n",
      "        using the Pythagorean theorem:  sqrt(x*x + y*y).\n",
      "        \n",
      "        For example, the hypotenuse of a 3/4/5 right triangle is:\n",
      "        \n",
      "            >>> hypot(3.0, 4.0)\n",
      "            5.0\n",
      "    \n",
      "    isclose(a, b, *, rel_tol=1e-09, abs_tol=0.0)\n",
      "        Determine whether two floating point numbers are close in value.\n",
      "        \n",
      "          rel_tol\n",
      "            maximum difference for being considered \"close\", relative to the\n",
      "            magnitude of the input values\n",
      "          abs_tol\n",
      "            maximum difference for being considered \"close\", regardless of the\n",
      "            magnitude of the input values\n",
      "        \n",
      "        Return True if a is close in value to b, and False otherwise.\n",
      "        \n",
      "        For the values to be considered close, the difference between them\n",
      "        must be smaller than at least one of the tolerances.\n",
      "        \n",
      "        -inf, inf and NaN behave similarly to the IEEE 754 Standard.  That\n",
      "        is, NaN is not close to anything, even itself.  inf and -inf are\n",
      "        only close to themselves.\n",
      "    \n",
      "    isfinite(x, /)\n",
      "        Return True if x is neither an infinity nor a NaN, and False otherwise.\n",
      "    \n",
      "    isinf(x, /)\n",
      "        Return True if x is a positive or negative infinity, and False otherwise.\n",
      "    \n",
      "    isnan(x, /)\n",
      "        Return True if x is a NaN (not a number), and False otherwise.\n",
      "    \n",
      "    isqrt(n, /)\n",
      "        Return the integer part of the square root of the input.\n",
      "    \n",
      "    ldexp(x, i, /)\n",
      "        Return x * (2**i).\n",
      "        \n",
      "        This is essentially the inverse of frexp().\n",
      "    \n",
      "    lgamma(x, /)\n",
      "        Natural logarithm of absolute value of Gamma function at x.\n",
      "    \n",
      "    log(...)\n",
      "        log(x, [base=math.e])\n",
      "        Return the logarithm of x to the given base.\n",
      "        \n",
      "        If the base not specified, returns the natural logarithm (base e) of x.\n",
      "    \n",
      "    log10(x, /)\n",
      "        Return the base 10 logarithm of x.\n",
      "    \n",
      "    log1p(x, /)\n",
      "        Return the natural logarithm of 1+x (base e).\n",
      "        \n",
      "        The result is computed in a way which is accurate for x near zero.\n",
      "    \n",
      "    log2(x, /)\n",
      "        Return the base 2 logarithm of x.\n",
      "    \n",
      "    modf(x, /)\n",
      "        Return the fractional and integer parts of x.\n",
      "        \n",
      "        Both results carry the sign of x and are floats.\n",
      "    \n",
      "    perm(n, k=None, /)\n",
      "        Number of ways to choose k items from n items without repetition and with order.\n",
      "        \n",
      "        Evaluates to n! / (n - k)! when k <= n and evaluates\n",
      "        to zero when k > n.\n",
      "        \n",
      "        If k is not specified or is None, then k defaults to n\n",
      "        and the function returns n!.\n",
      "        \n",
      "        Raises TypeError if either of the arguments are not integers.\n",
      "        Raises ValueError if either of the arguments are negative.\n",
      "    \n",
      "    pow(x, y, /)\n",
      "        Return x**y (x to the power of y).\n",
      "    \n",
      "    prod(iterable, /, *, start=1)\n",
      "        Calculate the product of all the elements in the input iterable.\n",
      "        \n",
      "        The default start value for the product is 1.\n",
      "        \n",
      "        When the iterable is empty, return the start value.  This function is\n",
      "        intended specifically for use with numeric values and may reject\n",
      "        non-numeric types.\n",
      "    \n",
      "    radians(x, /)\n",
      "        Convert angle x from degrees to radians.\n",
      "    \n",
      "    remainder(x, y, /)\n",
      "        Difference between x and the closest integer multiple of y.\n",
      "        \n",
      "        Return x - n*y where n*y is the closest integer multiple of y.\n",
      "        In the case where x is exactly halfway between two multiples of\n",
      "        y, the nearest even value of n is used. The result is always exact.\n",
      "    \n",
      "    sin(x, /)\n",
      "        Return the sine of x (measured in radians).\n",
      "    \n",
      "    sinh(x, /)\n",
      "        Return the hyperbolic sine of x.\n",
      "    \n",
      "    sqrt(x, /)\n",
      "        Return the square root of x.\n",
      "    \n",
      "    tan(x, /)\n",
      "        Return the tangent of x (measured in radians).\n",
      "    \n",
      "    tanh(x, /)\n",
      "        Return the hyperbolic tangent of x.\n",
      "    \n",
      "    trunc(x, /)\n",
      "        Truncates the Real x to the nearest Integral toward 0.\n",
      "        \n",
      "        Uses the __trunc__ magic method.\n",
      "\n",
      "DATA\n",
      "    e = 2.718281828459045\n",
      "    inf = inf\n",
      "    nan = nan\n",
      "    pi = 3.141592653589793\n",
      "    tau = 6.283185307179586\n",
      "\n",
      "FILE\n",
      "    (built-in)\n",
      "\n",
      "\n"
     ]
    }
   ],
   "source": [
    "help(\"math\") # Biblioteca"
   ]
  },
  {
   "cell_type": "markdown",
   "id": "7f808a13",
   "metadata": {
    "slideshow": {
     "slide_type": "slide"
    }
   },
   "source": [
    "# Ajuda"
   ]
  },
  {
   "cell_type": "code",
   "execution_count": 7,
   "id": "11f75f77",
   "metadata": {
    "slideshow": {
     "slide_type": "-"
    }
   },
   "outputs": [
    {
     "name": "stdout",
     "output_type": "stream",
     "text": [
      "\n",
      "Welcome to Python 3.8's help utility!\n",
      "\n",
      "If this is your first time using Python, you should definitely check out\n",
      "the tutorial on the Internet at https://docs.python.org/3.8/tutorial/.\n",
      "\n",
      "Enter the name of any module, keyword, or topic to get help on writing\n",
      "Python programs and using Python modules.  To quit this help utility and\n",
      "return to the interpreter, just type \"quit\".\n",
      "\n",
      "To get a list of available modules, keywords, symbols, or topics, type\n",
      "\"modules\", \"keywords\", \"symbols\", or \"topics\".  Each module also comes\n",
      "with a one-line summary of what it does; to list the modules whose name\n",
      "or summary contain a given string such as \"spam\", type \"modules spam\".\n",
      "\n",
      "help> q\n",
      "\n",
      "You are now leaving help and returning to the Python interpreter.\n",
      "If you want to ask for help on a particular object directly from the\n",
      "interpreter, you can type \"help(object)\".  Executing \"help('string')\"\n",
      "has the same effect as typing a particular string at the help> prompt.\n"
     ]
    }
   ],
   "source": [
    "help() # Modo interativo"
   ]
  },
  {
   "cell_type": "markdown",
   "id": "dd835d91",
   "metadata": {
    "slideshow": {
     "slide_type": "slide"
    }
   },
   "source": [
    "# Ajuda - Materiais"
   ]
  },
  {
   "cell_type": "markdown",
   "id": "64663b1c",
   "metadata": {
    "slideshow": {
     "slide_type": "-"
    }
   },
   "source": [
    "* [WikiBooks](https://en.wikibooks.org/wiki/Python_Programming);\n",
    "* [Documentação oficial](http://docs.python.org/3/);\n",
    "* [Material disponível no site da disciplina](https://ffajardo64.github.io/statistical_learning/python/);\n",
    "* **<span style=\"color:rgba(12, 47, 189, 1)\">Algumas folhas de dicas (cheat sheet):</span>**\n",
    "  - [Python Crash Course - Cheat Sheets](https://github.com/ehmatthes/pcc/releases/download/v1.0.0/beginners_python_cheat_sheet_pcc_all.pdf);\n",
    "  - [Python cheat sheet](https://www.pythoncheatsheet.org/);\n",
    "  - [Website setup](https://websitesetup.org/wp-content/uploads/2021/04/Python-cheat-sheet-April-2021.pdf);\n",
    "  - [Programming With Mosh](https://websitesetup.org/wp-content/uploads/2021/04/Python-cheat-sheet-April-2021.pdf);\n",
    "  - [Python for data science](https://s3.amazonaws.com/assets.datacamp.com/blog_assets/PythonForDataScience.pdf);\n",
    "  - [Python For Data Science (Bokeh)](https://s3.amazonaws.com/assets.datacamp.com/blog_assets/Python_Bokeh_Cheat_Sheet.pdf).\n",
    "  - [Real python](https://static.realpython.com/python_cheat_sheet_v1.pdf);\n",
    "  - [Cheatography](https://cheatography.com/davechild/cheat-sheets/python/);\n",
    "  - [Dataquest](https://s3.amazonaws.com/dq-blog-files/python-cheat-sheet-basic.pdf).  "
   ]
  },
  {
   "cell_type": "markdown",
   "id": "fdb05af9",
   "metadata": {
    "slideshow": {
     "slide_type": "slide"
    }
   },
   "source": [
    "# Alguns editores de código para Python"
   ]
  },
  {
   "cell_type": "markdown",
   "id": "1748c5dc",
   "metadata": {
    "slideshow": {
     "slide_type": "slide"
    }
   },
   "source": [
    "**<span style=\"color:rgba(141, 0, 69, 1)\">Editor de código</span>**\n",
    "\n",
    "<span style=\"color:rgba(12, 47, 189, 1)\">\n",
    "    <div style=\"text-align: justify\">\n",
    "Os editores de código podem ser editores de texto simples, como o bloco de notas ou VIM, por exemplo, mas que não aprimoram o processo de edição de código. Porém, existem alguns editores de código com diversas funcionalidades integradas, plugins e terminais acoplados que facilitam muito o desenvolvimento.</div></span>\n"
   ]
  },
  {
   "cell_type": "code",
   "execution_count": 8,
   "id": "067f6c0f",
   "metadata": {
    "slideshow": {
     "slide_type": "-"
    }
   },
   "outputs": [
    {
     "data": {
      "text/html": [
       "\n",
       "        <iframe\n",
       "            width=\"100%\"\n",
       "            height=\"450\"\n",
       "            src=\"https://en.wikipedia.org/wiki/Comparison_of_text_editors\"\n",
       "            frameborder=\"0\"\n",
       "            allowfullscreen\n",
       "        ></iframe>\n",
       "        "
      ],
      "text/plain": [
       "<IPython.lib.display.IFrame at 0x7f816c5b8610>"
      ]
     },
     "execution_count": 8,
     "metadata": {},
     "output_type": "execute_result"
    }
   ],
   "source": [
    "ip.IFrame('https://en.wikipedia.org/wiki/Comparison_of_text_editors', width='100%', height=450)"
   ]
  },
  {
   "cell_type": "markdown",
   "id": "12905322",
   "metadata": {
    "slideshow": {
     "slide_type": "slide"
    }
   },
   "source": [
    "# Alguns IDE’s para Python"
   ]
  },
  {
   "cell_type": "markdown",
   "id": "9d04c953",
   "metadata": {},
   "source": [
    "**<span style=\"color:rgba(141, 0, 69, 1)\">IDE - Integrated Development Environment</span>**\n",
    "\n",
    "<span style=\"color:rgba(12, 47, 189, 1)\">\n",
    "Ambiente de Desenvolvimento Integrado é uma ferramenta de desenvolvimento para editar o código, acessar um terminal, executar os scripts, entre outras funcionalidade, usando um único ambiente.</span>\n"
   ]
  },
  {
   "cell_type": "code",
   "execution_count": 9,
   "id": "ccf7bdfd",
   "metadata": {},
   "outputs": [
    {
     "data": {
      "text/html": [
       "\n",
       "        <iframe\n",
       "            width=\"100%\"\n",
       "            height=\"450\"\n",
       "            src=\"https://wiki.python.org/moin/PythonEditors\"\n",
       "            frameborder=\"0\"\n",
       "            allowfullscreen\n",
       "        ></iframe>\n",
       "        "
      ],
      "text/plain": [
       "<IPython.lib.display.IFrame at 0x7f816c5b8850>"
      ]
     },
     "execution_count": 9,
     "metadata": {},
     "output_type": "execute_result"
    }
   ],
   "source": [
    "ip.IFrame('https://wiki.python.org/moin/PythonEditors', width='100%', height=450)"
   ]
  },
  {
   "cell_type": "markdown",
   "id": "aecc1a3a",
   "metadata": {
    "slideshow": {
     "slide_type": "slide"
    }
   },
   "source": [
    "### IDE's e editores de código mais utilizados"
   ]
  },
  {
   "cell_type": "code",
   "execution_count": 10,
   "id": "92f3e0c8",
   "metadata": {},
   "outputs": [
    {
     "data": {
      "text/html": [
       "\n",
       "        <iframe\n",
       "            width=\"100%\"\n",
       "            height=\"650\"\n",
       "            src=\"https://insights.stackoverflow.com/survey/2021#most-popular-technologies-new-collab-tools\"\n",
       "            frameborder=\"0\"\n",
       "            allowfullscreen\n",
       "        ></iframe>\n",
       "        "
      ],
      "text/plain": [
       "<IPython.lib.display.IFrame at 0x7f816c5b8100>"
      ]
     },
     "execution_count": 10,
     "metadata": {},
     "output_type": "execute_result"
    }
   ],
   "source": [
    "ip.IFrame('https://insights.stackoverflow.com/survey/2021#most-popular-technologies-new-collab-tools',width='100%',height=650)"
   ]
  },
  {
   "cell_type": "markdown",
   "id": "2683b4df",
   "metadata": {
    "slideshow": {
     "slide_type": "slide"
    }
   },
   "source": [
    "# Qual a melhor IDE para programar em Python?"
   ]
  },
  {
   "cell_type": "markdown",
   "id": "f2a43bc5",
   "metadata": {
    "slideshow": {
     "slide_type": "slide"
    }
   },
   "source": [
    "## <span style=\"color:rgba(141, 0, 69, 1)\">Não existe a &ldquo;Melhor&rdquo; IDE</span> \n",
    "\n",
    "<span style=\"color:rgba(12, 47, 189, 1)\">\n",
    "Existe aquela que você melhor se adapta e que te deixa mais confortável para programar. Se existisse a \"MELHOR\", todos estariam usando.</span>\n",
    "\n",
    "<br />\n",
    "\n",
    "Python e uma linguagem que se destaca por ser intuitiva, legível e de código fácil de manter. Por isso, um bom editor de textos e o interpretador interativo devem ser o suficiente para a maior parte dos casos.\n"
   ]
  },
  {
   "cell_type": "markdown",
   "id": "6b787cbf",
   "metadata": {
    "slideshow": {
     "slide_type": "slide"
    }
   },
   "source": [
    "# Uma sugestão para utilizar"
   ]
  },
  {
   "cell_type": "markdown",
   "id": "6369acca",
   "metadata": {},
   "source": [
    "Muitos usuários no mundo destacam o **Jupyter notebook** como a \"melhor\" IDE. Fato que não surpreende, uma vez que o projeto Jupyter, desde 2014, tem investido bastante na área de <ins>Ciência de Dados</ins> (_Data Science_) oferecendo suporte interativo para construção de aplicações, o que de fato, tem atraído muitos desenvolvedores.\n",
    "\n",
    "<center><img src=\"./images/jupyter.png\" width=\"800\"></center>"
   ]
  },
  {
   "cell_type": "markdown",
   "id": "c01232cf",
   "metadata": {
    "slideshow": {
     "slide_type": "slide"
    }
   },
   "source": [
    "### Jupyter Notebook"
   ]
  },
  {
   "cell_type": "markdown",
   "id": "efc8cdb5",
   "metadata": {
    "slideshow": {
     "slide_type": "-"
    }
   },
   "source": [
    "O **Jupyter Notebook (JN)** é um ambiente computacional web interativo para criação de documentos. O documento tem extensão <TT>.ipynb</TT> e é tipo *JSON (JavaScript Object Notation)*. O documento contém uma lista ordenada de células que podem conter código, texto, fórmulas matemáticas, plotagens e imagens."
   ]
  },
  {
   "cell_type": "code",
   "execution_count": 11,
   "id": "eb846362",
   "metadata": {
    "slideshow": {
     "slide_type": "-"
    }
   },
   "outputs": [
    {
     "data": {
      "text/html": [
       "\n",
       "        <iframe\n",
       "            width=\"100%\"\n",
       "            height=\"450\"\n",
       "            src=\"https://jupyter.org\"\n",
       "            frameborder=\"0\"\n",
       "            allowfullscreen\n",
       "        ></iframe>\n",
       "        "
      ],
      "text/plain": [
       "<IPython.lib.display.IFrame at 0x7f816c59aac0>"
      ]
     },
     "execution_count": 11,
     "metadata": {},
     "output_type": "execute_result"
    }
   ],
   "source": [
    "ip.IFrame('https://jupyter.org', width='100%', height=450)"
   ]
  },
  {
   "cell_type": "markdown",
   "id": "2d399ffc",
   "metadata": {
    "slideshow": {
     "slide_type": "slide"
    }
   },
   "source": [
    "### Algumas considerações\n",
    "\n",
    "* A instalação do JN também instalará o kernel `IPython`. Isso permitirá trabalhar em *notebooks* usando o Python.\n",
    "\n",
    "* Para executar *notebooks* em outras linguagens, como `R` ou `Julia`, você precisará instalar kernels adicionais. Consulte a lista completa [aqui](https://github.com/jupyter/jupyter/wiki/Jupyter-kernels).\n",
    "\n",
    "* A documentação do JN está disponível [aqui](https://jupyter.readthedocs.io/en/latest/projects/doc-proj-categories.html)"
   ]
  },
  {
   "cell_type": "markdown",
   "id": "db5043a0",
   "metadata": {
    "slideshow": {
     "slide_type": "slide"
    }
   },
   "source": [
    "# Google Colaboratory\n",
    "\n",
    "O `Colaboratory` ou \"`Colab`\" permite escrever código Python no seu navegador, com: \n",
    "- Nenhuma configuração necessária;\n",
    "- Acesso gratuito a GPUs;\n",
    "- Compartilhamento fácil.\n",
    "\n",
    "Você pode ser um <strong>estudante</strong>, um <strong>cientista de dados</strong> ou um <strong>pesquisador de IA</strong>, o Colab pode facilitar seu trabalho. Assista ao vídeo <a href=\"https://www.youtube.com/watch?v=inN8seMm7UI\">Introdução ao Colab</a> para saber mais!"
   ]
  },
  {
   "cell_type": "markdown",
   "id": "ce32c5c2",
   "metadata": {
    "slideshow": {
     "slide_type": "slide"
    }
   },
   "source": [
    "# Google Colaboratory"
   ]
  },
  {
   "cell_type": "markdown",
   "id": "f10ae513",
   "metadata": {
    "slideshow": {
     "slide_type": "-"
    }
   },
   "source": [
    "<center><img src=\"./images/colab.png\" width=\"1200\"></center>\n",
    "\n",
    "<font size=\"3\">Visite o site: [https://colab.research.google.com/notebooks/intro.ipynb](https://colab.research.google.com/notebooks/intro.ipynb)</font>"
   ]
  },
  {
   "cell_type": "markdown",
   "id": "c63a22b4",
   "metadata": {
    "slideshow": {
     "slide_type": "slide"
    }
   },
   "source": [
    "# Data Science wars: Python vs R"
   ]
  },
  {
   "cell_type": "markdown",
   "id": "bb65bc3c",
   "metadata": {
    "slideshow": {
     "slide_type": "slide"
    }
   },
   "source": [
    "# Data Science wars: Python vs R\n",
    "\n",
    "[<center><img src=\"./images/py_vs_r.png\" width=\"1200\"></center>](https://res.cloudinary.com/dyd911kmh/image/upload/f_auto,q_auto:best/v1523009719/main-qimg-9dcf536c501455f073dfbc4e09798a51_vpijr0.png)"
   ]
  },
  {
   "cell_type": "markdown",
   "id": "d4402029",
   "metadata": {
    "slideshow": {
     "slide_type": "slide"
    }
   },
   "source": [
    "<p><strong>Algumas bibliotecas para Data Science</strong><br /><br /><a href='https://www.datasciencelearner.com/machine-learning-library-python/'><img src='https://www.datasciencelearner.com/wp-content/uploads/2020/07/Complete-Python-Libraries-for-Data-Science-Infographic-scaled.jpg' alt='Complete Python Libraries for Data Science Infographic' width='2560px' height='1317px' border='0' /></a></p>"
   ]
  },
  {
   "cell_type": "markdown",
   "id": "6984ebe0",
   "metadata": {
    "slideshow": {
     "slide_type": "slide"
    }
   },
   "source": [
    "### Algumas bibliotecas para Data Science"
   ]
  },
  {
   "cell_type": "markdown",
   "id": "51328b87",
   "metadata": {},
   "source": [
    "### <span style=\"color:rgba(141, 0, 69, 1)\">Manipulação de dados</span>\n",
    "\n",
    "**Scipy**: Computação científica - [https://www.scipy.org](https://www.scipy.org);\n",
    "\n",
    "**Numpy**: Computação numérica - [https://numpy.org](https://numpy.org);\n",
    "\n",
    "**Pandas**: Análise e manipulação de dados - [https://pandas.pydata.org](https://pandas.pydata.org);\n",
    "\n",
    "**Theano**: Theano é uma biblioteca Python que permite definir, otimizar e avaliar eficientemente expressões matemáticas envolvendo *arrays* multidimensionais. Ele é construído com base no **NumPy** - [https://pypi.org/project/Theano/](https://pypi.org/project/Theano/);\n",
    "\n",
    "**PyTorch**: A biblioteca para aprendizado de máquina e *deep learning* - [https://pytorch.org/](https://pytorch.org/);"
   ]
  },
  {
   "cell_type": "markdown",
   "id": "c40348db",
   "metadata": {
    "slideshow": {
     "slide_type": "slide"
    }
   },
   "source": [
    "### Algumas bibliotecas para Data Science"
   ]
  },
  {
   "cell_type": "markdown",
   "id": "c3dd5161",
   "metadata": {},
   "source": [
    "### <span style=\"color:rgba(141, 0, 69, 1)\">Modelagem</span>\n",
    "\n",
    "**Statmodels**: Ferramentas para ajustar modelos estatísticos diferentes, bem como para a realização de testes estatísticos e exploração de dados - [https://www.statsmodels.org](https://www.statsmodels.org);\n",
    "\n",
    "**Scikit-learn**: Toolbox para aprendizado de máquina - [https://scikit-learn.org/](https://scikit-learn.org/);\n",
    "\n",
    "**Tensorflow**: Toolbox para *deep learning* - [https://www.tensorflow.org](https://www.tensorflow.org);\n",
    "\n",
    "**Keras**: Toolbox para *deep learning*. Considerada por muitos a melhor biblioteca de *deep learning* para principiantes - [https://keras.io](https://keras.io);"
   ]
  },
  {
   "cell_type": "markdown",
   "id": "53d4779a",
   "metadata": {
    "slideshow": {
     "slide_type": "slide"
    }
   },
   "source": [
    "### Algumas bibliotecas para Data Science"
   ]
  },
  {
   "cell_type": "markdown",
   "id": "81e26646",
   "metadata": {},
   "source": [
    "### <span style=\"color:rgba(141, 0, 69, 1)\">Visualização</span>\n",
    "\n",
    "**Matplotlib**: Biblioteca para criar visualizações estáticas, animadas e interativas em Python - [https://matplotlib.org](https://matplotlib.org);\n",
    "\n",
    "**Seaborn**: Biblioteca de visualização de dados baseada em **matplotlib**. Ela fornece uma interface de alto nível para desenhar gráficos estatísticos atraentes e informativos - [https://seaborn.pydata.org](https://seaborn.pydata.org)\n",
    "\n",
    "**Plotly**: Biblioteca de visualização de dados para Python, Javascript e R - [https://plotly.com/](https://plotly.com/);\n",
    "\n",
    "**Bokeh**: Biblioteca de visualização de dados em Python que fornece gráficos e gráficos interativos de alto desempenho - [https://docs.bokeh.org/en/latest/index.html](https://docs.bokeh.org/en/latest/index.html).\n"
   ]
  },
  {
   "cell_type": "markdown",
   "id": "2243ad15",
   "metadata": {
    "slideshow": {
     "slide_type": "slide"
    }
   },
   "source": [
    "### Projetos participantes"
   ]
  },
  {
   "cell_type": "code",
   "execution_count": 12,
   "id": "8e814bc5",
   "metadata": {
    "slideshow": {
     "slide_type": "-"
    }
   },
   "outputs": [
    {
     "data": {
      "text/html": [
       "\n",
       "        <iframe\n",
       "            width=\"100%\"\n",
       "            height=\"650\"\n",
       "            src=\"https://python3statement.org/\"\n",
       "            frameborder=\"0\"\n",
       "            allowfullscreen\n",
       "        ></iframe>\n",
       "        "
      ],
      "text/plain": [
       "<IPython.lib.display.IFrame at 0x7f816c5abc40>"
      ]
     },
     "execution_count": 12,
     "metadata": {},
     "output_type": "execute_result"
    }
   ],
   "source": [
    "ip.IFrame('https://python3statement.org/',width='100%',height=650)"
   ]
  },
  {
   "cell_type": "markdown",
   "id": "700a20a4",
   "metadata": {
    "slideshow": {
     "slide_type": "slide"
    }
   },
   "source": [
    "# Instalando bibliotecas em python"
   ]
  },
  {
   "cell_type": "markdown",
   "id": "61ac0787",
   "metadata": {
    "slideshow": {
     "slide_type": "slide"
    }
   },
   "source": [
    "### Instalando bibliotecas\n",
    "\n",
    "`pip` é o programa de instalação preferido pela maioria dos usuários. A partir do Python 3.4, ele é incluído por padrão com os instaladores binários do Python.\n",
    "\n",
    "> No Windows recomenda-se realizar a instalação das bibliotecas na pasta `scripts` da pasta do **python**.\n",
    "\n",
    "Na linha de comando use: `pip3 install <nome_biblioteca>`.\n",
    "\n",
    "**<span style=\"color:rgba(12, 47, 189, 1)\">Exemplos:</span>**\n",
    "\n",
    "`pip3 install numpy`\n",
    "\n",
    "`pip3 install pandas`\n",
    "\n",
    "`pip3 install scipy`\n",
    "\n",
    "`pip3 install matplotlib`"
   ]
  },
  {
   "cell_type": "markdown",
   "id": "fc7815b7",
   "metadata": {
    "slideshow": {
     "slide_type": "slide"
    }
   },
   "source": [
    "# Instalando bibliotecas em python"
   ]
  },
  {
   "cell_type": "markdown",
   "id": "7bbf0533",
   "metadata": {
    "slideshow": {
     "slide_type": "-"
    }
   },
   "source": [
    "### Algumas opções do `pip3`\n",
    "\n",
    "* `pip3 list`: mostra a listagem de bibliotecas instaladas com `pip`;\n",
    "\n",
    "* `pip3 show <nome_biblioteca>`: Mostra as informações referentes a uma determinada biblioteca;\n",
    "\n",
    "* `pip3 --version`: Mostra a versão do `pip` instalado no seu computador;\n",
    "\n",
    "* `pip3 unistall <nome_biblioteca>`: desinstala uma determinada biblioteca.\n",
    "\n",
    "***\n",
    "\n",
    "Para mais opções use o comando `pip3 help`."
   ]
  },
  {
   "cell_type": "markdown",
   "id": "54f9d25e",
   "metadata": {
    "slideshow": {
     "slide_type": "slide"
    }
   },
   "source": [
    "# Primeiros passos em Python"
   ]
  },
  {
   "cell_type": "markdown",
   "id": "55dc3696",
   "metadata": {
    "slideshow": {
     "slide_type": "slide"
    }
   },
   "source": [
    "# Objetos, tipos de dados e expressões\n",
    "\n",
    "Em Python, **<ins>tudo</ins>** é tratado como sendo um objeto, inclusive, o próprio código escrito por nós!\n",
    "\n",
    "* Objetos são a abstração do Python para dados;\n",
    "* Todos os dados em um programa Python são representados por objetos ou por relações entre objetos;\n",
    "* Todo objeto tem uma <span style=\"color:rgba(141, 0, 69, 1)\">identidade</span>, um <span style=\"color:rgba(141, 0, 69, 1)\">tipo</span> e um <span style=\"color:rgba(141, 0, 69, 1)\">valor</span>."
   ]
  },
  {
   "cell_type": "markdown",
   "id": "ea1bdff6",
   "metadata": {
    "slideshow": {
     "slide_type": "slide"
    }
   },
   "source": [
    "# Objetos, tipos de dados e expressões\n",
    "\n",
    "* **<span style=\"color:rgba(141, 0, 69, 1)\">Identidade</span>**: A identidade de um objeto nunca muda depois de criada. Você pode pensar nela como o endereço do objeto na memória;\n",
    "\n",
    "* **<span style=\"color:rgba(141, 0, 69, 1)\">Tipo</span>**: representados em **escalares** e **não-escalares**:\n",
    "    \n",
    "    **Escalares**\n",
    "    - **<span style=\"color:rgba(12, 47, 189, 1)\">Nenhum</span>** (`None`): representa a ausência de um valor;\n",
    "    - **<span style=\"color:rgba(12, 47, 189, 1)\">Números</span>**: Python tem três tipos de números:\n",
    "        - Inteiro (`int`): Não possui parte fracionária;\n",
    "        - Ponto flutuante (`float`): pode armazenar números com uma parte fracionária;\n",
    "        - Complexo (`complex`): Pode armazenar partes reais e imaginárias;\n",
    "    - **<span style=\"color:rgba(12, 47, 189, 1)\">Booleanos</span>**: Os booleanos em **Python** são: `True` (Verdadeiro) e `False` (Falso)."
   ]
  },
  {
   "cell_type": "markdown",
   "id": "35ed01c8",
   "metadata": {
    "slideshow": {
     "slide_type": "slide"
    }
   },
   "source": [
    "# Objetos, tipos de dados e expressões\n",
    "\n",
    "* **<span style=\"color:rgba(141, 0, 69, 1)\">Tipo</span>**: representados em **escalares** e **não-escalares**:\n",
    "    \n",
    "    **Não-escalares**\n",
    "    - **<span style=\"color:rgba(12, 47, 189, 1)\">Sequências</span>**: São coleções ordenadas de elementos. Existem três tipos de sequências em Python:\n",
    "        - **Cadeias de caracteres ou _string_** (`str`): Uma *string* representa um conjunto de caracteres disposto numa determinada ordem. Todas as vezes em que falarmos o termo *string*, estaremos nos referindo a um conjunto de caracteres. As *strings* são objetos **<span style=\"color:rgba(141, 0, 69, 1)\">imutáveis</span>**;\n",
    "        - **Listas** (`list`): são sequencias **ordenadas** de valores. As listas no **Python** são objetos **<span style=\"color:rgba(141, 0, 69, 1)\">mutáveis</span>**;\n",
    "        - **Tuplas** (`Tuples`): também são sequências ordenadas de valores, com a diferença de que são **<span style=\"color:rgba(141, 0, 69, 1)\">imutáveis</span>**;"
   ]
  },
  {
   "cell_type": "markdown",
   "id": "2793bda5",
   "metadata": {
    "slideshow": {
     "slide_type": "slide"
    }
   },
   "source": [
    "# Objetos, tipos de dados e expressões\n",
    "\n",
    "* **<span style=\"color:rgba(141, 0, 69, 1)\">Tipo</span>**: representados em escalares e não-escalares:\n",
    "    \n",
    "    **Não-escalares**\n",
    "    - **<span style=\"color:rgba(12, 47, 189, 1)\">Conjuntos</span>**(`Sets`): são a abstração da definição matemática de conjunto, ou seja uma coleção (**não-ordenada**) de valores. Os conjuntos são objetos **<span style=\"color:rgba(141, 0, 69, 1)\">mutáveis</span>**;\n",
    "    -  **<span style=\"color:rgba(12, 47, 189, 1)\">Dicionários</span>**(`Dictionaries:`): são uma coleção **não-ordenada** de objetos representados na forma de valores-chave (key-value). Os conjuntos são objetos **<span style=\"color:rgba(141, 0, 69, 1)\">mutáveis</span>**.\n",
    "\n",
    "        \n",
    "> <span style=\"color:rgba(141, 0, 69, 1)\">Existem muitos mais tipos do que os citados acima. Lembre que TUDO é objeto no Python, de forma que há tipos de dados que correspondem a módulos, funções, classes, métodos, arquivos e código compilado.</span>"
   ]
  },
  {
   "cell_type": "markdown",
   "id": "fdcad69f",
   "metadata": {
    "slideshow": {
     "slide_type": "slide"
    }
   },
   "source": [
    "## Resumo: Tipos de dados em Python\n",
    "\n",
    "\n",
    "| **Tipo**  | **Escalar** | **Mutabilidade**                                                | **Ordem**\n",
    "| :-------: |:-----------:|:---------------------------------------------------------------:| :---------:\n",
    "| `int`     | escalar     | **<span style=\"color:rgba(12, 47, 189, 1)\">imutável</span>**    |             \n",
    "| `float`   | escalar     | **<span style=\"color:rgba(12, 47, 189, 1)\">imutável</span>**    |  \n",
    "| `bool`    | escalar     | **<span style=\"color:rgba(12, 47, 189, 1)\">imutável</span>**    | \n",
    "| `None`    | escalar     | **<span style=\"color:rgba(12, 47, 189, 1)\">imutável</span>**    | \n",
    "| `str`     | não-escalar | **<span style=\"color:rgba(12, 47, 189, 1)\">imutável</span>**    | ordenado\n",
    "| `tuple`   | não-escalar | **<span style=\"color:rgba(12, 47, 189, 1)\">imutável</span>**    | ordenado\n",
    "| `list`    | não-escalar | **<span style=\"color:rgba(141, 0, 69, 1)\">mutável</span>**      | ordenado\n",
    "| `set`     | não-escalar | **<span style=\"color:rgba(141, 0, 69, 1)\">mutável</span>**      | não-ordenado\n",
    "| `dict`    | não-escalar | **<span style=\"color:rgba(141, 0, 69, 1)\">mutável</span>**      | não-ordenado\n",
    "\n",
    "***\n",
    "\n",
    "Lembre que, um objeto **imutável** não pode ser alterado depois de criado."
   ]
  },
  {
   "cell_type": "markdown",
   "id": "e99648b0",
   "metadata": {
    "slideshow": {
     "slide_type": "slide"
    }
   },
   "source": [
    "# Objetos, tipos de dados e expressões\n",
    "\n",
    "* **<span style=\"color:rgba(141, 0, 69, 1)\">Valor</span>**: O valor é qualquer informação, seja um número, texto, vı́deo, etc. O tipo é a estrutura da informação e a forma de classificarmos os dados.\n",
    "\n",
    "    - Todo valor numérico deve ser capaz de ser somado (ou subtraido) a outro. De igual forma, todo texto deve ser capaz de ser concatenado a outro;\n",
    "    - O Python é capaz de converter um tipo de informação num outro tipo. Essa ação é comumente chamada de **conversão de dados** ou **coerção de tipos**;\n",
    "    - Podemos converter o tipo original de um objeto em inteiro, float ou string usando `int`, `float` e `string`, respectivamente."
   ]
  },
  {
   "cell_type": "markdown",
   "id": "585bd8ff",
   "metadata": {
    "slideshow": {
     "slide_type": "slide"
    }
   },
   "source": [
    "# No final, o que é um objeto imutável?\n",
    "\n",
    "* Um objeto cujo estado interno não pode ser alterado é chamado de **imutável**, por exemplo, um número, uma string e uma tupla."
   ]
  },
  {
   "cell_type": "code",
   "execution_count": 13,
   "id": "70e54e50",
   "metadata": {},
   "outputs": [
    {
     "name": "stdout",
     "output_type": "stream",
     "text": [
      "9792128 0x956a80\n"
     ]
    }
   ],
   "source": [
    "numero = 100\n",
    "print(id(numero), hex(id(numero)))\n"
   ]
  },
  {
   "cell_type": "code",
   "execution_count": 14,
   "id": "fef7d526",
   "metadata": {},
   "outputs": [
    {
     "name": "stdout",
     "output_type": "stream",
     "text": [
      "9795328 0x957700\n"
     ]
    }
   ],
   "source": [
    "numero = 200\n",
    "print(id(numero), hex(id(numero)))\n"
   ]
  },
  {
   "cell_type": "markdown",
   "id": "5d427e54",
   "metadata": {
    "slideshow": {
     "slide_type": "slide"
    }
   },
   "source": [
    "# E o que é um objeto mutável?\n",
    "\n",
    "* Um objeto cujo estado interno pode ser alterado é chamado de **mutável**, por exemplo, uma lista, um conjunto e um dicionário."
   ]
  },
  {
   "cell_type": "code",
   "execution_count": 15,
   "id": "377680c4",
   "metadata": {},
   "outputs": [
    {
     "name": "stdout",
     "output_type": "stream",
     "text": [
      "0x7f816c5f6640\n"
     ]
    }
   ],
   "source": [
    "numeros = [1, 2, 3]\n",
    "print(hex(id(numeros)))"
   ]
  },
  {
   "cell_type": "code",
   "execution_count": 16,
   "id": "3e411c1b",
   "metadata": {},
   "outputs": [
    {
     "name": "stdout",
     "output_type": "stream",
     "text": [
      "0x7f816c5f6640\n"
     ]
    }
   ],
   "source": [
    "numeros.append(4)\n",
    "print(hex(id(numeros)))"
   ]
  },
  {
   "cell_type": "markdown",
   "id": "e7c4280a",
   "metadata": {
    "slideshow": {
     "slide_type": "slide"
    }
   },
   "source": [
    "# Meu primeiro programa em Python"
   ]
  },
  {
   "cell_type": "markdown",
   "id": "bbfa4a64",
   "metadata": {
    "slideshow": {
     "slide_type": "slide"
    }
   },
   "source": [
    "## Meu primeiro programa em Python\n"
   ]
  },
  {
   "cell_type": "code",
   "execution_count": 17,
   "id": "653166f5",
   "metadata": {
    "slideshow": {
     "slide_type": "-"
    }
   },
   "outputs": [
    {
     "name": "stdout",
     "output_type": "stream",
     "text": [
      "Olá, mundo!\n"
     ]
    }
   ],
   "source": [
    "# Meu primeiro programa em Python\n",
    "print(\"Olá, mundo!\")"
   ]
  },
  {
   "cell_type": "markdown",
   "id": "f20a55ab",
   "metadata": {
    "slideshow": {
     "slide_type": "-"
    }
   },
   "source": [
    "> O símbolo `#` indica comentário. Essa linha será ignorada pelo interpretador."
   ]
  },
  {
   "cell_type": "markdown",
   "id": "2117f909",
   "metadata": {
    "slideshow": {
     "slide_type": "-"
    }
   },
   "source": [
    "> A função `print`, mostra na tela os argumentos passados nela."
   ]
  },
  {
   "cell_type": "markdown",
   "id": "d0b4b9bf",
   "metadata": {
    "slideshow": {
     "slide_type": "-"
    }
   },
   "source": [
    "> As aspas indicam que o argumento da função é uma `string`."
   ]
  },
  {
   "cell_type": "markdown",
   "id": "065eb3a0",
   "metadata": {
    "slideshow": {
     "slide_type": "slide"
    }
   },
   "source": [
    "## Meu primeiro programa em Python\n"
   ]
  },
  {
   "cell_type": "markdown",
   "id": "1c9b5e93",
   "metadata": {
    "slideshow": {
     "slide_type": "-"
    }
   },
   "source": [
    "No caso de erro de sintaxe (SyntaxError) por causa dos carateres especiais, por exemplo: á, â, ã, ç, Ç, etc. Use:"
   ]
  },
  {
   "cell_type": "code",
   "execution_count": 18,
   "id": "7788e427",
   "metadata": {
    "slideshow": {
     "slide_type": "-"
    }
   },
   "outputs": [
    {
     "name": "stdout",
     "output_type": "stream",
     "text": [
      "Olá, mundo!\n"
     ]
    }
   ],
   "source": [
    "# -*- coding: utf-8 -*-\n",
    "# Meu primeiro programa em python\n",
    "print(\"Olá, mundo!\")"
   ]
  },
  {
   "cell_type": "markdown",
   "id": "e5da0571",
   "metadata": {
    "slideshow": {
     "slide_type": "-"
    }
   },
   "source": [
    "Você pode fazer comentários de linha multipla usando 3 aspas duplas:"
   ]
  },
  {
   "cell_type": "code",
   "execution_count": 19,
   "id": "9ab044dd",
   "metadata": {
    "slideshow": {
     "slide_type": "-"
    }
   },
   "outputs": [
    {
     "name": "stdout",
     "output_type": "stream",
     "text": [
      "Olá mundo!\n"
     ]
    }
   ],
   "source": [
    "# -*- coding: utf-8 -*-\n",
    "\"\"\"\n",
    "Meu\n",
    "primeiro\n",
    "programa\n",
    "em\n",
    "Python\n",
    "\"\"\"\n",
    "print(\"Olá mundo!\")"
   ]
  },
  {
   "cell_type": "markdown",
   "id": "ec50e3fd",
   "metadata": {
    "slideshow": {
     "slide_type": "slide"
    }
   },
   "source": [
    "# Variáveis em Python"
   ]
  },
  {
   "cell_type": "markdown",
   "id": "8ec92d4c",
   "metadata": {
    "slideshow": {
     "slide_type": "slide"
    }
   },
   "source": [
    "# O que é uma variável?\n",
    "\n",
    "Variável não é mais do que um espaço de memória que reservamos para armazenar valores temporários que estão sendo processados.\n",
    "\n",
    "* Os valores são armazenados na memória RAM (_Random Access Memory_);\n",
    "* Toda variável possui um **tipo** e este será inferido conforme a valor inicial que atribuirmos à variável;\n",
    "* Não existe limite da quantidade de variáveis que podemos declarar. Essas quantias sempre serão definidas pela quantidade de memória RAM existente."
   ]
  },
  {
   "cell_type": "markdown",
   "id": "0d0ae50a",
   "metadata": {
    "slideshow": {
     "slide_type": "slide"
    }
   },
   "source": [
    "# Variáveis em Python\n",
    "\n",
    "Nomes de variáveis podem ter o tamanho que você achar necessário e podem conter caracteres alfanuméricos e traço-baixo (*underscore*), porém não podem começar com números. \n",
    "\n",
    "> <span style=\"color:rgba(141, 0, 69, 1)\">É possı́vel usar letras maiúsculas, porém a convenção será utilizar somente letras minúsculas para nomes de variáveis.</span>"
   ]
  },
  {
   "cell_type": "code",
   "execution_count": 20,
   "id": "ed60ae56",
   "metadata": {},
   "outputs": [],
   "source": [
    "# Por exemplo: Criando uma variável em python\n",
    "criei_uma_variavel_com_nome_gigantesco = 1.5"
   ]
  },
  {
   "cell_type": "markdown",
   "id": "0a5de8ff",
   "metadata": {
    "slideshow": {
     "slide_type": "-"
    }
   },
   "source": [
    "No **Python** recomenda-se as seguintes [convenções](https://peps.python.org/pep-0008/#type-variable-names):\n",
    "\n",
    "* **UpperCamelCase** para nomes de classes;\n",
    "* **CAPITALIZED_WITH_UNDERSCORES** para as constantes;\n",
    "* **lowercase_separated_by_underscores** para variáveis em geral. "
   ]
  },
  {
   "cell_type": "markdown",
   "id": "efa1f6bf",
   "metadata": {
    "slideshow": {
     "slide_type": "slide"
    }
   },
   "source": [
    "## Algumas recomendações"
   ]
  },
  {
   "cell_type": "markdown",
   "id": "ede96ca9",
   "metadata": {
    "slideshow": {
     "slide_type": "-"
    }
   },
   "source": [
    "* não podem ter espaçamentos;\n",
    "* não podem começar com números;\n",
    "* não podem ter caracteres especiais, tais como: `$` `%` `–` `*` `&` `#` `{` `}` `ç` `/` `=` `!` `@` `(` `)` `[` `]` `^` `~` `´`;\n",
    "> <span style=\"color:rgba(141, 0, 69, 1)\">Caracteres especiais não podem ser utilizados, seja qual for a posição em que estes aparecerem na definição da referência!</span>\n",
    "* não use nomes que comecem e terminem com 2 (dois) *underscore*, pois o **Python** define vários métodos especiais e variáveis que usam esse padrão;\n",
    "* **Python** é uma linguagem *case-sensitive*, ou seja, ele diferencia nomes de variáveis com maiúsculas e minúsculas, por exemplo: `AREA`, `Area` e `area` são três variáveis diferentes."
   ]
  },
  {
   "cell_type": "markdown",
   "id": "96fb1a97",
   "metadata": {
    "slideshow": {
     "slide_type": "slide"
    }
   },
   "source": [
    "# Palavras reservadas (Keywords)\n",
    "\n",
    "* Use `help(\"keywords\")` para ver a listagem de palavras-chave."
   ]
  },
  {
   "cell_type": "code",
   "execution_count": 21,
   "id": "366c873e",
   "metadata": {},
   "outputs": [
    {
     "name": "stdout",
     "output_type": "stream",
     "text": [
      "\n",
      "Here is a list of the Python keywords.  Enter any keyword to get more help.\n",
      "\n",
      "False               class               from                or\n",
      "None                continue            global              pass\n",
      "True                def                 if                  raise\n",
      "and                 del                 import              return\n",
      "as                  elif                in                  try\n",
      "assert              else                is                  while\n",
      "async               except              lambda              with\n",
      "await               finally             nonlocal            yield\n",
      "break               for                 not                 \n",
      "\n"
     ]
    }
   ],
   "source": [
    "help(\"keywords\")"
   ]
  },
  {
   "cell_type": "markdown",
   "id": "2048f80d",
   "metadata": {
    "slideshow": {
     "slide_type": "slide"
    }
   },
   "source": [
    "# Palavras reservadas (Keywords)"
   ]
  },
  {
   "cell_type": "markdown",
   "id": "b2eba9f9",
   "metadata": {
    "slideshow": {
     "slide_type": "-"
    }
   },
   "source": [
    "* Para avaliar se uma palavra é chave ou não use a biblioteca *keyword*:"
   ]
  },
  {
   "cell_type": "code",
   "execution_count": 22,
   "id": "ca0b274f",
   "metadata": {
    "slideshow": {
     "slide_type": "-"
    }
   },
   "outputs": [
    {
     "name": "stdout",
     "output_type": "stream",
     "text": [
      "['False', 'None', 'True', 'and', 'as', 'assert', 'async', 'await', 'break', 'class', 'continue', 'def', 'del', 'elif', 'else', 'except', 'finally', 'for', 'from', 'global', 'if', 'import', 'in', 'is', 'lambda', 'nonlocal', 'not', 'or', 'pass', 'raise', 'return', 'try', 'while', 'with', 'yield']\n"
     ]
    },
    {
     "data": {
      "text/plain": [
       "True"
      ]
     },
     "execution_count": 22,
     "metadata": {},
     "output_type": "execute_result"
    }
   ],
   "source": [
    "import keyword\n",
    "\n",
    "print(keyword.kwlist) # Listagem de keywords\n",
    "keyword.iskeyword(\"pass\")"
   ]
  },
  {
   "cell_type": "markdown",
   "id": "59129396",
   "metadata": {
    "slideshow": {
     "slide_type": "slide"
    }
   },
   "source": [
    "# Variáveis em Python"
   ]
  },
  {
   "cell_type": "code",
   "execution_count": 23,
   "id": "b13cfc43",
   "metadata": {
    "slideshow": {
     "slide_type": "-"
    }
   },
   "outputs": [
    {
     "data": {
      "text/plain": [
       "str"
      ]
     },
     "execution_count": 23,
     "metadata": {},
     "output_type": "execute_result"
    }
   ],
   "source": [
    "aluno = \"Jorge\" # nome: aluno / valor: \"Jorge\"\n",
    "\n",
    "type(aluno)     # Tipo"
   ]
  },
  {
   "cell_type": "code",
   "execution_count": 24,
   "id": "25737d49",
   "metadata": {
    "slideshow": {
     "slide_type": "-"
    }
   },
   "outputs": [
    {
     "name": "stdout",
     "output_type": "stream",
     "text": [
      "0x7f816d65bf30\n"
     ]
    }
   ],
   "source": [
    "print(hex(id(aluno))) # Endereço na memória"
   ]
  },
  {
   "cell_type": "code",
   "execution_count": 25,
   "id": "4d6489eb",
   "metadata": {
    "slideshow": {
     "slide_type": "-"
    }
   },
   "outputs": [
    {
     "ename": "SyntaxError",
     "evalue": "invalid syntax (159139255.py, line 3)",
     "output_type": "error",
     "traceback": [
      "\u001b[0;36m  File \u001b[0;32m\"/tmp/ipykernel_575339/159139255.py\"\u001b[0;36m, line \u001b[0;32m3\u001b[0m\n\u001b[0;31m    4num = 0\u001b[0m\n\u001b[0m     ^\u001b[0m\n\u001b[0;31mSyntaxError\u001b[0m\u001b[0;31m:\u001b[0m invalid syntax\n"
     ]
    }
   ],
   "source": [
    "# Exemplos com nomes inválidos!\n",
    "\n",
    "4num = 0\n",
    "3 = \"informe seu nome\"\n",
    "2d = 4"
   ]
  },
  {
   "cell_type": "markdown",
   "id": "71fb20ac",
   "metadata": {
    "slideshow": {
     "slide_type": "slide"
    }
   },
   "source": [
    "# Variáveis em Python"
   ]
  },
  {
   "cell_type": "markdown",
   "id": "a7fc795b",
   "metadata": {
    "slideshow": {
     "slide_type": "-"
    }
   },
   "source": [
    "O único caractere especial, que pode ser utilizado na composição de nomes, e que também pode estar situando em qualquer posição, é o caractere *underscore* `_`."
   ]
  },
  {
   "cell_type": "code",
   "execution_count": null,
   "id": "f233d7c0",
   "metadata": {
    "slideshow": {
     "slide_type": "-"
    }
   },
   "outputs": [],
   "source": [
    "# Exemplo de objetos definidos com underscore\n",
    "\n",
    "vvar = 5\n",
    "_vVar = \"\"\n",
    "__________idade = 19\n",
    "_minhaVar = 55\n",
    "____texto = \"\""
   ]
  },
  {
   "cell_type": "markdown",
   "id": "1f63a5bd",
   "metadata": {
    "slideshow": {
     "slide_type": "slide"
    }
   },
   "source": [
    "# Variáveis em Python"
   ]
  },
  {
   "cell_type": "code",
   "execution_count": null,
   "id": "5c18adc0",
   "metadata": {
    "slideshow": {
     "slide_type": "-"
    }
   },
   "outputs": [],
   "source": [
    "# Exemplo de objetos escalares\n",
    "\n",
    "int_var = 2        # int \n",
    "float_var = 0.125  # float\n",
    "true_var = True    # bool \n",
    "none_var = None    # NoneType\n",
    "\n",
    "true_var           # Retorna o valor da variável"
   ]
  },
  {
   "cell_type": "code",
   "execution_count": null,
   "id": "ce971097",
   "metadata": {
    "slideshow": {
     "slide_type": "-"
    }
   },
   "outputs": [],
   "source": [
    "# Exemplo de objetos não-escalares\n",
    "\n",
    "str_var = 'This is a string.'   # str\n",
    "list_var = [1, 2, 2, 'a', 'a']  # list\n",
    "tuple_var = (1, 2, 'a', 'b')    # tuple\n",
    "set_var = {1, 2, 2, 'a', 'b'}   # set \n",
    "dict_var = {1: 'a', 2: 'b', 3: ['c', 'd']}  # dict\n",
    "\n",
    "print(list_var, set_var)"
   ]
  },
  {
   "cell_type": "markdown",
   "id": "60cd2d90",
   "metadata": {
    "slideshow": {
     "slide_type": "slide"
    }
   },
   "source": [
    "# Cálculos com Python"
   ]
  },
  {
   "cell_type": "markdown",
   "id": "d8ca4c5f",
   "metadata": {
    "slideshow": {
     "slide_type": "slide"
    }
   },
   "source": [
    "## Operadores\n",
    "\n",
    "* Aritméticos: `+`, `-`, `*`, `/`, `**`, `%`, `//`\n",
    "* Booleanos: `and`, `or`, `not` \n",
    "* Comparação: `==`, `!=`, `>`, `<`, `>=`, `<=`\n",
    "* Atribuição: `=` , `+=`, `-=`, `*=`, `/=`, `%=`, `//=`, `**=`\n",
    "* Identidade: `is`, `is not`\n",
    "* Associação: `in`, `not in`"
   ]
  },
  {
   "cell_type": "code",
   "execution_count": null,
   "id": "86222d3b",
   "metadata": {
    "slideshow": {
     "slide_type": "-"
    }
   },
   "outputs": [],
   "source": [
    "a, b, c, d = 2/3, 2//3 , 2*3, 2**3\n",
    "print(\"a=\",a, \"\\nb=\",b,\"\\nc=\",c,\"\\nd=\",d)"
   ]
  },
  {
   "cell_type": "code",
   "execution_count": null,
   "id": "55103de1",
   "metadata": {
    "slideshow": {
     "slide_type": "-"
    }
   },
   "outputs": [],
   "source": [
    "a, b, c, d = d, c, b, a # A atribuição múltipla permite trocar os valores de uma forma muito mais simples\n",
    "print(a, b, c, d)"
   ]
  },
  {
   "cell_type": "markdown",
   "id": "44990562",
   "metadata": {
    "slideshow": {
     "slide_type": "slide"
    }
   },
   "source": [
    "## Ordem das operações\n",
    "\n",
    "**Python** segue as regras de precedência dos seus operadores matemáticos da mesma forma que na matemática. O acrônimo **PEMDAS** pode ser útil para lembrar das regras:\n",
    "\n",
    "* Os parênteses têm a maior precedência e são usados para forçar a avaliação de uma expressão na ordem que você quiser;\n",
    "\n",
    "* A exponenciação é a segunda maior precedência;\n",
    "\n",
    "* A multiplicação e a divisão têm precedência maior que a adição e a subtração.\n",
    "\n",
    "> <span style=\"color:rgba(141, 0, 69, 1)\">Os operadores com a mesma precedência são avaliados da esquerda para a direita (exceto na exponenciação).</span>"
   ]
  },
  {
   "cell_type": "markdown",
   "id": "aa6fdb6e",
   "metadata": {
    "slideshow": {
     "slide_type": "slide"
    }
   },
   "source": [
    "# Exemplos\n",
    "\n",
    "### Qual o resultados das seguintes operações?"
   ]
  },
  {
   "cell_type": "code",
   "execution_count": 26,
   "id": "3865bebe",
   "metadata": {},
   "outputs": [
    {
     "name": "stdout",
     "output_type": "stream",
     "text": [
      "1210\n"
     ]
    }
   ],
   "source": [
    "print(10 + 20**2 * 30//10)"
   ]
  },
  {
   "cell_type": "code",
   "execution_count": 27,
   "id": "617f3f08",
   "metadata": {},
   "outputs": [
    {
     "name": "stdout",
     "output_type": "stream",
     "text": [
      "14\n"
     ]
    }
   ],
   "source": [
    "print(16 - 2 * 5 // 3 + 1)"
   ]
  },
  {
   "cell_type": "code",
   "execution_count": 28,
   "id": "4cf64f74",
   "metadata": {},
   "outputs": [
    {
     "name": "stdout",
     "output_type": "stream",
     "text": [
      "-0.03\n"
     ]
    }
   ],
   "source": [
    "print(((5 + 30) * 20 % 3 - 4) / 10 ** 2)"
   ]
  },
  {
   "cell_type": "code",
   "execution_count": 29,
   "id": "98b9f628",
   "metadata": {},
   "outputs": [
    {
     "name": "stdout",
     "output_type": "stream",
     "text": [
      "512\n"
     ]
    }
   ],
   "source": [
    "print(2 ** 3 ** 2)     # o ** mais à direita é feito primeiro!"
   ]
  },
  {
   "cell_type": "code",
   "execution_count": 30,
   "id": "53711e40",
   "metadata": {},
   "outputs": [
    {
     "name": "stdout",
     "output_type": "stream",
     "text": [
      "64\n"
     ]
    }
   ],
   "source": [
    "print((2 ** 3) ** 2)   # use parêntesese para forçar a ordem!"
   ]
  },
  {
   "cell_type": "markdown",
   "id": "fae8761f",
   "metadata": {
    "slideshow": {
     "slide_type": "slide"
    }
   },
   "source": [
    "# Representação de ponto flutuante"
   ]
  },
  {
   "cell_type": "markdown",
   "id": "f75b4121",
   "metadata": {
    "slideshow": {
     "slide_type": "slide"
    }
   },
   "source": [
    "## Exemplos"
   ]
  },
  {
   "cell_type": "code",
   "execution_count": 31,
   "id": "51d9b9c4",
   "metadata": {},
   "outputs": [
    {
     "name": "stdout",
     "output_type": "stream",
     "text": [
      "1.79e+308\n"
     ]
    }
   ],
   "source": [
    "# o valor máximo que um número de ponto flutuante pode ter é de aproximadamente 1.79 × 10^308\n",
    "print(1.79e308)"
   ]
  },
  {
   "cell_type": "code",
   "execution_count": 32,
   "id": "033b7ce8",
   "metadata": {},
   "outputs": [
    {
     "name": "stdout",
     "output_type": "stream",
     "text": [
      "inf\n"
     ]
    }
   ],
   "source": [
    "# o valor máximo que um número de ponto flutuante pode ter é de aproximadamente 1.8 × 10^308\n",
    "print(1.8e308)"
   ]
  },
  {
   "cell_type": "code",
   "execution_count": 33,
   "id": "6755b219",
   "metadata": {},
   "outputs": [
    {
     "name": "stdout",
     "output_type": "stream",
     "text": [
      "5e-324\n"
     ]
    }
   ],
   "source": [
    "# O número mais próximo que um número diferente de zero pode ser de zero é aproximadamente 5.0 ⨉ 10^(-324).\n",
    "print(5.0e-324)"
   ]
  },
  {
   "cell_type": "code",
   "execution_count": 34,
   "id": "59488fe3",
   "metadata": {},
   "outputs": [
    {
     "name": "stdout",
     "output_type": "stream",
     "text": [
      "0.0\n"
     ]
    }
   ],
   "source": [
    "# Qualquer coisa mais próxima de zero do que isso é efetivamente zero\n",
    "print(1e-325)"
   ]
  },
  {
   "cell_type": "markdown",
   "id": "259ae9b5",
   "metadata": {},
   "source": [
    "***\n",
    "\n",
    "Para detalhes, sugere-se a leitura da documentação [Floating Point Arithmetic](https://docs.python.org/3.10/tutorial/floatingpoint.html)."
   ]
  },
  {
   "cell_type": "markdown",
   "id": "614207b1",
   "metadata": {
    "slideshow": {
     "slide_type": "slide"
    }
   },
   "source": [
    "## Exemplos"
   ]
  },
  {
   "cell_type": "code",
   "execution_count": 35,
   "id": "1b5e1ece",
   "metadata": {},
   "outputs": [
    {
     "data": {
      "text/plain": [
       "False"
      ]
     },
     "execution_count": 35,
     "metadata": {},
     "output_type": "execute_result"
    }
   ],
   "source": [
    "# As representações internas dos somandos não são exatamente iguais 1.1 e 2.2, respectivamente.\n",
    "x = 1.1 + 2.2\n",
    "\n",
    "x == 3.3"
   ]
  },
  {
   "cell_type": "code",
   "execution_count": 36,
   "id": "57c6e0af",
   "metadata": {},
   "outputs": [
    {
     "data": {
      "text/plain": [
       "True"
      ]
     },
     "execution_count": 36,
     "metadata": {},
     "output_type": "execute_result"
    }
   ],
   "source": [
    "# Como podemos contornar o problema?\n",
    "tolerancia = 0.00001\n",
    "\n",
    "x = 1.1 + 2.2\n",
    "abs(x - 3.3) < tolerancia"
   ]
  },
  {
   "cell_type": "markdown",
   "id": "ff172091",
   "metadata": {},
   "source": [
    "***\n",
    "\n",
    "Outras funções podem ser revisadas na documentação [https://docs.python.org/3.8/library/functions.html](https://docs.python.org/3.8/library/functions.html)."
   ]
  },
  {
   "cell_type": "markdown",
   "id": "798d16d6",
   "metadata": {
    "slideshow": {
     "slide_type": "slide"
    }
   },
   "source": [
    "## Exemplos: Comportamento inesperado!"
   ]
  },
  {
   "cell_type": "code",
   "execution_count": 37,
   "id": "90a4e7d3",
   "metadata": {},
   "outputs": [
    {
     "name": "stdout",
     "output_type": "stream",
     "text": [
      "<class 'int'> <class 'int'>\n",
      "140193845687248 140193845687248\n",
      "0x7f816c5f33d0 0x7f816c5f33d0\n"
     ]
    }
   ],
   "source": [
    "# Variáveis identicas\n",
    "m=n=300\n",
    "print(type(m), type(n)) # Mostra o tipo do objeto.\n",
    "print(id(m), id(n)) # A função id() nos diz o endereço permanente do objeto na memória.\n",
    "print(hex(id(m)), hex(id(n))) # representação hexadecimal."
   ]
  },
  {
   "cell_type": "code",
   "execution_count": 38,
   "id": "879bd798",
   "metadata": {},
   "outputs": [
    {
     "name": "stdout",
     "output_type": "stream",
     "text": [
      "<class 'int'> <class 'int'>\n",
      "140193845689712 140193845687152\n",
      "0x7f816c5f3d70 0x7f816c5f3370\n"
     ]
    }
   ],
   "source": [
    "# Atribui o valor 300 às variável m e n\n",
    "m = 300\n",
    "n = 300\n",
    "print(type(m), type(n))\n",
    "print(id(m), id(n))\n",
    "print(hex(id(m)), hex(id(n)))"
   ]
  },
  {
   "cell_type": "markdown",
   "id": "bd4c75d9",
   "metadata": {
    "slideshow": {
     "slide_type": "slide"
    }
   },
   "source": [
    "## Exemplos: Comportamento inesperado!"
   ]
  },
  {
   "cell_type": "code",
   "execution_count": 39,
   "id": "6300c760",
   "metadata": {},
   "outputs": [
    {
     "name": "stdout",
     "output_type": "stream",
     "text": [
      "True\n",
      "False\n"
     ]
    }
   ],
   "source": [
    "print(m == n) # Compara se as variáveis tem o mesmo valor\n",
    "print(m is n) # Compara se os objetos são identicos"
   ]
  },
  {
   "cell_type": "code",
   "execution_count": 40,
   "id": "190cf0a3",
   "metadata": {},
   "outputs": [
    {
     "name": "stdout",
     "output_type": "stream",
     "text": [
      "m= 300 n= 300\n",
      "140193845689712 140193845687152\n",
      "0x7f816c5f3d70 0x7f816c5f3d70\n"
     ]
    }
   ],
   "source": [
    "# Ambos objetos compartilham o mesmo espaço na memória!\n",
    "print(\"m=\", m, \"n=\",n)\n",
    "print(id(m), id(n))\n",
    "print(hex(id(m)), hex(id(m)))"
   ]
  },
  {
   "cell_type": "markdown",
   "id": "c5c5283c",
   "metadata": {
    "slideshow": {
     "slide_type": "slide"
    }
   },
   "source": [
    "## Exemplos: Comportamento inesperado!"
   ]
  },
  {
   "cell_type": "code",
   "execution_count": 41,
   "id": "6199407b",
   "metadata": {},
   "outputs": [
    {
     "name": "stdout",
     "output_type": "stream",
     "text": [
      "i\t id(i) \t\t\t id(i+1)-id(i))\n",
      "-8\t140193845687504\t\t\t2400\n",
      "-7\t140193845689104\t\t\t-2592\n",
      "-6\t140193845687504\t\t\t-140193835898736\n",
      "-5\t9788768\t\t\t32\n",
      "-4\t9788800\t\t\t32\n",
      "-3\t9788832\t\t\t32\n",
      "-2\t9788864\t\t\t32\n",
      "-1\t9788896\t\t\t32\n",
      "0\t9788928\t\t\t32\n",
      "1\t9788960\t\t\t32\n",
      "2\t9788992\t\t\t32\n",
      "3\t9789024\t\t\t32\n",
      "4\t9789056\t\t\t32\n",
      "5\t9789088\t\t\t32\n",
      "6\t9789120\t\t\t32\n",
      "7\t9789152\t\t\t32\n",
      "8\t9789184\t\t\t32\n",
      "9\t9789216\t\t\t32\n",
      "10\t9789248\t\t\t32\n",
      "11\t9789280\t\t\t32\n",
      "12\t9789312\t\t\t32\n",
      "13\t9789344\t\t\t32\n",
      "14\t9789376\t\t\t32\n",
      "15\t9789408\t\t\t32\n",
      "16\t9789440\t\t\t32\n",
      "17\t9789472\t\t\t32\n",
      "18\t9789504\t\t\t32\n",
      "19\t9789536\t\t\t32\n",
      "20\t9789568\t\t\t32\n",
      "21\t9789600\t\t\t32\n",
      "22\t9789632\t\t\t32\n",
      "23\t9789664\t\t\t32\n",
      "24\t9789696\t\t\t32\n",
      "25\t9789728\t\t\t32\n",
      "26\t9789760\t\t\t32\n",
      "27\t9789792\t\t\t32\n",
      "28\t9789824\t\t\t32\n",
      "29\t9789856\t\t\t32\n",
      "30\t9789888\t\t\t32\n",
      "31\t9789920\t\t\t32\n",
      "32\t9789952\t\t\t32\n",
      "33\t9789984\t\t\t32\n",
      "34\t9790016\t\t\t32\n",
      "35\t9790048\t\t\t32\n",
      "36\t9790080\t\t\t32\n",
      "37\t9790112\t\t\t32\n",
      "38\t9790144\t\t\t32\n",
      "39\t9790176\t\t\t32\n",
      "40\t9790208\t\t\t32\n",
      "41\t9790240\t\t\t32\n",
      "42\t9790272\t\t\t32\n",
      "43\t9790304\t\t\t32\n",
      "44\t9790336\t\t\t32\n",
      "45\t9790368\t\t\t32\n",
      "46\t9790400\t\t\t32\n",
      "47\t9790432\t\t\t32\n",
      "48\t9790464\t\t\t32\n",
      "49\t9790496\t\t\t32\n",
      "50\t9790528\t\t\t32\n",
      "51\t9790560\t\t\t32\n",
      "52\t9790592\t\t\t32\n",
      "53\t9790624\t\t\t32\n",
      "54\t9790656\t\t\t32\n",
      "55\t9790688\t\t\t32\n",
      "56\t9790720\t\t\t32\n",
      "57\t9790752\t\t\t32\n",
      "58\t9790784\t\t\t32\n",
      "59\t9790816\t\t\t32\n",
      "60\t9790848\t\t\t32\n",
      "61\t9790880\t\t\t32\n",
      "62\t9790912\t\t\t32\n",
      "63\t9790944\t\t\t32\n",
      "64\t9790976\t\t\t32\n",
      "65\t9791008\t\t\t32\n",
      "66\t9791040\t\t\t32\n",
      "67\t9791072\t\t\t32\n",
      "68\t9791104\t\t\t32\n",
      "69\t9791136\t\t\t32\n",
      "70\t9791168\t\t\t32\n",
      "71\t9791200\t\t\t32\n",
      "72\t9791232\t\t\t32\n",
      "73\t9791264\t\t\t32\n",
      "74\t9791296\t\t\t32\n",
      "75\t9791328\t\t\t32\n",
      "76\t9791360\t\t\t32\n",
      "77\t9791392\t\t\t32\n",
      "78\t9791424\t\t\t32\n",
      "79\t9791456\t\t\t32\n",
      "80\t9791488\t\t\t32\n",
      "81\t9791520\t\t\t32\n",
      "82\t9791552\t\t\t32\n",
      "83\t9791584\t\t\t32\n",
      "84\t9791616\t\t\t32\n",
      "85\t9791648\t\t\t32\n",
      "86\t9791680\t\t\t32\n",
      "87\t9791712\t\t\t32\n",
      "88\t9791744\t\t\t32\n",
      "89\t9791776\t\t\t32\n",
      "90\t9791808\t\t\t32\n",
      "91\t9791840\t\t\t32\n",
      "92\t9791872\t\t\t32\n",
      "93\t9791904\t\t\t32\n",
      "94\t9791936\t\t\t32\n",
      "95\t9791968\t\t\t32\n",
      "96\t9792000\t\t\t32\n",
      "97\t9792032\t\t\t32\n",
      "98\t9792064\t\t\t32\n",
      "99\t9792096\t\t\t32\n",
      "100\t9792128\t\t\t32\n",
      "101\t9792160\t\t\t32\n",
      "102\t9792192\t\t\t32\n",
      "103\t9792224\t\t\t32\n",
      "104\t9792256\t\t\t32\n",
      "105\t9792288\t\t\t32\n",
      "106\t9792320\t\t\t32\n",
      "107\t9792352\t\t\t32\n",
      "108\t9792384\t\t\t32\n",
      "109\t9792416\t\t\t32\n",
      "110\t9792448\t\t\t32\n",
      "111\t9792480\t\t\t32\n",
      "112\t9792512\t\t\t32\n",
      "113\t9792544\t\t\t32\n",
      "114\t9792576\t\t\t32\n",
      "115\t9792608\t\t\t32\n",
      "116\t9792640\t\t\t32\n",
      "117\t9792672\t\t\t32\n",
      "118\t9792704\t\t\t32\n",
      "119\t9792736\t\t\t32\n",
      "120\t9792768\t\t\t32\n",
      "121\t9792800\t\t\t32\n",
      "122\t9792832\t\t\t32\n",
      "123\t9792864\t\t\t32\n",
      "124\t9792896\t\t\t32\n",
      "125\t9792928\t\t\t32\n",
      "126\t9792960\t\t\t32\n",
      "127\t9792992\t\t\t32\n",
      "128\t9793024\t\t\t32\n",
      "129\t9793056\t\t\t32\n",
      "130\t9793088\t\t\t32\n",
      "131\t9793120\t\t\t32\n",
      "132\t9793152\t\t\t32\n",
      "133\t9793184\t\t\t32\n",
      "134\t9793216\t\t\t32\n",
      "135\t9793248\t\t\t32\n",
      "136\t9793280\t\t\t32\n",
      "137\t9793312\t\t\t32\n",
      "138\t9793344\t\t\t32\n",
      "139\t9793376\t\t\t32\n",
      "140\t9793408\t\t\t32\n",
      "141\t9793440\t\t\t32\n",
      "142\t9793472\t\t\t32\n",
      "143\t9793504\t\t\t32\n",
      "144\t9793536\t\t\t32\n",
      "145\t9793568\t\t\t32\n",
      "146\t9793600\t\t\t32\n",
      "147\t9793632\t\t\t32\n",
      "148\t9793664\t\t\t32\n",
      "149\t9793696\t\t\t32\n",
      "150\t9793728\t\t\t32\n",
      "151\t9793760\t\t\t32\n",
      "152\t9793792\t\t\t32\n",
      "153\t9793824\t\t\t32\n",
      "154\t9793856\t\t\t32\n",
      "155\t9793888\t\t\t32\n",
      "156\t9793920\t\t\t32\n",
      "157\t9793952\t\t\t32\n",
      "158\t9793984\t\t\t32\n",
      "159\t9794016\t\t\t32\n",
      "160\t9794048\t\t\t32\n",
      "161\t9794080\t\t\t32\n",
      "162\t9794112\t\t\t32\n",
      "163\t9794144\t\t\t32\n",
      "164\t9794176\t\t\t32\n",
      "165\t9794208\t\t\t32\n",
      "166\t9794240\t\t\t32\n",
      "167\t9794272\t\t\t32\n",
      "168\t9794304\t\t\t32\n",
      "169\t9794336\t\t\t32\n",
      "170\t9794368\t\t\t32\n",
      "171\t9794400\t\t\t32\n",
      "172\t9794432\t\t\t32\n",
      "173\t9794464\t\t\t32\n",
      "174\t9794496\t\t\t32\n",
      "175\t9794528\t\t\t32\n",
      "176\t9794560\t\t\t32\n",
      "177\t9794592\t\t\t32\n",
      "178\t9794624\t\t\t32\n",
      "179\t9794656\t\t\t32\n",
      "180\t9794688\t\t\t32\n",
      "181\t9794720\t\t\t32\n",
      "182\t9794752\t\t\t32\n",
      "183\t9794784\t\t\t32\n",
      "184\t9794816\t\t\t32\n",
      "185\t9794848\t\t\t32\n",
      "186\t9794880\t\t\t32\n",
      "187\t9794912\t\t\t32\n",
      "188\t9794944\t\t\t32\n",
      "189\t9794976\t\t\t32\n",
      "190\t9795008\t\t\t32\n",
      "191\t9795040\t\t\t32\n",
      "192\t9795072\t\t\t32\n",
      "193\t9795104\t\t\t32\n",
      "194\t9795136\t\t\t32\n",
      "195\t9795168\t\t\t32\n",
      "196\t9795200\t\t\t32\n",
      "197\t9795232\t\t\t32\n",
      "198\t9795264\t\t\t32\n",
      "199\t9795296\t\t\t32\n",
      "200\t9795328\t\t\t32\n",
      "201\t9795360\t\t\t32\n",
      "202\t9795392\t\t\t32\n",
      "203\t9795424\t\t\t32\n",
      "204\t9795456\t\t\t32\n",
      "205\t9795488\t\t\t32\n",
      "206\t9795520\t\t\t32\n",
      "207\t9795552\t\t\t32\n",
      "208\t9795584\t\t\t32\n",
      "209\t9795616\t\t\t32\n",
      "210\t9795648\t\t\t32\n",
      "211\t9795680\t\t\t32\n",
      "212\t9795712\t\t\t32\n",
      "213\t9795744\t\t\t32\n",
      "214\t9795776\t\t\t32\n",
      "215\t9795808\t\t\t32\n",
      "216\t9795840\t\t\t32\n",
      "217\t9795872\t\t\t32\n",
      "218\t9795904\t\t\t32\n",
      "219\t9795936\t\t\t32\n",
      "220\t9795968\t\t\t32\n",
      "221\t9796000\t\t\t32\n",
      "222\t9796032\t\t\t32\n",
      "223\t9796064\t\t\t32\n",
      "224\t9796096\t\t\t32\n",
      "225\t9796128\t\t\t32\n",
      "226\t9796160\t\t\t32\n",
      "227\t9796192\t\t\t32\n",
      "228\t9796224\t\t\t32\n",
      "229\t9796256\t\t\t32\n",
      "230\t9796288\t\t\t32\n",
      "231\t9796320\t\t\t32\n",
      "232\t9796352\t\t\t32\n",
      "233\t9796384\t\t\t32\n",
      "234\t9796416\t\t\t32\n",
      "235\t9796448\t\t\t32\n",
      "236\t9796480\t\t\t32\n",
      "237\t9796512\t\t\t32\n",
      "238\t9796544\t\t\t32\n",
      "239\t9796576\t\t\t32\n",
      "240\t9796608\t\t\t32\n",
      "241\t9796640\t\t\t32\n",
      "242\t9796672\t\t\t32\n",
      "243\t9796704\t\t\t32\n",
      "244\t9796736\t\t\t32\n",
      "245\t9796768\t\t\t32\n",
      "246\t9796800\t\t\t32\n",
      "247\t9796832\t\t\t32\n",
      "248\t9796864\t\t\t32\n",
      "249\t9796896\t\t\t32\n",
      "250\t9796928\t\t\t32\n",
      "251\t9796960\t\t\t32\n",
      "252\t9796992\t\t\t32\n",
      "253\t9797024\t\t\t32\n",
      "254\t9797056\t\t\t32\n",
      "255\t9797088\t\t\t32\n",
      "256\t9797120\t\t\t140193835890576\n",
      "257\t140193845689904\t\t\t-992\n",
      "258\t140193845687216\t\t\t352\n"
     ]
    }
   ],
   "source": [
    "# Quais valores são afetados por esse comportamento?\n",
    "# Comparemos os ID atribuidos para valores pequenos\n",
    "print(\"i\\t id(i) \\t\\t\\t id(i+1)-id(i))\")\n",
    "for i in range(-8,259):\n",
    "    print(\"{}\\t{}\\t\\t\\t{}\".format(i, id(i),id(i+1)-id(i)))"
   ]
  },
  {
   "cell_type": "markdown",
   "id": "8e8656fd",
   "metadata": {
    "slideshow": {
     "slide_type": "slide"
    }
   },
   "source": [
    "## Exemplos: Comportamento inesperado!"
   ]
  },
  {
   "cell_type": "markdown",
   "id": "8aafb281",
   "metadata": {},
   "source": [
    "### Conclusão\n",
    "\n",
    "Ao comparar os endereços de memória desses pequenos valores inteiros, podemos ver que os valores de -5 a 256 são \"**reusados**\" durante a execução do programa (dependendo da implementação do **Python** e da arquitetura do sistema, esses resultados podem variar). Reservar o mesmo espaço de memória e classificar números inteiros pequenos aumenta o desempenho do **Python**. Portanto, comparar as identidades desses pequenos números inteiros pode levar a resultados inesperados.\n",
    "\n",
    "**Observação**: Coisas similares podem acontecer com listas com poucos elementos [Two variables in Python have same id, but not lists or tuples](https://stackoverflow.com/questions/38189660/two-variables-in-python-have-same-id-but-not-lists-or-tuples/38189759#38189759).\n"
   ]
  },
  {
   "cell_type": "markdown",
   "id": "c7f3ed59",
   "metadata": {
    "slideshow": {
     "slide_type": "slide"
    }
   },
   "source": [
    "# Comandos mágicos"
   ]
  },
  {
   "cell_type": "markdown",
   "id": "5bc15bd1",
   "metadata": {
    "slideshow": {
     "slide_type": "slide"
    }
   },
   "source": [
    "# Alguns comandos úteis"
   ]
  },
  {
   "cell_type": "code",
   "execution_count": 43,
   "id": "ac0ca885",
   "metadata": {},
   "outputs": [
    {
     "name": "stdout",
     "output_type": "stream",
     "text": [
      "Variable                                 Type      Data/Info\n",
      "------------------------------------------------------------\n",
      "Video                                    type      <class 'IPython.core.display.Video'>\n",
      "aluno                                    str       Jorge\n",
      "criei_uma_variavel_com_nome_gigantesco   float     1.5\n",
      "i                                        int       1\n",
      "ip                                       module    <module 'IPython.display'<...>ages/IPython/display.py'>\n",
      "keyword                                  module    <module 'keyword' from '/<...>ib/python3.8/keyword.py'>\n",
      "m                                        int       300\n",
      "n                                        int       300\n",
      "numero                                   int       200\n",
      "numeros                                  list      n=4\n",
      "tolerancia                               float     1e-05\n",
      "x                                        float     3.3000000000000003\n"
     ]
    }
   ],
   "source": [
    "# Mostra uma tabela com o nome das variáveis, tipo e valor\n",
    "%whos"
   ]
  },
  {
   "cell_type": "markdown",
   "id": "38ff1ad8",
   "metadata": {
    "slideshow": {
     "slide_type": "slide"
    }
   },
   "source": [
    "# Alguns comandos úteis"
   ]
  },
  {
   "cell_type": "code",
   "execution_count": 44,
   "id": "8c0131b8",
   "metadata": {},
   "outputs": [
    {
     "data": {
      "text/plain": [
       "['Video',\n",
       " 'aluno',\n",
       " 'criei_uma_variavel_com_nome_gigantesco',\n",
       " 'i',\n",
       " 'ip',\n",
       " 'keyword',\n",
       " 'm',\n",
       " 'n',\n",
       " 'numero',\n",
       " 'numeros',\n",
       " 'tolerancia',\n",
       " 'x']"
      ]
     },
     "execution_count": 44,
     "metadata": {},
     "output_type": "execute_result"
    }
   ],
   "source": [
    "# Mostra a listagem de variáveis\n",
    "%who_ls"
   ]
  },
  {
   "cell_type": "markdown",
   "id": "3067cbed",
   "metadata": {
    "slideshow": {
     "slide_type": "slide"
    }
   },
   "source": [
    "# Alguns comandos úteis"
   ]
  },
  {
   "cell_type": "code",
   "execution_count": 45,
   "id": "d94772b0",
   "metadata": {
    "scrolled": true
   },
   "outputs": [
    {
     "name": "stdout",
     "output_type": "stream",
     "text": [
      "from IPython.display import Video\n",
      "import IPython.display as ip\n",
      "Video(\"videos/Most_Popular_Programming_Languages_1965_2020.mp4\",width=900,height=700)\n",
      "ip.IFrame('https://python.org.br/', width='100%', height=650)\n",
      "ip.IFrame('https://python-release-cycle.glitch.me/', width='100%', height=650)\n",
      "help(\"print\") # Função\n",
      "help(\"math\") # Biblioteca\n",
      "help() # Modo interativo\n",
      "ip.IFrame('https://en.wikipedia.org/wiki/Comparison_of_text_editors', width='100%', height=450)\n",
      "ip.IFrame('https://wiki.python.org/moin/PythonEditors', width='100%', height=450)\n",
      "ip.IFrame('https://insights.stackoverflow.com/survey/2021#most-popular-technologies-new-collab-tools',width='100%',height=650)\n",
      "ip.IFrame('https://jupyter.org', width='100%', height=450)\n",
      "ip.IFrame('https://python3statement.org/',width='100%',height=650)\n",
      "numero = 100\n",
      "print(id(numero), hex(id(numero)))\n",
      "numero = 200\n",
      "print(id(numero), hex(id(numero)))\n",
      "numeros = [1, 2, 3]\n",
      "print(hex(id(numeros)))\n",
      "numeros.append(4)\n",
      "print(hex(id(numeros)))\n",
      "# Meu primeiro programa em Python\n",
      "print(\"Olá, mundo!\")\n",
      "# -*- coding: utf-8 -*-\n",
      "# Meu primeiro programa em python\n",
      "print(\"Olá, mundo!\")\n",
      "# -*- coding: utf-8 -*-\n",
      "\"\"\"\n",
      "Meu\n",
      "primeiro\n",
      "programa\n",
      "em\n",
      "Python\n",
      "\"\"\"\n",
      "print(\"Olá mundo!\")\n",
      "# Por exemplo: Criando uma variável em python\n",
      "criei_uma_variavel_com_nome_gigantesco = 1.5\n",
      "help(\"keywords\")\n",
      "import keyword\n",
      "\n",
      "print(keyword.kwlist) # Listagem de keywords\n",
      "keyword.iskeyword(\"pass\")\n",
      "aluno = \"Jorge\" # nome: aluno / valor: \"Jorge\"\n",
      "\n",
      "type(aluno)     # Tipo\n",
      "print(hex(id(aluno))) # Endereço na memória\n",
      "# Exemplos com nomes inválidos!\n",
      "\n",
      "4num = 0\n",
      "3 = \"informe seu nome\"\n",
      "2d = 4\n",
      "print(10 + 20**2 * 30//10)\n",
      "print(16 - 2 * 5 // 3 + 1)\n",
      "print(((5 + 30) * 20 % 3 - 4) / 10 ** 2)\n",
      "print(2 ** 3 ** 2)     # o ** mais à direita é feito primeiro!\n",
      "print((2 ** 3) ** 2)   # use parêntesese para forçar a ordem!\n",
      "# o valor máximo que um número de ponto flutuante pode ter é de aproximadamente 1.79 × 10^308\n",
      "print(1.79e308)\n",
      "# o valor máximo que um número de ponto flutuante pode ter é de aproximadamente 1.8 × 10^308\n",
      "print(1.8e308)\n",
      "# O número mais próximo que um número diferente de zero pode ser de zero é aproximadamente 5.0 ⨉ 10^(-324).\n",
      "print(5.0e-324)\n",
      "# Qualquer coisa mais próxima de zero do que isso é efetivamente zero\n",
      "print(1e-325)\n",
      "# As representações internas dos somandos não são exatamente iguais 1.1 e 2.2, respectivamente.\n",
      "x = 1.1 + 2.2\n",
      "\n",
      "x == 3.3\n",
      "# Como podemos contornar o problema?\n",
      "tolerancia = 0.00001\n",
      "\n",
      "x = 1.1 + 2.2\n",
      "abs(x - 3.3) < tolerancia\n",
      "# Variáveis identicas\n",
      "m=n=300\n",
      "print(type(m), type(n)) # Mostra o tipo do objeto.\n",
      "print(id(m), id(n)) # A função id() nos diz o endereço permanente do objeto na memória.\n",
      "print(hex(id(m)), hex(id(n))) # representação hexadecimal.\n",
      "# Atribui o valor 300 às variável m e n\n",
      "m = 300\n",
      "n = 300\n",
      "print(type(m), type(n))\n",
      "print(id(m), id(n))\n",
      "print(hex(id(m)), hex(id(n)))\n",
      "print(m == n) # Compara se as variáveis tem o mesmo valor\n",
      "print(m is n) # Compara se os objetos são identicos\n",
      "# Ambos objetos compartilham o mesmo espaço na memória!\n",
      "print(\"m=\", m, \"n=\",n)\n",
      "print(id(m), id(n))\n",
      "print(hex(id(m)), hex(id(m)))\n",
      "# Quais valores são afetados por esse comportamento?\n",
      "# Comparemos os ID atribuidos para valores pequenos\n",
      "print(\"i\\t id(i) \\t\\t\\t id(i+1)-id(i))\")\n",
      "for i in range(-8,259):\n",
      "    print(\"{}\\t{}\\t\\t\\t{}\".format(i, id(i),id(i+1)-id(i)))\n",
      "i = 0\n",
      "for i in range(2):\n",
      "    print(i)\n",
      "# Mostra uma tabela com o nome das variáveis, tipo e valor\n",
      "%whos\n",
      "# Mostra a listagem de variáveis\n",
      "%who_ls\n",
      "# Mostra o histórico na tela\n",
      "%history\n"
     ]
    }
   ],
   "source": [
    "# Mostra o histórico na tela\n",
    "%history"
   ]
  },
  {
   "cell_type": "markdown",
   "id": "9c5bca73",
   "metadata": {
    "slideshow": {
     "slide_type": "slide"
    }
   },
   "source": [
    "# Alguns comandos úteis"
   ]
  },
  {
   "cell_type": "code",
   "execution_count": 46,
   "id": "2ed066d7",
   "metadata": {},
   "outputs": [
    {
     "data": {
      "text/plain": [
       "'http://dpaste.com/58R87PL9F'"
      ]
     },
     "execution_count": 46,
     "metadata": {},
     "output_type": "execute_result"
    }
   ],
   "source": [
    "# Cria um enlace para compartilhar o código. Válido por 7 dias.\n",
    "%pastebin 15-17"
   ]
  },
  {
   "cell_type": "code",
   "execution_count": 47,
   "id": "41bd40ea",
   "metadata": {},
   "outputs": [
    {
     "data": {
      "application/javascript": [
       "IPython.notebook.set_autosave_interval(30000)"
      ]
     },
     "metadata": {},
     "output_type": "display_data"
    },
    {
     "name": "stdout",
     "output_type": "stream",
     "text": [
      "Autosaving every 30 seconds\n"
     ]
    }
   ],
   "source": [
    "# Salva automaticamente cada 60 seg\n",
    "%autosave 30"
   ]
  },
  {
   "cell_type": "code",
   "execution_count": 48,
   "id": "54acfde5",
   "metadata": {},
   "outputs": [
    {
     "name": "stdout",
     "output_type": "stream",
     "text": [
      "\n",
      "Automagic is OFF, % prefix IS needed for line magics.\n"
     ]
    }
   ],
   "source": [
    "# Mostra a listagem de todos os comando mágicos do Python\n",
    "%automagic line"
   ]
  },
  {
   "cell_type": "code",
   "execution_count": 49,
   "id": "2d35085a",
   "metadata": {},
   "outputs": [
    {
     "name": "stdout",
     "output_type": "stream",
     "text": [
      "3.8.10 (default, Mar 15 2022, 12:22:08) \n",
      "[GCC 9.4.0]\n"
     ]
    }
   ],
   "source": [
    "import sys\n",
    "print(sys.version)"
   ]
  },
  {
   "cell_type": "markdown",
   "id": "d4698500",
   "metadata": {
    "slideshow": {
     "slide_type": "slide"
    }
   },
   "source": [
    "# Alguns comandos úteis"
   ]
  },
  {
   "cell_type": "code",
   "execution_count": 50,
   "id": "e987d7e6",
   "metadata": {},
   "outputs": [
    {
     "data": {
      "application/json": {
       "cell": {
        "!": "OSMagics",
        "HTML": "Other",
        "SVG": "Other",
        "bash": "Other",
        "capture": "ExecutionMagics",
        "debug": "ExecutionMagics",
        "file": "Other",
        "html": "DisplayMagics",
        "javascript": "DisplayMagics",
        "js": "DisplayMagics",
        "latex": "DisplayMagics",
        "markdown": "DisplayMagics",
        "perl": "Other",
        "prun": "ExecutionMagics",
        "pypy": "Other",
        "python": "Other",
        "python2": "Other",
        "python3": "Other",
        "ruby": "Other",
        "script": "ScriptMagics",
        "sh": "Other",
        "svg": "DisplayMagics",
        "sx": "OSMagics",
        "system": "OSMagics",
        "time": "ExecutionMagics",
        "timeit": "ExecutionMagics",
        "writefile": "OSMagics"
       },
       "line": {
        "alias": "OSMagics",
        "alias_magic": "BasicMagics",
        "autoawait": "AsyncMagics",
        "autocall": "AutoMagics",
        "automagic": "AutoMagics",
        "autosave": "KernelMagics",
        "bookmark": "OSMagics",
        "cat": "Other",
        "cd": "OSMagics",
        "clear": "KernelMagics",
        "colors": "BasicMagics",
        "conda": "PackagingMagics",
        "config": "ConfigMagics",
        "connect_info": "KernelMagics",
        "cp": "Other",
        "debug": "ExecutionMagics",
        "dhist": "OSMagics",
        "dirs": "OSMagics",
        "doctest_mode": "BasicMagics",
        "ed": "Other",
        "edit": "KernelMagics",
        "env": "OSMagics",
        "gui": "BasicMagics",
        "hist": "Other",
        "history": "HistoryMagics",
        "killbgscripts": "ScriptMagics",
        "ldir": "Other",
        "less": "KernelMagics",
        "lf": "Other",
        "lk": "Other",
        "ll": "Other",
        "load": "CodeMagics",
        "load_ext": "ExtensionMagics",
        "loadpy": "CodeMagics",
        "logoff": "LoggingMagics",
        "logon": "LoggingMagics",
        "logstart": "LoggingMagics",
        "logstate": "LoggingMagics",
        "logstop": "LoggingMagics",
        "ls": "Other",
        "lsmagic": "BasicMagics",
        "lx": "Other",
        "macro": "ExecutionMagics",
        "magic": "BasicMagics",
        "man": "KernelMagics",
        "matplotlib": "PylabMagics",
        "mkdir": "Other",
        "more": "KernelMagics",
        "mv": "Other",
        "notebook": "BasicMagics",
        "page": "BasicMagics",
        "pastebin": "CodeMagics",
        "pdb": "ExecutionMagics",
        "pdef": "NamespaceMagics",
        "pdoc": "NamespaceMagics",
        "pfile": "NamespaceMagics",
        "pinfo": "NamespaceMagics",
        "pinfo2": "NamespaceMagics",
        "pip": "PackagingMagics",
        "popd": "OSMagics",
        "pprint": "BasicMagics",
        "precision": "BasicMagics",
        "prun": "ExecutionMagics",
        "psearch": "NamespaceMagics",
        "psource": "NamespaceMagics",
        "pushd": "OSMagics",
        "pwd": "OSMagics",
        "pycat": "OSMagics",
        "pylab": "PylabMagics",
        "qtconsole": "KernelMagics",
        "quickref": "BasicMagics",
        "recall": "HistoryMagics",
        "rehashx": "OSMagics",
        "reload_ext": "ExtensionMagics",
        "rep": "Other",
        "rerun": "HistoryMagics",
        "reset": "NamespaceMagics",
        "reset_selective": "NamespaceMagics",
        "rm": "Other",
        "rmdir": "Other",
        "run": "ExecutionMagics",
        "save": "CodeMagics",
        "sc": "OSMagics",
        "set_env": "OSMagics",
        "store": "StoreMagics",
        "sx": "OSMagics",
        "system": "OSMagics",
        "tb": "ExecutionMagics",
        "time": "ExecutionMagics",
        "timeit": "ExecutionMagics",
        "unalias": "OSMagics",
        "unload_ext": "ExtensionMagics",
        "who": "NamespaceMagics",
        "who_ls": "NamespaceMagics",
        "whos": "NamespaceMagics",
        "xdel": "NamespaceMagics",
        "xmode": "BasicMagics"
       }
      },
      "text/plain": [
       "Available line magics:\n",
       "%alias  %alias_magic  %autoawait  %autocall  %automagic  %autosave  %bookmark  %cat  %cd  %clear  %colors  %conda  %config  %connect_info  %cp  %debug  %dhist  %dirs  %doctest_mode  %ed  %edit  %env  %gui  %hist  %history  %killbgscripts  %ldir  %less  %lf  %lk  %ll  %load  %load_ext  %loadpy  %logoff  %logon  %logstart  %logstate  %logstop  %ls  %lsmagic  %lx  %macro  %magic  %man  %matplotlib  %mkdir  %more  %mv  %notebook  %page  %pastebin  %pdb  %pdef  %pdoc  %pfile  %pinfo  %pinfo2  %pip  %popd  %pprint  %precision  %prun  %psearch  %psource  %pushd  %pwd  %pycat  %pylab  %qtconsole  %quickref  %recall  %rehashx  %reload_ext  %rep  %rerun  %reset  %reset_selective  %rm  %rmdir  %run  %save  %sc  %set_env  %store  %sx  %system  %tb  %time  %timeit  %unalias  %unload_ext  %who  %who_ls  %whos  %xdel  %xmode\n",
       "\n",
       "Available cell magics:\n",
       "%%!  %%HTML  %%SVG  %%bash  %%capture  %%debug  %%file  %%html  %%javascript  %%js  %%latex  %%markdown  %%perl  %%prun  %%pypy  %%python  %%python2  %%python3  %%ruby  %%script  %%sh  %%svg  %%sx  %%system  %%time  %%timeit  %%writefile\n",
       "\n",
       "Automagic is OFF, % prefix IS needed for line magics."
      ]
     },
     "execution_count": 50,
     "metadata": {},
     "output_type": "execute_result"
    }
   ],
   "source": [
    "# Mostra a listagem de todos os comando mágicos do Python\n",
    "%lsmagic"
   ]
  },
  {
   "cell_type": "code",
   "execution_count": 51,
   "id": "3be28ec6",
   "metadata": {},
   "outputs": [],
   "source": [
    "# Folha de dicas cobrindo uma visão geral de cada comando mágico disponível.\n",
    "%quickref"
   ]
  },
  {
   "cell_type": "markdown",
   "id": "89be16c1",
   "metadata": {
    "slideshow": {
     "slide_type": "slide"
    }
   },
   "source": [
    "# Alguns comandos úteis"
   ]
  },
  {
   "cell_type": "code",
   "execution_count": 52,
   "id": "176c1a76",
   "metadata": {},
   "outputs": [
    {
     "name": "stdout",
     "output_type": "stream",
     "text": [
      "CPU times: user 52.8 ms, sys: 3.88 ms, total: 56.6 ms\n",
      "Wall time: 56.4 ms\n"
     ]
    }
   ],
   "source": [
    "# Mede o tempo de execução da linha que a segue usando a biblioteca time.\n",
    "%time out = [i*i for i in range(1000000)]"
   ]
  },
  {
   "cell_type": "code",
   "execution_count": 53,
   "id": "24be89ae",
   "metadata": {},
   "outputs": [
    {
     "name": "stdout",
     "output_type": "stream",
     "text": [
      "56.1 ms ± 1.41 ms per loop (mean ± std. dev. of 7 runs, 10 loops each)\n"
     ]
    }
   ],
   "source": [
    "# Mede o tempo de execução da linha que a segue usando a biblioteca time.\n",
    "%timeit out = [i*i for i in range(1000000)]"
   ]
  },
  {
   "cell_type": "code",
   "execution_count": 54,
   "id": "a49d79bc",
   "metadata": {},
   "outputs": [
    {
     "data": {
      "text/plain": [
       "'ubuntu'"
      ]
     },
     "execution_count": 54,
     "metadata": {},
     "output_type": "execute_result"
    }
   ],
   "source": [
    "# Lista as variáveis do ambiente\n",
    "%env DESKTOP_SESSION"
   ]
  },
  {
   "cell_type": "code",
   "execution_count": 55,
   "id": "6bc1cf53",
   "metadata": {},
   "outputs": [
    {
     "name": "stdout",
     "output_type": "stream",
     "text": [
      "1.3255\n"
     ]
    }
   ],
   "source": [
    "# Lista as variáveis do ambiente\n",
    "%precision 0\n",
    "a = 1.3255; print(a)"
   ]
  },
  {
   "cell_type": "markdown",
   "id": "2d558b7d",
   "metadata": {
    "slideshow": {
     "slide_type": "slide"
    }
   },
   "source": [
    "# Strings"
   ]
  },
  {
   "cell_type": "markdown",
   "id": "0c6f1d54",
   "metadata": {
    "slideshow": {
     "slide_type": "slide"
    }
   },
   "source": [
    "## Strings"
   ]
  },
  {
   "cell_type": "code",
   "execution_count": 56,
   "id": "49037df8",
   "metadata": {
    "slideshow": {
     "slide_type": "-"
    }
   },
   "outputs": [
    {
     "name": "stdout",
     "output_type": "stream",
     "text": [
      "String com uma aspa (') no meio.\n",
      "String com uma aspa (\") no meio.\n"
     ]
    }
   ],
   "source": [
    "print(\"String com uma aspa (') no meio.\")\n",
    "print('String com uma aspa (\") no meio.')"
   ]
  },
  {
   "cell_type": "code",
   "execution_count": 57,
   "id": "5bb10476",
   "metadata": {
    "slideshow": {
     "slide_type": "-"
    }
   },
   "outputs": [
    {
     "ename": "SyntaxError",
     "evalue": "invalid syntax (3596861209.py, line 1)",
     "output_type": "error",
     "traceback": [
      "\u001b[0;36m  File \u001b[0;32m\"/tmp/ipykernel_575339/3596861209.py\"\u001b[0;36m, line \u001b[0;32m1\u001b[0m\n\u001b[0;31m    print('String com uma aspa (') no meio.')\u001b[0m\n\u001b[0m                                   ^\u001b[0m\n\u001b[0;31mSyntaxError\u001b[0m\u001b[0;31m:\u001b[0m invalid syntax\n"
     ]
    }
   ],
   "source": [
    "print('String com uma aspa (') no meio.')"
   ]
  },
  {
   "cell_type": "code",
   "execution_count": 58,
   "id": "ec2e586c",
   "metadata": {
    "slideshow": {
     "slide_type": "-"
    }
   },
   "outputs": [
    {
     "name": "stdout",
     "output_type": "stream",
     "text": [
      "String com uma aspa (') no meio.\n"
     ]
    }
   ],
   "source": [
    "print('String com uma aspa (\\') no meio.')"
   ]
  },
  {
   "cell_type": "code",
   "execution_count": 59,
   "id": "cbaa47c7",
   "metadata": {
    "slideshow": {
     "slide_type": "-"
    }
   },
   "outputs": [
    {
     "name": "stdout",
     "output_type": "stream",
     "text": [
      "a  b  c\n"
     ]
    }
   ],
   "source": [
    "# Usando \"\\\" para ignorar a quebra da linha\n",
    "print(\"a\\\n",
    "  b\\\n",
    "  c\")"
   ]
  },
  {
   "cell_type": "markdown",
   "id": "b449c3c4",
   "metadata": {
    "slideshow": {
     "slide_type": "slide"
    }
   },
   "source": [
    "## Strings"
   ]
  },
  {
   "cell_type": "code",
   "execution_count": 60,
   "id": "f8c6e3f5",
   "metadata": {},
   "outputs": [
    {
     "name": "stdout",
     "output_type": "stream",
     "text": [
      "comando \\LaTeX \n",
      " Use \\n para quebrar a linha\n"
     ]
    }
   ],
   "source": [
    "# Usando \"\\\\\" para mostrar \\ (backslash)\n",
    "print(\"comando \\\\LaTeX \\n Use \\\\n para quebrar a linha\")"
   ]
  },
  {
   "cell_type": "code",
   "execution_count": 61,
   "id": "3b25d58e",
   "metadata": {},
   "outputs": [
    {
     "name": "stdout",
     "output_type": "stream",
     "text": [
      "Comando\\n\\\\LaTeX\n"
     ]
    }
   ],
   "source": [
    "# Use r ou R para desconsiderar a quebra de linha\n",
    "print(R\"Comando\\n\\\\LaTeX\")"
   ]
  },
  {
   "cell_type": "code",
   "execution_count": 62,
   "id": "41baeb86",
   "metadata": {},
   "outputs": [
    {
     "name": "stdout",
     "output_type": "stream",
     "text": [
      "Nossa string tem uma aspa simples (') e uma aspa dupla (\").\n"
     ]
    }
   ],
   "source": [
    "print('''Nossa string tem uma aspa simples (') e uma aspa dupla (\\\").''')"
   ]
  },
  {
   "cell_type": "code",
   "execution_count": 63,
   "id": "f9cdb929",
   "metadata": {},
   "outputs": [
    {
     "name": "stdout",
     "output_type": "stream",
     "text": [
      "A string\n",
      "que estamos escrevendo\n",
      "apresenta várias linhas\n"
     ]
    }
   ],
   "source": [
    "# Use três aspas duplas para multiplas linhas\n",
    "print(\"\"\"A string\n",
    "que estamos escrevendo\n",
    "apresenta várias linhas\"\"\")"
   ]
  },
  {
   "cell_type": "markdown",
   "id": "8ca68add",
   "metadata": {
    "slideshow": {
     "slide_type": "slide"
    }
   },
   "source": [
    "## Strings"
   ]
  },
  {
   "cell_type": "code",
   "execution_count": 64,
   "id": "1a745cd7",
   "metadata": {},
   "outputs": [
    {
     "data": {
      "text/plain": [
       "'azul azul azul '"
      ]
     },
     "execution_count": 64,
     "metadata": {},
     "output_type": "execute_result"
    }
   ],
   "source": [
    "cor_da_caneta = \"azul \"\n",
    "cor_da_caneta * 3 # Podemos fazer operações com strings"
   ]
  },
  {
   "cell_type": "code",
   "execution_count": 65,
   "id": "3d0405d0",
   "metadata": {},
   "outputs": [
    {
     "data": {
      "text/plain": [
       "'caneta azul azul caneta caneta azul azul caneta '"
      ]
     },
     "execution_count": 65,
     "metadata": {},
     "output_type": "execute_result"
    }
   ],
   "source": [
    "nome = 'caneta '\n",
    "(nome + cor_da_caneta * 2 + nome)*2"
   ]
  },
  {
   "cell_type": "code",
   "execution_count": 66,
   "id": "ad0681c4",
   "metadata": {},
   "outputs": [
    {
     "data": {
      "text/plain": [
       "35"
      ]
     },
     "execution_count": 66,
     "metadata": {},
     "output_type": "execute_result"
    }
   ],
   "source": [
    "len('(nome + cor_da_caneta * 2 + nome)*2') # Permite saber o tamanho de uma string"
   ]
  },
  {
   "cell_type": "code",
   "execution_count": 67,
   "id": "9cdeed14",
   "metadata": {},
   "outputs": [
    {
     "name": "stdout",
     "output_type": "stream",
     "text": [
      "True\n",
      "False\n"
     ]
    }
   ],
   "source": [
    "print(\"e\" in nome)          # Verifica se E está presente em nome e retorna True\n",
    "print(\"e\" not in nome)      # Verifica se E não está presente em nome e retorna True"
   ]
  },
  {
   "cell_type": "markdown",
   "id": "fde2abe0",
   "metadata": {
    "slideshow": {
     "slide_type": "slide"
    }
   },
   "source": [
    "## Strings"
   ]
  },
  {
   "cell_type": "code",
   "execution_count": 68,
   "id": "26876131",
   "metadata": {},
   "outputs": [
    {
     "data": {
      "text/plain": [
       "'m'"
      ]
     },
     "execution_count": 68,
     "metadata": {},
     "output_type": "execute_result"
    }
   ],
   "source": [
    "frase = \"markdown\"\n",
    "frase[0] # Mostra o primeiro caracter da string"
   ]
  },
  {
   "cell_type": "markdown",
   "id": "152b82e5",
   "metadata": {},
   "source": [
    "<center><img src=\"./images/string_index.png\" width=\"1400\"></center>"
   ]
  },
  {
   "cell_type": "markdown",
   "id": "f10a18f8",
   "metadata": {
    "slideshow": {
     "slide_type": "slide"
    }
   },
   "source": [
    "## Strings"
   ]
  },
  {
   "cell_type": "code",
   "execution_count": 69,
   "id": "ce13f2f3",
   "metadata": {},
   "outputs": [
    {
     "name": "stdout",
     "output_type": "stream",
     "text": [
      "n\n",
      "markd\n",
      "markdo\n",
      "wn\n",
      "rkd\n"
     ]
    }
   ],
   "source": [
    "print(frase[len(frase)-1]) # Mostra o último elemento do string\n",
    "print(frase[0:5])          # Mostra os elementos do zero até o antes do 5\n",
    "print(frase[:6])    # se omitido o primeiro indice, significa 'obter desde o começo'\n",
    "print(frase[6:])    # Se omitido o segundo índice significa 'obter até o final'\n",
    "print(frase[2:-3]) # Mostra a partir do segundo elemento até 3 elementos antes do último"
   ]
  },
  {
   "cell_type": "code",
   "execution_count": 70,
   "id": "5e89b23d",
   "metadata": {},
   "outputs": [
    {
     "name": "stdout",
     "output_type": "stream",
     "text": [
      "mrdw\n"
     ]
    }
   ],
   "source": [
    "# Podemos mostrar a string fatiada usando [começo : fim : passo]\n",
    "print(frase[::2]) # do começo, até o fim, de 2 em 2."
   ]
  },
  {
   "cell_type": "code",
   "execution_count": 71,
   "id": "b8ba4cb3",
   "metadata": {},
   "outputs": [
    {
     "name": "stdout",
     "output_type": "stream",
     "text": [
      "rd\n"
     ]
    }
   ],
   "source": [
    "# Passos positivos significam para frente e passos negativos significam para trás\n",
    "print(frase[2:-2:2]) # Do terceiro, até o ante penúltimo, de 2 em 2"
   ]
  },
  {
   "cell_type": "code",
   "execution_count": 72,
   "id": "029b47bb",
   "metadata": {},
   "outputs": [
    {
     "name": "stdout",
     "output_type": "stream",
     "text": [
      "nwodkram\n"
     ]
    }
   ],
   "source": [
    "# Quando usamos passos negativos, a fatia começa no fim e termina no começo e é percorrida ao contrário. \n",
    "# Ou seja, invertemos a ordem\n",
    "print(frase[::-1])"
   ]
  },
  {
   "cell_type": "markdown",
   "id": "a1875bf7",
   "metadata": {
    "slideshow": {
     "slide_type": "slide"
    }
   },
   "source": [
    "## Strings"
   ]
  },
  {
   "cell_type": "code",
   "execution_count": 73,
   "id": "e5cce14c",
   "metadata": {},
   "outputs": [
    {
     "name": "stdout",
     "output_type": "stream",
     "text": [
      "Concatendo strings qualquer texto\n",
      "Concatendo strings qualquer texto\n",
      "Concatendo strings qualquer texto\n"
     ]
    }
   ],
   "source": [
    "val_str = \"qualquer texto\"\n",
    "\n",
    "print(\"Concatendo strings\", val_str)\n",
    "print(\"Concatendo strings %s\" %val_str)\n",
    "print(\"Concatendo strings \" + val_str)"
   ]
  },
  {
   "cell_type": "code",
   "execution_count": 74,
   "id": "298ff19f",
   "metadata": {},
   "outputs": [
    {
     "name": "stdout",
     "output_type": "stream",
     "text": [
      "João estuda Estatística na UFES\n",
      "O curso que João estuda é Estatística\n"
     ]
    }
   ],
   "source": [
    "nome = \"João\"\n",
    "curso = \"Estatística\"\n",
    "print(\"%s estuda %s na UFES\" %(nome,curso))\n",
    "print(\"O curso que {0} estuda é {1}\".format(nome,curso))"
   ]
  },
  {
   "cell_type": "code",
   "execution_count": 75,
   "id": "2f85c15a",
   "metadata": {},
   "outputs": [
    {
     "name": "stdout",
     "output_type": "stream",
     "text": [
      "03.14\n",
      "1 GB é igual a 1,000,000,000 bytes\n"
     ]
    }
   ],
   "source": [
    "import math\n",
    "print(\"{:05.2f}\".format(math.pi))\n",
    "sentenca = '1 GB é igual a {:,} bytes'.format(10**9)\n",
    "print(sentenca)"
   ]
  },
  {
   "cell_type": "markdown",
   "id": "a17e54d5",
   "metadata": {
    "slideshow": {
     "slide_type": "slide"
    }
   },
   "source": [
    "## Strings"
   ]
  },
  {
   "cell_type": "code",
   "execution_count": 76,
   "id": "bb04555b",
   "metadata": {},
   "outputs": [
    {
     "name": "stdout",
     "output_type": "stream",
     "text": [
      "0 - \u0000\n",
      "1 - \u0001\n",
      "2 - \u0002\n",
      "3 - \u0003\n",
      "4 - \u0004\n",
      "5 - \u0005\n",
      "6 - \u0006\n",
      "7 - \u0007\n",
      "8 - \b\n",
      "9 - \t\n",
      "10 - \n",
      "\n",
      "11 - \u000b",
      "\n",
      "12 - \f",
      "\n",
      "13 - \r\n",
      "14 - \u000e\n",
      "15 - \u000f\n",
      "16 - \u0010\n",
      "17 - \u0011\n",
      "18 - \u0012\n",
      "19 - \u0013\n",
      "20 - \u0014\n",
      "21 - \u0015\n",
      "22 - \u0016\n",
      "23 - \u0017\n",
      "24 - \u0018\n",
      "25 - \u0019\n",
      "26 - \u001a\n",
      "27 - \u001b\n",
      "28 - \u001c",
      "\n",
      "29 - \u001d",
      "\n",
      "30 - \u001e",
      "\n",
      "31 - \u001f\n",
      "32 -  \n",
      "33 - !\n",
      "34 - \"\n",
      "35 - #\n",
      "36 - $\n",
      "37 - %\n",
      "38 - &\n",
      "39 - '\n",
      "40 - (\n",
      "41 - )\n",
      "42 - *\n",
      "43 - +\n",
      "44 - ,\n",
      "45 - -\n",
      "46 - .\n",
      "47 - /\n",
      "48 - 0\n",
      "49 - 1\n",
      "50 - 2\n",
      "51 - 3\n",
      "52 - 4\n",
      "53 - 5\n",
      "54 - 6\n",
      "55 - 7\n",
      "56 - 8\n",
      "57 - 9\n",
      "58 - :\n",
      "59 - ;\n",
      "60 - <\n",
      "61 - =\n",
      "62 - >\n",
      "63 - ?\n",
      "64 - @\n",
      "65 - A\n",
      "66 - B\n",
      "67 - C\n",
      "68 - D\n",
      "69 - E\n",
      "70 - F\n",
      "71 - G\n",
      "72 - H\n",
      "73 - I\n",
      "74 - J\n",
      "75 - K\n",
      "76 - L\n",
      "77 - M\n",
      "78 - N\n",
      "79 - O\n",
      "80 - P\n",
      "81 - Q\n",
      "82 - R\n",
      "83 - S\n",
      "84 - T\n",
      "85 - U\n",
      "86 - V\n",
      "87 - W\n",
      "88 - X\n",
      "89 - Y\n",
      "90 - Z\n",
      "91 - [\n",
      "92 - \\\n",
      "93 - ]\n",
      "94 - ^\n",
      "95 - _\n",
      "96 - `\n",
      "97 - a\n",
      "98 - b\n",
      "99 - c\n",
      "100 - d\n",
      "101 - e\n",
      "102 - f\n",
      "103 - g\n",
      "104 - h\n",
      "105 - i\n",
      "106 - j\n",
      "107 - k\n",
      "108 - l\n",
      "109 - m\n",
      "110 - n\n",
      "111 - o\n",
      "112 - p\n",
      "113 - q\n",
      "114 - r\n",
      "115 - s\n",
      "116 - t\n",
      "117 - u\n",
      "118 - v\n",
      "119 - w\n",
      "120 - x\n",
      "121 - y\n",
      "122 - z\n"
     ]
    }
   ],
   "source": [
    "# Imprimindo a tabela de ASCII\n",
    "for c in range(123):\n",
    "    print(str(c) + \" - \" + chr(c))"
   ]
  },
  {
   "cell_type": "markdown",
   "id": "a9705937",
   "metadata": {
    "slideshow": {
     "slide_type": "slide"
    }
   },
   "source": [
    "## Strings"
   ]
  },
  {
   "cell_type": "code",
   "execution_count": 77,
   "id": "835dc921",
   "metadata": {},
   "outputs": [
    {
     "name": "stdout",
     "output_type": "stream",
     "text": [
      "I\n",
      "t\n",
      "e\n",
      "r\n",
      "a\n",
      "n\n",
      "d\n",
      "o\n",
      " \n",
      "S\n",
      "t\n",
      "r\n",
      "i\n",
      "n\n",
      "g\n",
      "s\n"
     ]
    }
   ],
   "source": [
    "# Iterando strings\n",
    "s = 'Iterando Strings'\n",
    "for c in s:\n",
    "    print(c)"
   ]
  },
  {
   "cell_type": "markdown",
   "id": "72ec7964",
   "metadata": {
    "slideshow": {
     "slide_type": "slide"
    }
   },
   "source": [
    "## Strings"
   ]
  },
  {
   "cell_type": "code",
   "execution_count": 78,
   "id": "89da50bf",
   "metadata": {},
   "outputs": [
    {
     "name": "stdout",
     "output_type": "stream",
     "text": [
      " muda a primeira letra \n",
      "muDa A priMeira leTra\n",
      " muda a primeira letra \n",
      " MUDA A PRIMEIRA LETRA \n",
      " Altera A priMeira leTra \n",
      "['', 'muDa', 'A', 'priMeira', 'leTra', '']\n"
     ]
    }
   ],
   "source": [
    "''' Podemos utilizar métodos (funções especiais) para manipular strings.'''\n",
    "# \n",
    "texto = \" muDa A priMeira leTra \"\n",
    "\n",
    "print(texto.capitalize())              # Retorna a string com a primeira letra em maiúscula\n",
    "print(texto.strip())                   # Remove todos os espaços no começo e no fim da string\n",
    "print(texto.lower())                   # Retorna a string em minúsculas\n",
    "print(texto.upper())                   # Retorna a string em maiúsculas\n",
    "print(texto.replace(\"muDa\", \"Altera\")) # O método replace substitui a string com outra string\n",
    "print(texto.split(\" \"))                # O método split separa a string em substrings caso haja um separador, \n",
    "                                       # nesse caso utilizamos o espaço (\" \") e ele nos retorna uma lista de strings"
   ]
  },
  {
   "cell_type": "markdown",
   "id": "a451efea",
   "metadata": {},
   "source": [
    "***\n",
    "\n",
    "Mais detalhes em [https://docs.python.org/2/library/stdtypes.html#string-methods](https://docs.python.org/2/library/stdtypes.html#string-methods)."
   ]
  },
  {
   "cell_type": "markdown",
   "id": "a1171072",
   "metadata": {
    "slideshow": {
     "slide_type": "slide"
    }
   },
   "source": [
    "# Estrutura condicional - if, elif e else"
   ]
  },
  {
   "cell_type": "markdown",
   "id": "634decfb",
   "metadata": {
    "slideshow": {
     "slide_type": "slide"
    }
   },
   "source": [
    "## Estrutura condicional - if, elif e else\n",
    "Com `if` podemos indicar o bloco de instruções que deve ser executado com a avaliação de uma determinada expressão, da seguinte forma:\n",
    "\n",
    "`\n",
    "if(<<expr1>>):\n",
    "    <<Bloco de intruções 1>>\n",
    "elif(<<expr1>>):\n",
    "    <<Bloco de intruções 2>>\n",
    "else:\n",
    "    <<Bloco de intruções 3>>\n",
    "`\n",
    "\n",
    "> <span style=\"color:rgba(141, 0, 69, 1)\">No Python, a indentação possui função bastante especial, até\n",
    "porque, os blocos de instrução são delimitados pela profundidade da\n",
    "indentação.</span>"
   ]
  },
  {
   "cell_type": "markdown",
   "id": "29b73d2a",
   "metadata": {
    "slideshow": {
     "slide_type": "slide"
    }
   },
   "source": [
    "## Estrutura condicional - if, elif e else\n"
   ]
  },
  {
   "cell_type": "code",
   "execution_count": 79,
   "id": "3d4c7604",
   "metadata": {},
   "outputs": [
    {
     "name": "stdout",
     "output_type": "stream",
     "text": [
      "Escreva um número: 5\n",
      "o valor de entrada não era esperado em nenhum if\n"
     ]
    }
   ],
   "source": [
    "valor_entrada = int(input(\"Escreva um número: \"))\n",
    "if valor_entrada == 1:\n",
    "    print(\"a entrada era 1\")\n",
    "elif valor_entrada == 2:\n",
    "    print(\"a entrada era 2\")\n",
    "elif valor_entrada == 3:\n",
    "    print(\"a entrada era 3\")\n",
    "elif valor_entrada == 4:\n",
    "    print(\"a entrada era 4\")\n",
    "else:\n",
    "    print(\"o valor de entrada não era esperado em nenhum if\")"
   ]
  },
  {
   "cell_type": "markdown",
   "id": "e184ef69",
   "metadata": {
    "slideshow": {
     "slide_type": "slide"
    }
   },
   "source": [
    "# Estruturas de repetição"
   ]
  },
  {
   "cell_type": "markdown",
   "id": "2a59a243",
   "metadata": {
    "slideshow": {
     "slide_type": "slide"
    }
   },
   "source": [
    "# Estrutura `while`\n",
    "O laço de repetição `while` repete um bloco de instrução enquanto a condição definida em seu cabeçalho for verdadeiro."
   ]
  },
  {
   "cell_type": "code",
   "execution_count": 80,
   "id": "cd751363",
   "metadata": {},
   "outputs": [
    {
     "name": "stdout",
     "output_type": "stream",
     "text": [
      "1\n",
      "2\n",
      "3\n",
      "4\n",
      "5\n",
      "6\n",
      "7\n",
      "8\n",
      "9\n",
      "10\n"
     ]
    }
   ],
   "source": [
    "# Mostra os números de 1 a 10\n",
    "x = 1\n",
    "while(x<11):\n",
    "    print(\"{0}\".format(x))\n",
    "    x+=1"
   ]
  },
  {
   "cell_type": "markdown",
   "id": "76ef9055",
   "metadata": {},
   "source": [
    "* O `while` pode-se pensar como sendo um `if`, mas que ao invés de executar o bloco de instruções uma única vez, o mesmo executará enquanto a expressão definida seja **verdadeira**."
   ]
  },
  {
   "cell_type": "markdown",
   "id": "cb5a921e",
   "metadata": {
    "slideshow": {
     "slide_type": "slide"
    }
   },
   "source": [
    "# Estrutura `while`"
   ]
  },
  {
   "cell_type": "markdown",
   "id": "5312c2d1",
   "metadata": {},
   "source": [
    "* O **Python** define a instrução `else` como uma estrutura dependente da instrução `while` cujo funcionamento é análogo ao estudado na instrução `if`."
   ]
  },
  {
   "cell_type": "code",
   "execution_count": 81,
   "id": "288f45e8",
   "metadata": {},
   "outputs": [
    {
     "name": "stdout",
     "output_type": "stream",
     "text": [
      "0\n",
      "1\n",
      "2\n",
      "3\n",
      "4\n",
      "stop\n"
     ]
    }
   ],
   "source": [
    "# Cenário 1: Mostra os números de 0 a 4 e a palavra 'stop'\n",
    "i = 0\n",
    "while i < 5:\n",
    "    print(i)\n",
    "    i += 1\n",
    "else:\n",
    "    print('stop')"
   ]
  },
  {
   "cell_type": "markdown",
   "id": "75352d2c",
   "metadata": {
    "slideshow": {
     "slide_type": "slide"
    }
   },
   "source": [
    "# Estrutura `while`"
   ]
  },
  {
   "cell_type": "markdown",
   "id": "c8451404",
   "metadata": {},
   "source": [
    "No Cenário 2 a instrução `break` foi invocada. Dessa forma o bloco `else` não será executado, pois, o bloco `else` só será executado uma vez que a condição dada na linha 5 for **verdadeira**."
   ]
  },
  {
   "cell_type": "code",
   "execution_count": 82,
   "id": "41295ab9",
   "metadata": {},
   "outputs": [
    {
     "name": "stdout",
     "output_type": "stream",
     "text": [
      "0\n",
      "1\n",
      "2\n",
      "3\n"
     ]
    }
   ],
   "source": [
    "# Cenário 2: Mostra os números de 0 a 3\n",
    "i = 0\n",
    "while i < 5:\n",
    "    print(i)\n",
    "    if i == 3:\n",
    "        break # A instrução break finaliza abruptamente a execução das estruturas de repetição.\n",
    "    i += 1\n",
    "else:\n",
    "    print('stop')"
   ]
  },
  {
   "cell_type": "markdown",
   "id": "b18cd590",
   "metadata": {
    "slideshow": {
     "slide_type": "slide"
    }
   },
   "source": [
    "# `break` e `continue`"
   ]
  },
  {
   "cell_type": "markdown",
   "id": "8bb2978e",
   "metadata": {},
   "source": [
    "As instruções `break` e `continue` são ferramentas das estruturas de repetição para a interrupção do laço de repetição ou de um único ciclo.\n",
    "\n",
    "* A instrução `break` interrompe não somente o ciclo em execução, mas também, todo o laço.\n",
    "\n",
    "* A instrução `continue` finaliza um único laço, fazendo com que o programa execute a partir do cabeçalho da estrutura de repetição."
   ]
  },
  {
   "cell_type": "markdown",
   "id": "964f46b7",
   "metadata": {
    "slideshow": {
     "slide_type": "slide"
    }
   },
   "source": [
    "# `break` e `continue`"
   ]
  },
  {
   "cell_type": "code",
   "execution_count": 83,
   "id": "c761f10c",
   "metadata": {},
   "outputs": [
    {
     "name": "stdout",
     "output_type": "stream",
     "text": [
      "inicio\n",
      "1\n",
      "3\n",
      "5\n",
      "7\n",
      "9\n",
      "fim\n"
     ]
    }
   ],
   "source": [
    "print(\"inicio\")\n",
    "i = 0\n",
    "n=20\n",
    "while(i<n):\n",
    "    i += 1\n",
    "    if(i%2==0):\n",
    "        continue\n",
    "    elif(i>n*0.5):\n",
    "        break\n",
    "    print(i)\n",
    "else:\n",
    "    print(\"else\")\n",
    "print(\"fim\")"
   ]
  },
  {
   "cell_type": "markdown",
   "id": "081ebb37",
   "metadata": {
    "slideshow": {
     "slide_type": "slide"
    }
   },
   "source": [
    "# Estrutura `for..in`"
   ]
  },
  {
   "cell_type": "markdown",
   "id": "97b72cd6",
   "metadata": {},
   "source": [
    "* A instrução `for` se caracteriza por obrigar a definir a quantidade de vezes que será executado.\n",
    "\n",
    "* A estrutura `for` exige, inicialmente, a definição de uma variável e, em seguida, um conjunto de itens iteráveis, i.e. itens de listas, tuplas, strings, chaves de dicionários, entre muitos outros objetos:\n",
    "\n",
    "`\n",
    "for <variável> in <objeto iterável>:\n",
    "    <<bloco de intruções>>\n",
    "`"
   ]
  },
  {
   "cell_type": "code",
   "execution_count": 84,
   "id": "a557756a",
   "metadata": {},
   "outputs": [
    {
     "name": "stdout",
     "output_type": "stream",
     "text": [
      "C\n",
      "A\n",
      "S\n",
      "A\n"
     ]
    }
   ],
   "source": [
    "for c in \"casa\" :\n",
    "    print(c.capitalize())"
   ]
  },
  {
   "cell_type": "markdown",
   "id": "0f71d4bf",
   "metadata": {
    "slideshow": {
     "slide_type": "slide"
    }
   },
   "source": [
    "# Estrutura `for..in`"
   ]
  },
  {
   "cell_type": "code",
   "execution_count": 85,
   "id": "a8ec4f25",
   "metadata": {},
   "outputs": [
    {
     "name": "stdout",
     "output_type": "stream",
     "text": [
      "i\t Fatorial\n",
      "1\t 1\n",
      "2\t 2\n",
      "3\t 6\n",
      "4\t 24\n",
      "5\t 120\n",
      "6\t 720\n",
      "7\t 5040\n",
      "8\t 40320\n",
      "9\t 362880\n",
      "10\t 3628800\n"
     ]
    }
   ],
   "source": [
    "# Calcula o fatorial de um número\n",
    "n=10\n",
    "prod = 1\n",
    "print(\"i\\t Fatorial\")\n",
    "for i in range(1,n+1):\n",
    "    prod = prod * i\n",
    "    print(\"{0}\\t {1}\".format(i, prod))"
   ]
  },
  {
   "cell_type": "markdown",
   "id": "3ec2f826",
   "metadata": {
    "slideshow": {
     "slide_type": "slide"
    }
   },
   "source": [
    "# Função `range()`"
   ]
  },
  {
   "cell_type": "markdown",
   "id": "ada5e995",
   "metadata": {},
   "source": [
    "* A função `range()` retorna uma série numérica no intervalo definido como argumento. A série retornada é um objeto iterável tipo `range` e os elementos contidos serão gerados sob demanda;\n",
    "\n",
    "* **Sintaxe:** `range(inicio, final, passo)`, sendo os dois últimos opcionais. Todos os argumentos devem ser inteiros. Não admite argumentos de tipo `string` ou `float`."
   ]
  },
  {
   "cell_type": "code",
   "execution_count": 86,
   "id": "4e222684",
   "metadata": {},
   "outputs": [
    {
     "name": "stdout",
     "output_type": "stream",
     "text": [
      "[0, 1, 2, 3, 4, 5, 6, 7, 8, 9]\n"
     ]
    }
   ],
   "source": [
    "print([i for i in range(10)])"
   ]
  },
  {
   "cell_type": "code",
   "execution_count": 87,
   "id": "cf2fbd9f",
   "metadata": {},
   "outputs": [
    {
     "name": "stdout",
     "output_type": "stream",
     "text": [
      "<class 'range'>\n"
     ]
    }
   ],
   "source": [
    "print(type(range(10))) # `range()` não retorna não uma lista contendo os elementos propriamente ditos."
   ]
  },
  {
   "cell_type": "code",
   "execution_count": 88,
   "id": "0bc10b3e",
   "metadata": {},
   "outputs": [
    {
     "name": "stdout",
     "output_type": "stream",
     "text": [
      "lista de números pares [0, 2, 4, 6, 8]\n"
     ]
    }
   ],
   "source": [
    "# Convertindo tipo range a list\n",
    "numeros_pares = list(range(0, 10, 2))\n",
    "print(\"lista de números pares\", numeros_pares)"
   ]
  },
  {
   "cell_type": "markdown",
   "id": "35df6873",
   "metadata": {
    "slideshow": {
     "slide_type": "slide"
    }
   },
   "source": [
    "# Estrutura `for..in`"
   ]
  },
  {
   "cell_type": "markdown",
   "id": "8e49dd0c",
   "metadata": {},
   "source": [
    "* A instrução `else` pode ser utilizada com o `for` da mesma forma que estudamos com a instrução `while`."
   ]
  },
  {
   "cell_type": "code",
   "execution_count": 89,
   "id": "c9e078e4",
   "metadata": {
    "scrolled": true
   },
   "outputs": [
    {
     "name": "stdout",
     "output_type": "stream",
     "text": [
      "1\n",
      "2\n",
      "3\n",
      "4\n",
      "5\n",
      "Loop finalizado com sucesso!\n"
     ]
    }
   ],
   "source": [
    "# utilizando a instrução ELSE\n",
    "for x in [1,2,3,4,5]:\n",
    "    print(x)\n",
    "else:\n",
    "    print(\"Loop finalizado com sucesso!\")"
   ]
  },
  {
   "cell_type": "markdown",
   "id": "b134b31b",
   "metadata": {
    "slideshow": {
     "slide_type": "slide"
    }
   },
   "source": [
    "# Listas"
   ]
  },
  {
   "cell_type": "markdown",
   "id": "90e13d54",
   "metadata": {
    "slideshow": {
     "slide_type": "slide"
    }
   },
   "source": [
    "## Listas\n",
    "* Listas são estruturas de dados capazes de armazenar múltiplos elementos. **<span style=\"color:rgba(12, 47, 189, 1)\">Todo elemento contido numa lista é também um objeto</span>**;\n",
    "\n",
    "* Todos os elementos que estiverem delimitados por um par de colchetes para o **Python** serão uma lista;"
   ]
  },
  {
   "cell_type": "code",
   "execution_count": 90,
   "id": "1d627abe",
   "metadata": {},
   "outputs": [],
   "source": [
    "lista_1 = [\"nome\", \"sobrenome\", \"idade\", \"endereço\"]\n",
    "lista_2 = [1, 2, 3, 4, 5]\n",
    "lista_3 = [1, 2.3, \"Rafael\", [7, \"oito\", 9]]\n",
    "lista_4 = list((4,5,6,7)) # Usando a função list"
   ]
  },
  {
   "cell_type": "markdown",
   "id": "5103bd88",
   "metadata": {},
   "source": [
    "* Assim como nos objetos de tipo strings, é possı́vel acessar separamente cada item de uma lista a partir de seu ı́ndice;"
   ]
  },
  {
   "cell_type": "code",
   "execution_count": 91,
   "id": "a99bb0d5",
   "metadata": {},
   "outputs": [
    {
     "name": "stdout",
     "output_type": "stream",
     "text": [
      "[7, 'oito', 9]\n"
     ]
    }
   ],
   "source": [
    "# Uma lista dentro de outra lista é uma lista aninhada.\n",
    "lista3 = [1, 2.3, \"Rafael\", [7, \"oito\", 9]]\n",
    "print(lista3[3])"
   ]
  },
  {
   "cell_type": "markdown",
   "id": "91304aeb",
   "metadata": {
    "slideshow": {
     "slide_type": "slide"
    }
   },
   "source": [
    "## Listas\n",
    "\n",
    "* Como no caso das strings, ao utilizar um ı́ndice negativo os elementos são acessados de trás pra frente;"
   ]
  },
  {
   "cell_type": "code",
   "execution_count": 92,
   "id": "7568c684",
   "metadata": {},
   "outputs": [
    {
     "data": {
      "text/plain": [
       "[[7, 'oito', 9], 'Rafael', 2, 1]"
      ]
     },
     "execution_count": 92,
     "metadata": {},
     "output_type": "execute_result"
    }
   ],
   "source": [
    "lista3[::-1]"
   ]
  },
  {
   "cell_type": "markdown",
   "id": "26dba021",
   "metadata": {},
   "source": [
    "* Se tentar ler ou escrever um elemento que não existe, você recebe um `IndexError`;"
   ]
  },
  {
   "cell_type": "code",
   "execution_count": 27,
   "id": "e91b6989",
   "metadata": {},
   "outputs": [
    {
     "ename": "NameError",
     "evalue": "name 'lista3' is not defined",
     "output_type": "error",
     "traceback": [
      "\u001b[0;31m---------------------------------------------------------------------------\u001b[0m",
      "\u001b[0;31mNameError\u001b[0m                                 Traceback (most recent call last)",
      "\u001b[0;32m/tmp/ipykernel_575810/995304546.py\u001b[0m in \u001b[0;36m<module>\u001b[0;34m\u001b[0m\n\u001b[0;32m----> 1\u001b[0;31m \u001b[0mprint\u001b[0m\u001b[0;34m(\u001b[0m\u001b[0mlista3\u001b[0m\u001b[0;34m[\u001b[0m\u001b[0;36m5\u001b[0m\u001b[0;34m]\u001b[0m\u001b[0;34m)\u001b[0m\u001b[0;34m\u001b[0m\u001b[0;34m\u001b[0m\u001b[0m\n\u001b[0m",
      "\u001b[0;31mNameError\u001b[0m: name 'lista3' is not defined"
     ]
    }
   ],
   "source": [
    "print(lista3[5])"
   ]
  },
  {
   "cell_type": "markdown",
   "id": "d67c01f1",
   "metadata": {
    "slideshow": {
     "slide_type": "slide"
    }
   },
   "source": [
    "## Listas\n",
    "\n",
    "* Com os operadoradores `in` e `not in` podemos avaliar se um valor existe ou não em uma lista;"
   ]
  },
  {
   "cell_type": "code",
   "execution_count": 26,
   "id": "5cf5d29d",
   "metadata": {},
   "outputs": [
    {
     "name": "stdout",
     "output_type": "stream",
     "text": [
      "False\n",
      "False\n",
      "False\n",
      "\n",
      " Tamanho da lista: 3 \n",
      "\n",
      "True\n",
      "True\n",
      "True\n",
      "True\n"
     ]
    }
   ],
   "source": [
    "lista = ['frutas',['cı́tricas', ['laranja', 'limão']], [7, \"oito\",9]]\n",
    "\n",
    "print(\"Frutas\" in lista)\n",
    "print(\"Laranja\" in lista)\n",
    "print(\"oito\" in lista)\n",
    "print(\"\\n Tamanho da lista:\",len(lista),\"\\n\")\n",
    "print(\"oito\" not in lista)\n",
    "print([7, \"oito\", 9] in lista)\n",
    "print(\"oito\" in lista[2])\n",
    "print(\"frutas\" in lista)"
   ]
  },
  {
   "cell_type": "markdown",
   "id": "5cd68388",
   "metadata": {
    "slideshow": {
     "slide_type": "slide"
    }
   },
   "source": [
    "## Listas\n",
    "\n",
    "* A forma mais comum de percorrer os elementos em uma lista é com um `for`;"
   ]
  },
  {
   "cell_type": "code",
   "execution_count": null,
   "id": "63ac3caa",
   "metadata": {},
   "outputs": [],
   "source": [
    "# Podemos percorrer listas com for de duas maneiras:\n",
    "vingadores = ['Homem de Ferro', 'Hulk', 'Capitão America', 'Viúva Negra', 'Gavião Arqueiro']\n",
    "\n",
    "# ****** Alternativa 1 ******\n",
    "# Funciona bem se você precisa apenas ler os elementos da lista.\n",
    "for k in vingadores:\n",
    "    print('Vingador:', k)"
   ]
  },
  {
   "cell_type": "code",
   "execution_count": null,
   "id": "ffa69506",
   "metadata": {},
   "outputs": [],
   "source": [
    "# ****** Alternativa 2 ******\n",
    "# Se o interesse está em escrever ou atualizar os elementos da lista, você precisa dos índices.\n",
    "for i in range(0, len(vingadores)):\n",
    "    print('Vingador:', vingadores[i])"
   ]
  },
  {
   "cell_type": "markdown",
   "id": "8ae38d95",
   "metadata": {
    "slideshow": {
     "slide_type": "slide"
    }
   },
   "source": [
    "## Compreensão de listas\n",
    "\n",
    "* Compreensão de listas (*List Comprehensions*) é uma funcionalidade muito **poderosa** do **Python** que possibilita criar uma lista aplicando uma função para cada elemento da lista original;\n",
    "\n",
    "* Com a compreensão de lista é possível reduzir a expressão em um única linha, num formato semelhante a notação de conjuntos da matemática, economizando linhas de códigos. O formato geral da compreensão é:\n",
    "\n",
    "    `[<<Função de saída>> for <<variável>> in <<sequência>> if <<filtro>>]`\n",
    "    \n",
    "**Exemplo:**\n",
    " \n",
    "$A=\\{x: x\\in\\mathbb{Z}, x<20, x \\text{ é par}\\}$  \n",
    "\n",
    "**Python**: `A = [x for x in range(0, 20) if x % 2 == 0]`"
   ]
  },
  {
   "cell_type": "markdown",
   "id": "ee6a00d9",
   "metadata": {
    "slideshow": {
     "slide_type": "slide"
    }
   },
   "source": [
    "## Compreensão de listas"
   ]
  },
  {
   "cell_type": "code",
   "execution_count": 29,
   "id": "6b3057df",
   "metadata": {},
   "outputs": [
    {
     "name": "stdout",
     "output_type": "stream",
     "text": [
      "['u', 'i', 'o', 'i', 'e', 'i', 'a', 'a', 'a', 'u', 'a', 'e', 'o']\n"
     ]
    }
   ],
   "source": [
    "# Imprime as vogais do texto\n",
    "texto = 'Muito divertida a aula de python'\n",
    "vogais = [i for i in texto if i in 'aeiou']\n",
    "print(vogais)"
   ]
  },
  {
   "cell_type": "code",
   "execution_count": 30,
   "id": "fe2cb279",
   "metadata": {},
   "outputs": [
    {
     "name": "stdout",
     "output_type": "stream",
     "text": [
      "1\n",
      "4\n",
      "9\n",
      "16\n",
      "25\n",
      "36\n",
      "49\n",
      "64\n",
      "81\n"
     ]
    }
   ],
   "source": [
    "for i in range(1, 100):         \n",
    "    if int(i**0.5) == i**0.5:   \n",
    "        print(i)"
   ]
  },
  {
   "cell_type": "code",
   "execution_count": 31,
   "id": "2d87624e",
   "metadata": {},
   "outputs": [
    {
     "name": "stdout",
     "output_type": "stream",
     "text": [
      "[1, 4, 9, 16, 25, 36, 49, 64, 81]\n"
     ]
    }
   ],
   "source": [
    "print([ i for i in range(1, 100) if int(i**0.5) == i**0.5 ])"
   ]
  },
  {
   "cell_type": "markdown",
   "id": "2fd1c23b",
   "metadata": {
    "slideshow": {
     "slide_type": "slide"
    }
   },
   "source": [
    "## Removendo elementos de uma lista\n",
    "\n",
    "* `del`: deleta um elemento em um ı́ndice especı́fico;"
   ]
  },
  {
   "cell_type": "code",
   "execution_count": 32,
   "id": "a46c5df0",
   "metadata": {},
   "outputs": [
    {
     "name": "stdout",
     "output_type": "stream",
     "text": [
      "[2, 1, 3, [1, 'a'], 3, 7]\n"
     ]
    }
   ],
   "source": [
    "lista = [2, 1, 3, [1,\"a\"], 3, 7, \"manga\"]\n",
    "del(lista[-1])\n",
    "print(lista)\n",
    "#del(lista) # caso não especifique um índice, elimina sua lista por completo!"
   ]
  },
  {
   "cell_type": "code",
   "execution_count": 33,
   "id": "ee85d3eb",
   "metadata": {},
   "outputs": [
    {
     "ename": "NameError",
     "evalue": "name 'lista' is not defined",
     "output_type": "error",
     "traceback": [
      "\u001b[0;31m---------------------------------------------------------------------------\u001b[0m",
      "\u001b[0;31mNameError\u001b[0m                                 Traceback (most recent call last)",
      "\u001b[0;32m/tmp/ipykernel_575810/2435618407.py\u001b[0m in \u001b[0;36m<module>\u001b[0;34m\u001b[0m\n\u001b[1;32m      1\u001b[0m \u001b[0;32mdel\u001b[0m\u001b[0;34m(\u001b[0m\u001b[0mlista\u001b[0m\u001b[0;34m)\u001b[0m \u001b[0;31m# caso não especifique um índice, elimina sua lista por completo!\u001b[0m\u001b[0;34m\u001b[0m\u001b[0;34m\u001b[0m\u001b[0m\n\u001b[0;32m----> 2\u001b[0;31m \u001b[0mprint\u001b[0m\u001b[0;34m(\u001b[0m\u001b[0mlista\u001b[0m\u001b[0;34m)\u001b[0m\u001b[0;34m\u001b[0m\u001b[0;34m\u001b[0m\u001b[0m\n\u001b[0m",
      "\u001b[0;31mNameError\u001b[0m: name 'lista' is not defined"
     ]
    }
   ],
   "source": [
    "del(lista) # caso não especifique um índice, elimina sua lista por completo!\n",
    "print(lista)"
   ]
  },
  {
   "cell_type": "markdown",
   "id": "8bf4655f",
   "metadata": {
    "slideshow": {
     "slide_type": "slide"
    }
   },
   "source": [
    "## Removendo elementos de uma lista\n",
    "\n",
    "* O método `pop` remove o **último** elemento da lista e retorna o elemento removido;"
   ]
  },
  {
   "cell_type": "code",
   "execution_count": 34,
   "id": "d985e86d",
   "metadata": {},
   "outputs": [
    {
     "name": "stdout",
     "output_type": "stream",
     "text": [
      "[2, 1, 3, [1, 'a'], 3, 7]\n"
     ]
    }
   ],
   "source": [
    "lista = [2, 1, 3, [1,\"a\"], 3, 7, \"manga\"]\n",
    "lista.pop()\n",
    "print(lista)"
   ]
  },
  {
   "cell_type": "markdown",
   "id": "1ddf1864",
   "metadata": {
    "slideshow": {
     "slide_type": "slide"
    }
   },
   "source": [
    "## Removendo elementos de uma lista\n",
    "\n",
    "* O método `remove` remove um elemento especı́fico da lista;"
   ]
  },
  {
   "cell_type": "code",
   "execution_count": 35,
   "id": "ffc3908e",
   "metadata": {
    "slideshow": {
     "slide_type": "-"
    }
   },
   "outputs": [
    {
     "name": "stdout",
     "output_type": "stream",
     "text": [
      "[1, 3, [1, 'a'], 3, 7, 'manga']\n",
      "[1, [1, 'a'], 3, 7, 'manga']\n"
     ]
    }
   ],
   "source": [
    "lista = [2, 1, 3, [1,\"a\"], 3, 7, \"manga\"]\n",
    "lista.remove(2)\n",
    "print(lista)\n",
    "\n",
    "# Se o elemento ocorre múltiplas vezes, remove a primeira ocorrência\n",
    "lista.remove(3)\n",
    "print(lista)"
   ]
  },
  {
   "cell_type": "markdown",
   "id": "4d6fd58f",
   "metadata": {},
   "source": [
    "* Caso o elemento não estiver presente na lista, mostrará um erro `ValueError`;"
   ]
  },
  {
   "cell_type": "code",
   "execution_count": 36,
   "id": "9492d4f9",
   "metadata": {
    "slideshow": {
     "slide_type": "-"
    }
   },
   "outputs": [
    {
     "ename": "ValueError",
     "evalue": "list.remove(x): x not in list",
     "output_type": "error",
     "traceback": [
      "\u001b[0;31m---------------------------------------------------------------------------\u001b[0m",
      "\u001b[0;31mValueError\u001b[0m                                Traceback (most recent call last)",
      "\u001b[0;32m/tmp/ipykernel_575810/2138286988.py\u001b[0m in \u001b[0;36m<module>\u001b[0;34m\u001b[0m\n\u001b[0;32m----> 1\u001b[0;31m \u001b[0mlista\u001b[0m\u001b[0;34m.\u001b[0m\u001b[0mremove\u001b[0m\u001b[0;34m(\u001b[0m\u001b[0;36m4\u001b[0m\u001b[0;34m)\u001b[0m\u001b[0;34m\u001b[0m\u001b[0;34m\u001b[0m\u001b[0m\n\u001b[0m",
      "\u001b[0;31mValueError\u001b[0m: list.remove(x): x not in list"
     ]
    }
   ],
   "source": [
    "lista.remove(4)"
   ]
  },
  {
   "cell_type": "markdown",
   "id": "dff47c2e",
   "metadata": {
    "slideshow": {
     "slide_type": "slide"
    }
   },
   "source": [
    "## Outros métodos para listas"
   ]
  },
  {
   "cell_type": "markdown",
   "id": "bf059114",
   "metadata": {},
   "source": [
    "* **clear**: Remove todos os itens da lista;\n",
    "* **extend**: Adiciona um elemento de uma lista para outra lista;\n",
    "* **append**: Adiciona um único elemento para a lista;\n",
    "* **insert**: Insere um elemento na lista;\n",
    "* **copy**: Retorna uma cópia da lista;\n",
    "* **sort**: Organiza os elementos da lista em ordem ascendente;\n",
    "* **reverse**: Inverte a lista;\n",
    "* **index**: Retorna o ı́ndice de um elemento na lista.\n",
    "* **count**: Retorna ocorrências de um elemento na lista;"
   ]
  },
  {
   "cell_type": "markdown",
   "id": "59a06635",
   "metadata": {
    "slideshow": {
     "slide_type": "slide"
    }
   },
   "source": [
    "## Outros métodos para listas"
   ]
  },
  {
   "cell_type": "code",
   "execution_count": 42,
   "id": "f56cb57c",
   "metadata": {},
   "outputs": [
    {
     "name": "stdout",
     "output_type": "stream",
     "text": [
      "[2, 1, 3, 5, ['a', 'b'], [4, 3, 9], 6, 'texto', 1, 2, 3]\n"
     ]
    }
   ],
   "source": [
    "# Exemplos\n",
    "lista1 = [2, 1, 3, 5,['a','b']]\n",
    "lista2, lista3 = [[4, 3, 9],6, \"texto\"], [1,2,3]\n",
    "\n",
    "# extend\n",
    "lista1.extend(lista2+lista3)\n",
    "print(lista1)"
   ]
  },
  {
   "cell_type": "code",
   "execution_count": 44,
   "id": "e5afdc40",
   "metadata": {},
   "outputs": [
    {
     "name": "stdout",
     "output_type": "stream",
     "text": [
      "2\n"
     ]
    }
   ],
   "source": [
    "# count\n",
    "print(lista1.count(3)) # Contando ocorrências do número 3"
   ]
  },
  {
   "cell_type": "code",
   "execution_count": 39,
   "id": "3ac0592a",
   "metadata": {},
   "outputs": [
    {
     "name": "stdout",
     "output_type": "stream",
     "text": [
      "[]\n"
     ]
    }
   ],
   "source": [
    "# clear\n",
    "lista1.clear() # Deleteando os elementos da lista1\n",
    "print(lista1)"
   ]
  },
  {
   "cell_type": "markdown",
   "id": "b9165248",
   "metadata": {
    "slideshow": {
     "slide_type": "slide"
    }
   },
   "source": [
    "## Outros métodos para listas"
   ]
  },
  {
   "cell_type": "code",
   "execution_count": 45,
   "id": "3e6b6d12",
   "metadata": {},
   "outputs": [
    {
     "name": "stdout",
     "output_type": "stream",
     "text": [
      "['Serra', 'Vila Velha', 'Cariacica', 'Vitória']\n"
     ]
    },
    {
     "ename": "TypeError",
     "evalue": "append() takes exactly one argument (4 given)",
     "output_type": "error",
     "traceback": [
      "\u001b[0;31m---------------------------------------------------------------------------\u001b[0m",
      "\u001b[0;31mTypeError\u001b[0m                                 Traceback (most recent call last)",
      "\u001b[0;32m/tmp/ipykernel_575810/1716735380.py\u001b[0m in \u001b[0;36m<module>\u001b[0;34m\u001b[0m\n\u001b[1;32m      5\u001b[0m \u001b[0;34m\u001b[0m\u001b[0m\n\u001b[1;32m      6\u001b[0m \u001b[0;31m# append não permite mais de um argumento.\u001b[0m\u001b[0;34m\u001b[0m\u001b[0;34m\u001b[0m\u001b[0;34m\u001b[0m\u001b[0m\n\u001b[0;32m----> 7\u001b[0;31m \u001b[0mmunicipios\u001b[0m\u001b[0;34m.\u001b[0m\u001b[0mappend\u001b[0m\u001b[0;34m(\u001b[0m\u001b[0;34m'Castelo'\u001b[0m\u001b[0;34m,\u001b[0m\u001b[0;34m'Iconha'\u001b[0m\u001b[0;34m,\u001b[0m \u001b[0;34m'Guarapari'\u001b[0m\u001b[0;34m,\u001b[0m\u001b[0;34m'Viana'\u001b[0m\u001b[0;34m)\u001b[0m\u001b[0;34m\u001b[0m\u001b[0;34m\u001b[0m\u001b[0m\n\u001b[0m",
      "\u001b[0;31mTypeError\u001b[0m: append() takes exactly one argument (4 given)"
     ]
    }
   ],
   "source": [
    "municipios = ['Serra', 'Vila Velha', 'Cariacica']\n",
    "municipios.append('Vitória') # append adiciona um elemento ao final da lista municipios\n",
    "\n",
    "print(municipios)\n",
    "\n",
    "# append não permite mais de um argumento.\n",
    "municipios.append('Castelo','Iconha', 'Guarapari','Viana')"
   ]
  },
  {
   "cell_type": "markdown",
   "id": "cb110741",
   "metadata": {
    "slideshow": {
     "slide_type": "slide"
    }
   },
   "source": [
    "## Outros métodos para listas"
   ]
  },
  {
   "cell_type": "code",
   "execution_count": 46,
   "id": "7bd05059",
   "metadata": {},
   "outputs": [
    {
     "name": "stdout",
     "output_type": "stream",
     "text": [
      "['Serra', 'Vila Velha', 'Cariacica', 'Vitória', 'Castelo', 'Iconha', 'Guarapari', 'Viana']\n"
     ]
    }
   ],
   "source": [
    " # Nesse caso utilize o método extend\n",
    "municipios.extend(['Castelo','Iconha', 'Guarapari','Viana'])\n",
    "print(municipios)"
   ]
  },
  {
   "cell_type": "code",
   "execution_count": 47,
   "id": "ba782716",
   "metadata": {},
   "outputs": [
    {
     "name": "stdout",
     "output_type": "stream",
     "text": [
      "['Serra', 'Vila Velha', 'Cariacica', 'Alegre', 'Vitória', 'Castelo', 'Iconha', 'Guarapari', 'Viana']\n"
     ]
    }
   ],
   "source": [
    "# insert permite inserir um elemento na posição especificada\n",
    "municipios.insert(3, 'Alegre')\n",
    "print(municipios)"
   ]
  },
  {
   "cell_type": "markdown",
   "id": "7cf5eab8",
   "metadata": {
    "slideshow": {
     "slide_type": "slide"
    }
   },
   "source": [
    "## Outros métodos para listas"
   ]
  },
  {
   "cell_type": "code",
   "execution_count": 48,
   "id": "cf695415",
   "metadata": {},
   "outputs": [
    {
     "name": "stdout",
     "output_type": "stream",
     "text": [
      "['Alegre', 'Cariacica', 'Castelo', 'Guarapari', 'Iconha', 'Serra', 'Viana', 'Vila Velha', 'Vitória']\n",
      "\n",
      " ['Vitória', 'Vila Velha', 'Viana', 'Serra', 'Iconha', 'Guarapari', 'Castelo', 'Cariacica', 'Alegre']\n",
      "\n",
      "O ı́ndice do municipio 'Castelo' é 6\n"
     ]
    }
   ],
   "source": [
    "# Método sort, reverse e index\n",
    "municipios = ['Serra', 'Vila Velha', 'Cariacica', 'Alegre', 'Vitória','Castelo', 'Iconha', 'Guarapari', 'Viana']\n",
    "municipios.sort()\n",
    "print(municipios)\n",
    "\n",
    "municipios.reverse()\n",
    "print(\"\\n\", municipios)\n",
    "\n",
    "print(\"\\nO ı́ndice do municipio 'Castelo' é {}\".format(municipios.index(\"Castelo\")))"
   ]
  },
  {
   "cell_type": "code",
   "execution_count": 49,
   "id": "70834454",
   "metadata": {},
   "outputs": [
    {
     "name": "stdout",
     "output_type": "stream",
     "text": [
      "municipios= ['Vitória', 'Vila Velha', 'Viana', 'Serra', 'Iconha', 'Guarapari', 'Castelo', 'Cariacica', 'Alegre'] \n",
      "estado= ['Vitória', 'Vila Velha', 'Viana', 'Serra', 'Iconha', 'Guarapari', 'Castelo', 'Cariacica', 'Alegre', 'Muqui'] \n"
     ]
    }
   ],
   "source": [
    "# Utilize o método copy para copiar listas\n",
    "estado=municipios.copy()\n",
    "estado.append('Muqui')\n",
    "print(\"municipios= {} \".format(municipios))\n",
    "print(\"estado= {} \".format(estado))"
   ]
  },
  {
   "cell_type": "markdown",
   "id": "3e6742b5",
   "metadata": {
    "slideshow": {
     "slide_type": "slide"
    }
   },
   "source": [
    "# Funções embutidas (built-in) para listas"
   ]
  },
  {
   "cell_type": "markdown",
   "id": "cee7f1be",
   "metadata": {},
   "source": [
    "O interpretador do Python possui várias funções e tipos embutidos que sempre estão disponíveis. A seguir listamos algumas dessas funções:\n",
    "\n",
    "* **all**: Verifica se todos os elementos contidos na lista são verdadeiros ou se a lista for vazia;\n",
    "* **any**: Retorna verdadeiro se algum dos elementos da lista for verdadeiro. Se a lista for vazia ela retorna falso;\n",
    "* **enumerate**: Retorna uma tupla de dois elementos a cada iteração: um número sequencial e um item da sequência correspondente;\n",
    "* **filter**: filtra os elementos de uma sequência. O processo de filtragem é definido a partir de uma função que o programador passa como primeiro argumento da função;\n",
    "* **len**: Devolve o comprimento (o número de itens) de um objeto;"
   ]
  },
  {
   "cell_type": "markdown",
   "id": "3a6c7652",
   "metadata": {
    "slideshow": {
     "slide_type": "slide"
    }
   },
   "source": [
    "# Funções embutidas (built-in) para listas"
   ]
  },
  {
   "cell_type": "markdown",
   "id": "d3e45669",
   "metadata": {},
   "source": [
    "\n",
    "* **map**: Aplica uma função a cada elemento de uma lista, retornando uma nova lista contendo os elementos resultantes da aplicação da função;\n",
    "* **max**: Retorna o maior elemento;\n",
    "* **min**: Retorna o menor elemento;\n",
    "* **pow**: Retorna a potência de um número;\n",
    "* **sum**: Soma todos os elementos de uma lista;\n",
    "* **zip**: retorna uma lista de tuplas, onde a i-ésima tupla contém o i-ésimo elemento de cada um dos argumentos."
   ]
  },
  {
   "cell_type": "markdown",
   "id": "01df1b36",
   "metadata": {
    "slideshow": {
     "slide_type": "slide"
    }
   },
   "source": [
    "# Funções embutidas (built-in) para listas"
   ]
  },
  {
   "cell_type": "code",
   "execution_count": 50,
   "id": "e5701244",
   "metadata": {},
   "outputs": [
    {
     "data": {
      "text/html": [
       "\n",
       "        <iframe\n",
       "            width=\"100%\"\n",
       "            height=\"650\"\n",
       "            src=\"https://docs.python.org/pt-br/3/library/functions.html\"\n",
       "            frameborder=\"0\"\n",
       "            allowfullscreen\n",
       "        ></iframe>\n",
       "        "
      ],
      "text/plain": [
       "<IPython.lib.display.IFrame at 0x7f41226237c0>"
      ]
     },
     "execution_count": 50,
     "metadata": {},
     "output_type": "execute_result"
    }
   ],
   "source": [
    "ip.IFrame('https://docs.python.org/pt-br/3/library/functions.html', width='100%', height=650)"
   ]
  },
  {
   "cell_type": "markdown",
   "id": "b2406726",
   "metadata": {
    "slideshow": {
     "slide_type": "slide"
    }
   },
   "source": [
    "# Funções embutidas (built-in) para listas"
   ]
  },
  {
   "cell_type": "code",
   "execution_count": 51,
   "id": "5623679b",
   "metadata": {},
   "outputs": [
    {
     "name": "stdout",
     "output_type": "stream",
     "text": [
      "numeros= [0, 1, 2, 3, 4, 5, 6, 7, 8, 9] \n",
      "Soma= 45 Min= 0 Máx= 9\n"
     ]
    }
   ],
   "source": [
    "numeros = [i for i in range(10)] # Compreensão de lista\n",
    "\n",
    "print(\"numeros=\",numeros,\"\\nSoma=\",sum(numeros),\"Min=\",min(numeros),\"Máx=\",max(numeros))"
   ]
  },
  {
   "cell_type": "code",
   "execution_count": 52,
   "id": "2959bf4c",
   "metadata": {},
   "outputs": [
    {
     "name": "stdout",
     "output_type": "stream",
     "text": [
      "[(1, 'Spring'), (2, 'Summer'), (3, 'Fall'), (4, 'Winter')]\n"
     ]
    }
   ],
   "source": [
    "seasons = ['Spring', 'Summer', 'Fall', 'Winter']\n",
    "\n",
    "print(list(enumerate(seasons,start=1)))"
   ]
  },
  {
   "cell_type": "code",
   "execution_count": 53,
   "id": "3a43dd25",
   "metadata": {},
   "outputs": [
    {
     "name": "stdout",
     "output_type": "stream",
     "text": [
      "['u', 'a', 'i', 'e']\n"
     ]
    }
   ],
   "source": [
    "# Função para identificar as vogais\n",
    "def vogal(letra):\n",
    "    vogais = ['a', 'e', 'i', 'o', 'u']\n",
    "    if letra in vogais:\n",
    "        return True\n",
    "    else:\n",
    "        return False\n",
    "\n",
    "letras = ['u', 'a', 'q', 'c', 'i', 'd', 'z', 'p', 'e']\n",
    "filtro = filter(vogal, letras)\n",
    "print(list(filtro))"
   ]
  },
  {
   "cell_type": "markdown",
   "id": "ddc1dd05",
   "metadata": {
    "slideshow": {
     "slide_type": "slide"
    }
   },
   "source": [
    "# Funções embutidas (built-in) para listas"
   ]
  },
  {
   "cell_type": "code",
   "execution_count": 54,
   "id": "0f1b130a",
   "metadata": {},
   "outputs": [
    {
     "name": "stdout",
     "output_type": "stream",
     "text": [
      "(1, 'sugar')\n",
      "(2, 'spice')\n",
      "(3, 'everything nice')\n"
     ]
    }
   ],
   "source": [
    "for item in zip([1, 2, 3], ['sugar', 'spice', 'everything nice']):\n",
    "    print(item)"
   ]
  },
  {
   "cell_type": "code",
   "execution_count": 55,
   "id": "eebe889a",
   "metadata": {},
   "outputs": [
    {
     "data": {
      "text/plain": [
       "[(0, 'fee'), (1, 'fi'), (2, 'fo')]"
      ]
     },
     "execution_count": 55,
     "metadata": {},
     "output_type": "execute_result"
    }
   ],
   "source": [
    "list(zip(range(3), ['fee', 'fi', 'fo', 'fum']))"
   ]
  },
  {
   "cell_type": "code",
   "execution_count": 56,
   "id": "f87ceff7",
   "metadata": {},
   "outputs": [
    {
     "ename": "TypeError",
     "evalue": "zip() takes no keyword arguments",
     "output_type": "error",
     "traceback": [
      "\u001b[0;31m---------------------------------------------------------------------------\u001b[0m",
      "\u001b[0;31mTypeError\u001b[0m                                 Traceback (most recent call last)",
      "\u001b[0;32m/tmp/ipykernel_575810/3525701347.py\u001b[0m in \u001b[0;36m<module>\u001b[0;34m\u001b[0m\n\u001b[0;32m----> 1\u001b[0;31m \u001b[0mlist\u001b[0m\u001b[0;34m(\u001b[0m\u001b[0mzip\u001b[0m\u001b[0;34m(\u001b[0m\u001b[0mrange\u001b[0m\u001b[0;34m(\u001b[0m\u001b[0;36m3\u001b[0m\u001b[0;34m)\u001b[0m\u001b[0;34m,\u001b[0m \u001b[0;34m[\u001b[0m\u001b[0;34m'fee'\u001b[0m\u001b[0;34m,\u001b[0m \u001b[0;34m'fi'\u001b[0m\u001b[0;34m,\u001b[0m \u001b[0;34m'fo'\u001b[0m\u001b[0;34m,\u001b[0m \u001b[0;34m'fum'\u001b[0m\u001b[0;34m]\u001b[0m\u001b[0;34m,\u001b[0m\u001b[0mstrict\u001b[0m\u001b[0;34m=\u001b[0m\u001b[0;32mTrue\u001b[0m\u001b[0;34m)\u001b[0m\u001b[0;34m)\u001b[0m\u001b[0;34m\u001b[0m\u001b[0;34m\u001b[0m\u001b[0m\n\u001b[0m",
      "\u001b[0;31mTypeError\u001b[0m: zip() takes no keyword arguments"
     ]
    }
   ],
   "source": [
    "list(zip(range(3), ['fee', 'fi', 'fo', 'fum'],strict=True))"
   ]
  },
  {
   "cell_type": "markdown",
   "id": "cde9c444",
   "metadata": {
    "slideshow": {
     "slide_type": "slide"
    }
   },
   "source": [
    "# Exemplos"
   ]
  },
  {
   "cell_type": "code",
   "execution_count": 57,
   "id": "3256e184",
   "metadata": {
    "slideshow": {
     "slide_type": "slide"
    }
   },
   "outputs": [
    {
     "name": "stdout",
     "output_type": "stream",
     "text": [
      "lista de números gerados aleatoriamente (ordenados)= [1, 1, 2, 3, 4, 4, 5, 6, 7, 7]\n",
      "Mı́nimo = 1 e Máximo = 7\n",
      "Média aritmética= 4.00\tMediana= 4.00\n",
      "Valor(es) com maior ocorrência (moda):  1 4 7 "
     ]
    }
   ],
   "source": [
    "from random import randint\n",
    "import statistics\n",
    "\n",
    "a, b, n = 1, 7, 10\n",
    "numeros = list((randint(a,b) for i in range(n))) # Criando a lista de números pseudo-aleatórios\n",
    "numeros.sort() # Ordenando a lista\n",
    "\n",
    "print(\"lista de números gerados aleatoriamente (ordenados)= {}\".format(numeros))\n",
    "print(\"Mı́nimo = {0} e Máximo = {1}\".format(min(numeros),max(numeros)))\n",
    "print(\"Média aritmética= %2.2f\" %(sum(numeros)/n)+\"\\tMediana= %2.2f\" %statistics.median(numeros))\n",
    "\n",
    "contagem = list(enumerate([numeros.count(i) for i in range(a,b+1)]))\n",
    "max_freq= max([contagem[i][1] for i in range(b-a+1)])\n",
    "print(\"Valor(es) com maior ocorrência (moda): \", end= \" \")\n",
    "\n",
    "for i in range(b-a+1):\n",
    "    if(contagem[i][1]==max_freq):\n",
    "        print(contagem[i][0]+a, end=\" \")"
   ]
  },
  {
   "cell_type": "code",
   "execution_count": 58,
   "id": "07b607f1",
   "metadata": {
    "slideshow": {
     "slide_type": "slide"
    }
   },
   "outputs": [
    {
     "name": "stdout",
     "output_type": "stream",
     "text": [
      "Sequência com valores 'None':  [5, 6, 2, None, None, 5, 2, 4, 4, None, None, 7, None, None, 7, 1]\n",
      "Sequência sem 'None':  [5, 6, 2, 5, 2, 4, 4, 7, 7, 1]\n",
      "Números pares:  [6, 2, 2, 4, 4]\n",
      "Maiores que 2: [5, 6, 5, 4, 4, 7, 7]\n",
      "Raiz quadrada= [2.24, 2.45, 1.41, 2.24, 1.41, 2.0, 2.0, 2.65, 2.65, 1.0]\n",
      "Quadrado= [5, 6, 2, 5, 2, 4, 4, 7, 7, 1]\n"
     ]
    }
   ],
   "source": [
    "import math\n",
    "import random\n",
    "a, b, n = 1, 7, 10\n",
    "numeros = list((randint(a,b) for i in range(n)))\n",
    "numeros.extend([None]*6); random.shuffle(numeros)\n",
    "print(\"Sequência com valores 'None': \", numeros)\n",
    "\n",
    "res1 = list(filter(None, numeros))\n",
    "print(\"Sequência sem 'None': \",res1)\n",
    "\n",
    "pares = [i for i in res1 if i%2 == 0]\n",
    "print(\"Números pares: \",pares)\n",
    "\n",
    "maiores_dois = filter(lambda x: x > 2, res1)\n",
    "print(\"Maiores que 2: {}\".format(list(maiores_dois)))\n",
    "\n",
    "raiz_quad = list(map(math.sqrt, res1))\n",
    "print(\"Raiz quadrada= {}\".format([round(x,2) for x in raiz_quad]))\n",
    "print(\"Quadrado= {}\".format([round(math.pow(x,2)) for x in raiz_quad]))"
   ]
  },
  {
   "cell_type": "code",
   "execution_count": 59,
   "id": "d393a1d4",
   "metadata": {
    "slideshow": {
     "slide_type": "slide"
    }
   },
   "outputs": [
    {
     "name": "stdout",
     "output_type": "stream",
     "text": [
      "Sequência de valores:  [13, 45, 15, 40, 50, 57, 18, 52, 47, 16, 53, 57, 61, 58, 25, 19, 32, 57, 44, 45]\n",
      "Não, existe pelo menos um valor 7 na sequência.\n"
     ]
    }
   ],
   "source": [
    "from random import randint\n",
    "\n",
    "a, b, n, valor = 10, 70, 20, b\n",
    "numeros = list((randint(a,b) for i in range(n)))\n",
    "print(\"Sequência de valores: \", numeros)\n",
    "\n",
    "def Teste_Numero_Menor(lista, valor):\n",
    "    return(all(i < valor for i in lista))\n",
    "\n",
    "if (Teste_Numero_Menor(numeros, valor)): \n",
    "    print(\"Sim, todos o valores são menores que {0}. Valor máximo é {1}.\".format(valor,max(numeros)))\n",
    "else: \n",
    "    print(\"Não, existe pelo menos um valor {} na sequência.\".format(valor))"
   ]
  },
  {
   "cell_type": "code",
   "execution_count": 60,
   "id": "dafc0558",
   "metadata": {
    "slideshow": {
     "slide_type": "slide"
    }
   },
   "outputs": [
    {
     "name": "stdout",
     "output_type": "stream",
     "text": [
      "lista de números aleatórios entre 0 e 10 = [6, 8, 5, 7, 1, 2, 2, 7, 3, 2]\n",
      "\n",
      "Valor\tfrequência\n",
      "0 \t 0\n",
      "1 \t 1\n",
      "2 \t 3\n",
      "3 \t 1\n",
      "4 \t 0\n",
      "5 \t 1\n",
      "6 \t 1\n",
      "7 \t 2\n",
      "8 \t 1\n",
      "9 \t 0\n"
     ]
    }
   ],
   "source": [
    "from random import randint\n",
    "n,b=10,9\n",
    "lista = list((randint(0,b) for i in range(n)))\n",
    "contagem = [0]*n\n",
    "\n",
    "print(\"lista de números aleatórios entre 0 e {0} = {1}\".format(n,lista))\n",
    "contagem = list(enumerate([lista.count(i) for i in range(n)]))\n",
    "print(\"\\nValor\\tfrequência\")\n",
    "for i in range(b+1):\n",
    "    print(contagem[i][0],\"\\t\",contagem[i][1])"
   ]
  },
  {
   "cell_type": "markdown",
   "id": "83b4bd5e",
   "metadata": {
    "slideshow": {
     "slide_type": "slide"
    }
   },
   "source": [
    "# Tuplas"
   ]
  },
  {
   "cell_type": "markdown",
   "id": "787c0a29",
   "metadata": {
    "slideshow": {
     "slide_type": "slide"
    }
   },
   "source": [
    "# Dicionários"
   ]
  },
  {
   "cell_type": "markdown",
   "id": "2e2d5a72",
   "metadata": {
    "slideshow": {
     "slide_type": "slide"
    }
   },
   "source": [
    "# Funções"
   ]
  },
  {
   "cell_type": "code",
   "execution_count": 61,
   "id": "adda3917",
   "metadata": {},
   "outputs": [
    {
     "name": "stdout",
     "output_type": "stream",
     "text": [
      "[0, 1, 4, 9, 16, 25, 36, 49, 64, 81]\n"
     ]
    }
   ],
   "source": [
    "quadrados = []\n",
    "for i in range(10):\n",
    "    quadrados.append(i * i)\n",
    "\n",
    "print(quadrados)"
   ]
  },
  {
   "cell_type": "code",
   "execution_count": 97,
   "id": "23385974",
   "metadata": {
    "slideshow": {
     "slide_type": "slide"
    }
   },
   "outputs": [
    {
     "data": {
      "text/plain": [
       "Text(0, 0.5, 'y')"
      ]
     },
     "execution_count": 97,
     "metadata": {},
     "output_type": "execute_result"
    },
    {
     "data": {
      "image/png": "[encoded data removed]",
      "text/plain": [
       "<Figure size 432x288 with 1 Axes>"
      ]
     },
     "metadata": {
      "needs_background": "light"
     },
     "output_type": "display_data"
    }
   ],
   "source": [
    "import numpy as np\n",
    "import math\n",
    "import matplotlib.pyplot as plt\n",
    "%matplotlib inline\n",
    "x = np.linspace(0, 4, 101)\n",
    "y = np.exp(-x)*np.sin(2*math.pi*x)\n",
    "plt.plot(x, y, 'b-')\n",
    "plt.xlabel('x'); plt.ylabel('y')"
   ]
  },
  {
   "cell_type": "code",
   "execution_count": 3,
   "id": "ea1362b5",
   "metadata": {
    "slideshow": {
     "slide_type": "slide"
    }
   },
   "outputs": [],
   "source": [
    "import random\n",
    "import numpy as np\n",
    "import pandas as pd\n",
    "import seaborn as sns\n",
    "import matplotlib.pyplot as plt\n",
    "import scipy as sp\n",
    "\n",
    "\n",
    "random.seed(2427); \n",
    "\n",
    "# help(random)\n"
   ]
  },
  {
   "cell_type": "code",
   "execution_count": 101,
   "id": "143c2164",
   "metadata": {},
   "outputs": [
    {
     "name": "stdout",
     "output_type": "stream",
     "text": [
      "0.6709313964859867 0.9738115340563225\n"
     ]
    }
   ],
   "source": [
    "print(random.random(),random.uniform(0,1))"
   ]
  },
  {
   "cell_type": "code",
   "execution_count": 4,
   "id": "7ce99040",
   "metadata": {},
   "outputs": [
    {
     "data": {
      "text/plain": [
       "[0.6709313964859867,\n",
       " 0.9738115340563225,\n",
       " 0.6064264401595373,\n",
       " 0.4066259803173813,\n",
       " 0.241007454546324,\n",
       " 0.9570332484250537,\n",
       " 0.2349020347673353,\n",
       " 0.8876755137054037,\n",
       " 0.9720131163571095,\n",
       " 0.1492980772443857,\n",
       " 0.9414046155591562,\n",
       " 0.5597323750561738,\n",
       " 0.7608989127589141,\n",
       " 0.5249642801198838,\n",
       " 0.1344891272249087,\n",
       " 0.9796560039964438,\n",
       " 0.06863221669260322,\n",
       " 0.8766064411366202,\n",
       " 0.5504489926930571,\n",
       " 0.4880661379761838]"
      ]
     },
     "execution_count": 4,
     "metadata": {},
     "output_type": "execute_result"
    }
   ],
   "source": [
    "def amostra(n):\n",
    "    x = [random.uniform(0,1) for j in range(n)]\n",
    "    return x\n",
    "\n",
    "amostra(20)"
   ]
  },
  {
   "cell_type": "code",
   "execution_count": 5,
   "id": "5bda3113",
   "metadata": {
    "slideshow": {
     "slide_type": "slide"
    }
   },
   "outputs": [
    {
     "name": "stdout",
     "output_type": "stream",
     "text": [
      "48\n",
      "52\n"
     ]
    }
   ],
   "source": [
    "n, p = 1, 0.5  # numero de eventos, probabilidade de sucesso\n",
    "\n",
    "N =100 # Tamanho de amostra\n",
    "amostra = np.random.binomial(n, p, N); #print(amostra)\n",
    "\n",
    "numero_sucesso=sum(amostra);print(numero_sucesso)\n",
    "numero_fracasso=N-numero_sucesso; print(numero_fracasso)"
   ]
  },
  {
   "cell_type": "code",
   "execution_count": 6,
   "id": "7a995f50",
   "metadata": {
    "slideshow": {
     "slide_type": "slide"
    }
   },
   "outputs": [
    {
     "data": {
      "image/png": "[encoded data removed]",
      "text/plain": [
       "<Figure size 432x288 with 1 Axes>"
      ]
     },
     "metadata": {},
     "output_type": "display_data"
    }
   ],
   "source": [
    "plt.style.use(\"seaborn-whitegrid\")\n",
    "\n",
    "#print(plt.style.available)\n",
    "\n",
    "height = [numero_sucesso, numero_fracasso]\n",
    "bars = ('Sucessos', 'Fracasso')\n",
    "y_pos = np.arange(len(bars))\n",
    "\n",
    "plt.bar(y_pos, height)\n",
    "\n",
    "# Coloca os nomes no eixo x\n",
    "plt.xticks(y_pos, bars)\n",
    "\n",
    "# Mostra o gráfico\n",
    "\n",
    "plt.show()"
   ]
  },
  {
   "cell_type": "code",
   "execution_count": 7,
   "id": "bcbcb529",
   "metadata": {
    "slideshow": {
     "slide_type": "slide"
    }
   },
   "outputs": [
    {
     "name": "stdout",
     "output_type": "stream",
     "text": [
      "    Time  PosX  PosY  PosZ  VelX  VelY  VelZ\n",
      "0  -0.55 -0.26 -1.41 -1.22 -1.66 -1.91 -1.49\n",
      "1  -0.48  0.03 -0.21 -0.71  2.31  0.56  0.12\n",
      "2  -0.35 -0.20 -0.33 -0.45 -1.33 -0.43 -0.38\n",
      "3   0.41 -0.28  0.44  1.25 -0.83  2.39 -0.99\n",
      "4  -1.25 -0.82  0.11 -0.58  0.68  0.05  0.61\n",
      "..   ...   ...   ...   ...   ...   ...   ...\n",
      "95  1.31  1.79  0.98  0.43  0.47 -1.00  0.85\n",
      "96  0.34 -0.57  1.09 -1.13 -1.27 -0.48 -0.23\n",
      "97  0.01  0.06 -0.08  0.22  0.59  0.87  1.11\n",
      "98  0.74 -0.14  0.53  0.28 -0.42 -2.49 -0.35\n",
      "99 -1.19 -0.72 -0.93 -0.07 -0.81 -1.59 -0.08\n",
      "\n",
      "[100 rows x 7 columns]\n"
     ]
    }
   ],
   "source": [
    "dados = np.round(np.random.randn(100,7), 2) # Dados artificiais\n",
    "df = pd.DataFrame(dados, columns=['Time','PosX', 'PosY', 'PosZ', 'VelX', 'VelY', 'VelZ']) # Nomes das variáveis\n",
    "print(df)"
   ]
  },
  {
   "cell_type": "code",
   "execution_count": 8,
   "id": "5bf65fbd",
   "metadata": {
    "slideshow": {
     "slide_type": "slide"
    }
   },
   "outputs": [
    {
     "name": "stdout",
     "output_type": "stream",
     "text": [
      "    VelX  VelY  VelZ\n",
      "0  -1.66 -1.91 -1.49\n",
      "1   2.31  0.56  0.12\n",
      "2  -1.33 -0.43 -0.38\n",
      "3  -0.83  2.39 -0.99\n",
      "4   0.68  0.05  0.61\n",
      "..   ...   ...   ...\n",
      "95  0.47 -1.00  0.85\n",
      "96 -1.27 -0.48 -0.23\n",
      "97  0.59  0.87  1.11\n",
      "98 -0.42 -2.49 -0.35\n",
      "99 -0.81 -1.59 -0.08\n",
      "\n",
      "[100 rows x 3 columns]\n"
     ]
    }
   ],
   "source": [
    "vel = df.filter(regex='Vel*') # Filtra os dados de velocidade\n",
    "print(vel)"
   ]
  },
  {
   "cell_type": "code",
   "execution_count": 9,
   "id": "4714942e",
   "metadata": {
    "slideshow": {
     "slide_type": "slide"
    }
   },
   "outputs": [
    {
     "data": {
      "image/png": "[encoded data removed]",
      "text/plain": [
       "<Figure size 432x288 with 1 Axes>"
      ]
     },
     "metadata": {},
     "output_type": "display_data"
    }
   ],
   "source": [
    "x = np.arange(0, 10, 0.2)\n",
    "y = np.sin(x)\n",
    "\n",
    "# Generate the plot\n",
    "plt.plot(x, y)\n",
    "plt.show()"
   ]
  },
  {
   "cell_type": "code",
   "execution_count": 10,
   "id": "d4ba785b",
   "metadata": {
    "slideshow": {
     "slide_type": "slide"
    }
   },
   "outputs": [
    {
     "data": {
      "image/png": "[encoded data removed]",
      "text/plain": [
       "<Figure size 432x288 with 1 Axes>"
      ]
     },
     "metadata": {},
     "output_type": "display_data"
    },
    {
     "data": {
      "image/png": "[encoded data removed]",
      "text/plain": [
       "<Figure size 432x288 with 1 Axes>"
      ]
     },
     "metadata": {},
     "output_type": "display_data"
    },
    {
     "data": {
      "image/png": "[encoded data removed]",
      "text/plain": [
       "<Figure size 432x288 with 1 Axes>"
      ]
     },
     "metadata": {},
     "output_type": "display_data"
    },
    {
     "data": {
      "text/plain": [
       "<AxesSubplot:ylabel='Density'>"
      ]
     },
     "execution_count": 10,
     "metadata": {},
     "output_type": "execute_result"
    },
    {
     "data": {
      "image/png": "[encoded data removed]",
      "text/plain": [
       "<Figure size 432x288 with 1 Axes>"
      ]
     },
     "metadata": {},
     "output_type": "display_data"
    }
   ],
   "source": [
    "x = np.random.randn(500)\n",
    "\n",
    "plt.plot(x, '.')\n",
    "plt.show()\n",
    "\n",
    "plt.hist(x, bins=25,density=True)\n",
    "plt.show()\n",
    "\n",
    "plt.boxplot(x, sym='*')\n",
    "plt.show()\n",
    "\n",
    "sns.kdeplot(x)"
   ]
  },
  {
   "cell_type": "code",
   "execution_count": 11,
   "id": "b36502a3",
   "metadata": {
    "slideshow": {
     "slide_type": "slide"
    }
   },
   "outputs": [
    {
     "data": {
      "text/plain": [
       "<AxesSubplot:>"
      ]
     },
     "execution_count": 11,
     "metadata": {},
     "output_type": "execute_result"
    },
    {
     "data": {
      "image/png": "[encoded data removed]",
      "text/plain": [
       "<Figure size 432x288 with 1 Axes>"
      ]
     },
     "metadata": {},
     "output_type": "display_data"
    }
   ],
   "source": [
    "df = pd.DataFrame(np.random.rand(10, 4),\n",
    "columns=['a', 'b', 'c', 'd'])\n",
    "df.plot(kind='bar', grid=False)"
   ]
  },
  {
   "cell_type": "code",
   "execution_count": 12,
   "id": "11cbfc9f",
   "metadata": {
    "slideshow": {
     "slide_type": "slide"
    }
   },
   "outputs": [
    {
     "data": {
      "text/plain": [
       "(-1.1802540418506113, 1.1504933909098367, -1.15784386557768, 1.152571721709302)"
      ]
     },
     "execution_count": 12,
     "metadata": {},
     "output_type": "execute_result"
    },
    {
     "data": {
      "image/png": "[encoded data removed]",
      "text/plain": [
       "<Figure size 432x288 with 1 Axes>"
      ]
     },
     "metadata": {},
     "output_type": "display_data"
    }
   ],
   "source": [
    "txtLabels = 'Fundamental', 'Medio', 'Superior', 'Outro'\n",
    "fractions = [45, 30, 15, 10]\n",
    "offsets =(0.05, 0.05, 0.05, 0.05)\n",
    "plt.pie(fractions, explode=offsets, labels=txtLabels,\n",
    "autopct='%1.1f%%', shadow=True, startangle=90,\n",
    "colors=sns.color_palette('muted') )\n",
    "plt.axis('equal')"
   ]
  },
  {
   "cell_type": "code",
   "execution_count": 13,
   "id": "0f07450d",
   "metadata": {
    "slideshow": {
     "slide_type": "slide"
    }
   },
   "outputs": [
    {
     "data": {
      "text/plain": [
       "<AxesSubplot:xlabel='a', ylabel='b'>"
      ]
     },
     "execution_count": 13,
     "metadata": {},
     "output_type": "execute_result"
    },
    {
     "data": {
      "image/png": "[encoded data removed]",
      "text/plain": [
       "<Figure size 432x288 with 1 Axes>"
      ]
     },
     "metadata": {},
     "output_type": "display_data"
    }
   ],
   "source": [
    "df2 = pd.DataFrame(np.random.rand(50, 4),columns=['a', 'b', 'c', 'd'])\n",
    "df2.plot(kind='scatter', x='a', y='b', s=df2['c']*300)"
   ]
  },
  {
   "cell_type": "code",
   "execution_count": 14,
   "id": "c37c01e0",
   "metadata": {
    "slideshow": {
     "slide_type": "slide"
    }
   },
   "outputs": [
    {
     "data": {
      "text/html": [
       "<div>\n",
       "<style scoped>\n",
       "    .dataframe tbody tr th:only-of-type {\n",
       "        vertical-align: middle;\n",
       "    }\n",
       "\n",
       "    .dataframe tbody tr th {\n",
       "        vertical-align: top;\n",
       "    }\n",
       "\n",
       "    .dataframe thead th {\n",
       "        text-align: right;\n",
       "    }\n",
       "</style>\n",
       "<table border=\"1\" class=\"dataframe\">\n",
       "  <thead>\n",
       "    <tr style=\"text-align: right;\">\n",
       "      <th></th>\n",
       "      <th>x</th>\n",
       "    </tr>\n",
       "  </thead>\n",
       "  <tbody>\n",
       "    <tr>\n",
       "      <th>count</th>\n",
       "      <td>500.000000</td>\n",
       "    </tr>\n",
       "    <tr>\n",
       "      <th>mean</th>\n",
       "      <td>0.022964</td>\n",
       "    </tr>\n",
       "    <tr>\n",
       "      <th>std</th>\n",
       "      <td>0.979212</td>\n",
       "    </tr>\n",
       "    <tr>\n",
       "      <th>min</th>\n",
       "      <td>-2.834124</td>\n",
       "    </tr>\n",
       "    <tr>\n",
       "      <th>25%</th>\n",
       "      <td>-0.659795</td>\n",
       "    </tr>\n",
       "    <tr>\n",
       "      <th>50%</th>\n",
       "      <td>0.026259</td>\n",
       "    </tr>\n",
       "    <tr>\n",
       "      <th>75%</th>\n",
       "      <td>0.743096</td>\n",
       "    </tr>\n",
       "    <tr>\n",
       "      <th>max</th>\n",
       "      <td>2.624101</td>\n",
       "    </tr>\n",
       "  </tbody>\n",
       "</table>\n",
       "</div>"
      ],
      "text/plain": [
       "                x\n",
       "count  500.000000\n",
       "mean     0.022964\n",
       "std      0.979212\n",
       "min     -2.834124\n",
       "25%     -0.659795\n",
       "50%      0.026259\n",
       "75%      0.743096\n",
       "max      2.624101"
      ]
     },
     "execution_count": 14,
     "metadata": {},
     "output_type": "execute_result"
    }
   ],
   "source": [
    "x = pd.DataFrame(np.random.randn(500),columns=['x'])\n",
    "x.describe()"
   ]
  },
  {
   "cell_type": "code",
   "execution_count": 15,
   "id": "dfb49bd6",
   "metadata": {
    "slideshow": {
     "slide_type": "slide"
    }
   },
   "outputs": [
    {
     "name": "stdout",
     "output_type": "stream",
     "text": [
      "x    0.022964\n",
      "dtype: float64\n"
     ]
    }
   ],
   "source": [
    "print(x.mean())"
   ]
  },
  {
   "cell_type": "code",
   "execution_count": 16,
   "id": "b3f98e94",
   "metadata": {},
   "outputs": [
    {
     "name": "stdout",
     "output_type": "stream",
     "text": [
      "x    0.022964\n",
      "dtype: float64\n"
     ]
    }
   ],
   "source": [
    "print(np.mean(x))"
   ]
  },
  {
   "cell_type": "code",
   "execution_count": 17,
   "id": "f5a7f552",
   "metadata": {},
   "outputs": [
    {
     "name": "stdout",
     "output_type": "stream",
     "text": [
      "ModeResult(mode=array([[-2.834124]]), count=array([[1]]))\n"
     ]
    }
   ],
   "source": [
    "print(sp.stats.mode(x))"
   ]
  },
  {
   "cell_type": "code",
   "execution_count": 18,
   "id": "479a1042",
   "metadata": {},
   "outputs": [
    {
     "name": "stdout",
     "output_type": "stream",
     "text": [
      "ModeResult(mode=array([[-2.834124]]), count=array([[1]]))\n"
     ]
    }
   ],
   "source": [
    "from scipy import stats\n",
    "print(stats.mode(x))"
   ]
  },
  {
   "cell_type": "code",
   "execution_count": 19,
   "id": "c9e2d3e2",
   "metadata": {
    "slideshow": {
     "slide_type": "slide"
    }
   },
   "outputs": [
    {
     "data": {
      "image/png": "[encoded data removed]",
      "text/plain": [
       "<Figure size 432x288 with 1 Axes>"
      ]
     },
     "metadata": {},
     "output_type": "display_data"
    }
   ],
   "source": [
    "p = 0.5\n",
    "bernoulli = stats.bernoulli(p)\n",
    "\n",
    "plt.plot(bernoulli.rvs(10), '.')\n",
    "plt.show()"
   ]
  },
  {
   "cell_type": "code",
   "execution_count": 20,
   "id": "4ef65372",
   "metadata": {
    "slideshow": {
     "slide_type": "slide"
    }
   },
   "outputs": [
    {
     "data": {
      "image/png": "[encoded data removed]",
      "text/plain": [
       "<Figure size 432x288 with 1 Axes>"
      ]
     },
     "metadata": {},
     "output_type": "display_data"
    }
   ],
   "source": [
    "(p, n) = (0.5, 1)\n",
    "binomial = stats.binom(n, p)\n",
    "plt.plot(binomial.rvs(10), '.')\n",
    "plt.show()"
   ]
  },
  {
   "cell_type": "code",
   "execution_count": 21,
   "id": "abee9a3b",
   "metadata": {
    "slideshow": {
     "slide_type": "slide"
    }
   },
   "outputs": [
    {
     "data": {
      "image/png": "[encoded data removed]",
      "text/plain": [
       "<Figure size 432x288 with 1 Axes>"
      ]
     },
     "metadata": {},
     "output_type": "display_data"
    }
   ],
   "source": [
    "n=500\n",
    "rep = 500\n",
    "\n",
    "df = pd.DataFrame()\n",
    "\n",
    "for i in range(1, rep+1):\n",
    "    amostra = np.random.binomial(4,0.5, n)\n",
    "    col = f'amostra {i}'\n",
    "    df[col] = amostra\n",
    "\n",
    "df.describe()\n",
    "\n",
    "# Plotting the sampling distribution from a \n",
    "df_medias = pd.DataFrame(df.mean(),columns=['Médias amostrais'])\n",
    "sns.histplot(df_medias,kde=True);"
   ]
  },
  {
   "cell_type": "code",
   "execution_count": 22,
   "id": "da8f646f",
   "metadata": {
    "slideshow": {
     "slide_type": "slide"
    }
   },
   "outputs": [
    {
     "data": {
      "text/html": [
       "<div>\n",
       "<style scoped>\n",
       "    .dataframe tbody tr th:only-of-type {\n",
       "        vertical-align: middle;\n",
       "    }\n",
       "\n",
       "    .dataframe tbody tr th {\n",
       "        vertical-align: top;\n",
       "    }\n",
       "\n",
       "    .dataframe thead th {\n",
       "        text-align: right;\n",
       "    }\n",
       "</style>\n",
       "<table border=\"1\" class=\"dataframe\">\n",
       "  <thead>\n",
       "    <tr style=\"text-align: right;\">\n",
       "      <th></th>\n",
       "      <th>x</th>\n",
       "    </tr>\n",
       "  </thead>\n",
       "  <tbody>\n",
       "    <tr>\n",
       "      <th>0</th>\n",
       "      <td>3</td>\n",
       "    </tr>\n",
       "    <tr>\n",
       "      <th>1</th>\n",
       "      <td>2</td>\n",
       "    </tr>\n",
       "    <tr>\n",
       "      <th>2</th>\n",
       "      <td>1</td>\n",
       "    </tr>\n",
       "    <tr>\n",
       "      <th>3</th>\n",
       "      <td>1</td>\n",
       "    </tr>\n",
       "    <tr>\n",
       "      <th>4</th>\n",
       "      <td>2</td>\n",
       "    </tr>\n",
       "    <tr>\n",
       "      <th>5</th>\n",
       "      <td>3</td>\n",
       "    </tr>\n",
       "    <tr>\n",
       "      <th>6</th>\n",
       "      <td>4</td>\n",
       "    </tr>\n",
       "    <tr>\n",
       "      <th>7</th>\n",
       "      <td>2</td>\n",
       "    </tr>\n",
       "    <tr>\n",
       "      <th>8</th>\n",
       "      <td>2</td>\n",
       "    </tr>\n",
       "    <tr>\n",
       "      <th>9</th>\n",
       "      <td>4</td>\n",
       "    </tr>\n",
       "    <tr>\n",
       "      <th>10</th>\n",
       "      <td>2</td>\n",
       "    </tr>\n",
       "    <tr>\n",
       "      <th>11</th>\n",
       "      <td>3</td>\n",
       "    </tr>\n",
       "    <tr>\n",
       "      <th>12</th>\n",
       "      <td>1</td>\n",
       "    </tr>\n",
       "    <tr>\n",
       "      <th>13</th>\n",
       "      <td>2</td>\n",
       "    </tr>\n",
       "    <tr>\n",
       "      <th>14</th>\n",
       "      <td>1</td>\n",
       "    </tr>\n",
       "    <tr>\n",
       "      <th>15</th>\n",
       "      <td>1</td>\n",
       "    </tr>\n",
       "    <tr>\n",
       "      <th>16</th>\n",
       "      <td>1</td>\n",
       "    </tr>\n",
       "    <tr>\n",
       "      <th>17</th>\n",
       "      <td>1</td>\n",
       "    </tr>\n",
       "    <tr>\n",
       "      <th>18</th>\n",
       "      <td>4</td>\n",
       "    </tr>\n",
       "    <tr>\n",
       "      <th>19</th>\n",
       "      <td>4</td>\n",
       "    </tr>\n",
       "  </tbody>\n",
       "</table>\n",
       "</div>"
      ],
      "text/plain": [
       "    x\n",
       "0   3\n",
       "1   2\n",
       "2   1\n",
       "3   1\n",
       "4   2\n",
       "5   3\n",
       "6   4\n",
       "7   2\n",
       "8   2\n",
       "9   4\n",
       "10  2\n",
       "11  3\n",
       "12  1\n",
       "13  2\n",
       "14  1\n",
       "15  1\n",
       "16  1\n",
       "17  1\n",
       "18  4\n",
       "19  4"
      ]
     },
     "execution_count": 22,
     "metadata": {},
     "output_type": "execute_result"
    }
   ],
   "source": [
    "from scipy.stats import randint\n",
    "\n",
    "(a,b)=(1,5)\n",
    "\n",
    "x = pd.DataFrame(randint.rvs(a, b, size=100),columns=['x'])\n",
    "\n",
    "x.head(20)"
   ]
  },
  {
   "cell_type": "code",
   "execution_count": 23,
   "id": "c579a5ff",
   "metadata": {
    "scrolled": true,
    "slideshow": {
     "slide_type": "slide"
    }
   },
   "outputs": [
    {
     "data": {
      "text/plain": [
       "<AxesSubplot:>"
      ]
     },
     "execution_count": 23,
     "metadata": {},
     "output_type": "execute_result"
    },
    {
     "data": {
      "image/png": "[encoded data removed]",
      "text/plain": [
       "<Figure size 432x288 with 1 Axes>"
      ]
     },
     "metadata": {},
     "output_type": "display_data"
    }
   ],
   "source": [
    "x.plot(kind='bar', grid=False)"
   ]
  },
  {
   "cell_type": "markdown",
   "id": "f0fd28c9",
   "metadata": {
    "slideshow": {
     "slide_type": "notes"
    }
   },
   "source": [
    "  date          product_line              product       unit_price     quantity\n",
    "  2018-01-15    Health and beauty         Shampoo       6.99           7\n",
    "  2018-01-15    Electronic accessories    Headphones    25.28          5\n",
    "  2018-01-16    Home and lifestyle        Lamp          46.33          3\n",
    "  2018-01-16    Sports                    Yoga mat      39.99          5\n",
    "  2018-01-17    Food and beverages        Milk          5.99           8"
   ]
  },
  {
   "cell_type": "code",
   "execution_count": 24,
   "id": "ab6fc1d9",
   "metadata": {
    "slideshow": {
     "slide_type": "notes"
    }
   },
   "outputs": [],
   "source": [
    "import pandas as pd\n",
    "import numpy as np\n",
    "import math\n",
    "\n",
    "date = ['2018-01-15',  '2018-01-15',  '2018-01-16',  '2018-01-16',  '2018-01-17']\n",
    "prod_line = [\"Health and beauty\",\"Electronic accessories\",\"Home and lifestyle\", \"Sports\", \"Food and beverages\"]\n",
    "prod = ['Shampoo','Headphones','Lamp','Yoga mat','Milk']\n",
    "unit = [6.99,25.28,46.33,39.99,5.99]\n",
    "quant = [7,5,3,5,8]\n",
    "sales = pd.DataFrame(list(zip(date,prod_line,prod,unit,quant)), columns = ['date','product_line','product','unit_price','quantity'])\n"
   ]
  },
  {
   "cell_type": "code",
   "execution_count": null,
   "id": "b4f55b02",
   "metadata": {
    "slideshow": {
     "slide_type": "notes"
    }
   },
   "outputs": [],
   "source": [
    "def range(column): \n",
    "    return column.max() - column.min()\n",
    "\n",
    "print(sales['unit_price'].aggr(range))"
   ]
  },
  {
   "cell_type": "code",
   "execution_count": 98,
   "id": "1db35841",
   "metadata": {
    "slideshow": {
     "slide_type": "slide"
    }
   },
   "outputs": [
    {
     "data": {
      "text/plain": [
       "'3.4.2'"
      ]
     },
     "execution_count": 98,
     "metadata": {},
     "output_type": "execute_result"
    }
   ],
   "source": [
    "import matplotlib\n",
    "matplotlib.__version__"
   ]
  },
  {
   "cell_type": "code",
   "execution_count": 99,
   "id": "482b7947",
   "metadata": {
    "slideshow": {
     "slide_type": "-"
    }
   },
   "outputs": [
    {
     "name": "stdout",
     "output_type": "stream",
     "text": [
      "Python 3.8.10\r\n"
     ]
    }
   ],
   "source": [
    "!python3 --version"
   ]
  }
 ],
 "metadata": {
  "celltoolbar": "Slideshow",
  "kernelspec": {
   "display_name": "Python 3 (ipykernel)",
   "language": "python",
   "name": "python3"
  },
  "language_info": {
   "codemirror_mode": {
    "name": "ipython",
    "version": 3
   },
   "file_extension": ".py",
   "mimetype": "text/x-python",
   "name": "python",
   "nbconvert_exporter": "python",
   "pygments_lexer": "ipython3",
   "version": "3.8.10"
  }
 },
 "nbformat": 4,
 "nbformat_minor": 5
}
