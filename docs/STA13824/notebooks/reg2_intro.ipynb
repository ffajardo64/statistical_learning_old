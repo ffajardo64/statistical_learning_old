{
 "cells": [
  {
   "cell_type": "markdown",
   "id": "7d2fd744",
   "metadata": {},
   "source": [
    "# Algumas funções para ajuste de modelos de regressão"
   ]
  },
  {
   "cell_type": "markdown",
   "id": "bb0e3eac",
   "metadata": {},
   "source": [
    "### Bibliotecas"
   ]
  },
  {
   "cell_type": "code",
   "execution_count": null,
   "id": "b3f22de7",
   "metadata": {},
   "outputs": [],
   "source": [
    "if(!require(car)) install.packages(\"car\", repos = \"http://cran.us.r-project.org\")\n",
    "if(!require(tidyverse)) install.packages(\"dplyr\", repos = \"http://cran.us.r-project.org\")"
   ]
  },
  {
   "cell_type": "markdown",
   "id": "cec72509",
   "metadata": {},
   "source": [
    "### Conjunto de dados"
   ]
  },
  {
   "cell_type": "code",
   "execution_count": null,
   "id": "4dd38508",
   "metadata": {},
   "outputs": [],
   "source": [
    "help(package=\"carData\")"
   ]
  },
  {
   "cell_type": "markdown",
   "id": "6625bad9",
   "metadata": {},
   "source": [
    "### Alguns comandos úteis"
   ]
  },
  {
   "cell_type": "code",
   "execution_count": null,
   "id": "f6523535",
   "metadata": {},
   "outputs": [],
   "source": [
    "class(Duncan)  # Dados de prestigio ocupacional de Duncan (1961), \"A socioeconomic index for all occupations\""
   ]
  },
  {
   "cell_type": "code",
   "execution_count": null,
   "id": "baace28b",
   "metadata": {},
   "outputs": [],
   "source": [
    "Duncan.tibble <- as_tibble(Duncan); class(Duncan.tibble)"
   ]
  },
  {
   "cell_type": "code",
   "execution_count": null,
   "id": "5c0a28c8",
   "metadata": {},
   "outputs": [],
   "source": [
    "head(Duncan.tibble)"
   ]
  },
  {
   "cell_type": "code",
   "execution_count": null,
   "id": "570c85bb",
   "metadata": {},
   "outputs": [],
   "source": [
    "str(Duncan)"
   ]
  },
  {
   "cell_type": "code",
   "execution_count": null,
   "id": "ee839bfb",
   "metadata": {},
   "outputs": [],
   "source": [
    "search()"
   ]
  },
  {
   "cell_type": "code",
   "execution_count": null,
   "id": "762f6338",
   "metadata": {},
   "outputs": [],
   "source": [
    "Duncan$prestige\n",
    "mean(Duncan$prestige)\n",
    "mean(Duncan[ , \"prestige\"]) # equivalent, column by name\n",
    "mean(Duncan[ , 4]) # equivalent, column by number"
   ]
  },
  {
   "cell_type": "markdown",
   "id": "419a938f",
   "metadata": {},
   "source": [
    "### Ajustando um modelo de regressão"
   ]
  },
  {
   "cell_type": "code",
   "execution_count": null,
   "id": "92d7a494",
   "metadata": {},
   "outputs": [],
   "source": [
    "fit <- lm(prestige ~ income + education, data=Duncan)"
   ]
  },
  {
   "cell_type": "code",
   "execution_count": null,
   "id": "12a962d4",
   "metadata": {},
   "outputs": [],
   "source": [
    "summary(fit)"
   ]
  },
  {
   "cell_type": "code",
   "execution_count": null,
   "id": "5465e33f",
   "metadata": {},
   "outputs": [],
   "source": [
    "plot(fit)"
   ]
  },
  {
   "cell_type": "code",
   "execution_count": null,
   "id": "8444130a",
   "metadata": {},
   "outputs": [],
   "source": [
    "set.seed(1234)\n",
    "some(Duncan$prestige) # Use a função do pacote car"
   ]
  },
  {
   "cell_type": "code",
   "execution_count": null,
   "id": "82c74acd",
   "metadata": {},
   "outputs": [],
   "source": [
    "with(Duncan, hist(income))\n",
    "box()"
   ]
  },
  {
   "cell_type": "code",
   "execution_count": null,
   "id": "ba79e9ff",
   "metadata": {},
   "outputs": [],
   "source": [
    "densityPlot(rstudent(fit)) # Gráfico de resíduos studentizados"
   ]
  },
  {
   "cell_type": "code",
   "execution_count": null,
   "id": "00715cb5",
   "metadata": {},
   "outputs": [],
   "source": [
    "influence.measures(fit)"
   ]
  },
  {
   "cell_type": "code",
   "execution_count": null,
   "id": "056bfcdc",
   "metadata": {},
   "outputs": [],
   "source": [
    "influenceIndexPlot (fit, vars=c (\"Cook\", \"hat\"), id=list(n=3))"
   ]
  },
  {
   "cell_type": "code",
   "execution_count": null,
   "id": "379e0a2f",
   "metadata": {},
   "outputs": [],
   "source": [
    "outlierTest(fit)"
   ]
  },
  {
   "cell_type": "code",
   "execution_count": null,
   "id": "753e1e9b",
   "metadata": {},
   "outputs": [],
   "source": [
    "qqPlot(~ income, data=Duncan, id=list(n=5))"
   ]
  },
  {
   "cell_type": "markdown",
   "id": "104b8014",
   "metadata": {},
   "source": [
    "### Alguns testes de normalidade"
   ]
  },
  {
   "cell_type": "code",
   "execution_count": null,
   "id": "baa4774a",
   "metadata": {},
   "outputs": [],
   "source": [
    "normality.test<-function(dados){\n",
    "    if(!require(nortest)) install.packages(\"nortest\", repos = \"http://cran.us.r-project.org\")\n",
    "    t1 <- ks.test(dados, \"pnorm\", mean(dados), sd(dados))  # KS\n",
    "    t2 <- lillie.test(dados)  # Lilliefors\n",
    "    t3 <- cvm.test(dados)  # Cramér-von Mises\n",
    "    t4 <- shapiro.test(dados) # Shapiro-Wilk\n",
    "    t5 <- sf.test(dados) # Shapiro-Francia\n",
    "    t6 <- ad.test(dados) # Anderson-Darling\n",
    "    # Tabela de resultados\n",
    "    testes <- c(t1$method, t2$method, t3$method, t4$method, t5$method,t6$method)\n",
    "    estatistica <- as.numeric(c(t1$statistic, t2$statistic, t3$statistic,t4$statistic, t5$statistic, t6$statistic))\n",
    "    valor_p <- c(t1$p.value, t2$p.value, t3$p.value, t4$p.value, t5$p.value,t6$p.value)\n",
    "    resultados <- cbind(estatistica, valor_p)\n",
    "    rownames(resultados) <- testes\n",
    "    colnames(resultados) <- c(\"Estatística\", \"Valor p\")\n",
    "    print(resultados, digits = 4)\n",
    "}\n",
    "\n",
    "normality.test(fit$res)"
   ]
  },
  {
   "cell_type": "markdown",
   "id": "588cf4c9",
   "metadata": {},
   "source": [
    "### Pacote PoweR\n",
    "\n",
    "Documentação do pacote [PoweR](https://cran.r-project.org/web/packages/PoweR/PoweR.pdf)"
   ]
  },
  {
   "cell_type": "code",
   "execution_count": null,
   "id": "503b8581",
   "metadata": {},
   "outputs": [],
   "source": [
    "if(!require(PoweR)) install.packages(\"PoweR\", repos = \"http://cran.us.r-project.org\")\n",
    "\n",
    "statcompute(21, fit$res) # Shapiro-Wilks"
   ]
  },
  {
   "cell_type": "code",
   "execution_count": null,
   "id": "51f66a2f",
   "metadata": {},
   "outputs": [],
   "source": [
    "Boxplot(~ income, data=Duncan)"
   ]
  },
  {
   "cell_type": "code",
   "execution_count": null,
   "id": "8d1d3f55",
   "metadata": {},
   "outputs": [],
   "source": [
    "with(Duncan, plot(income, prestige))"
   ]
  },
  {
   "cell_type": "code",
   "execution_count": null,
   "id": "f953b73c",
   "metadata": {},
   "outputs": [],
   "source": [
    "scatterplot(prestige ~ income, data=Duncan, id=list(n=4))"
   ]
  },
  {
   "cell_type": "code",
   "execution_count": null,
   "id": "dd649cb0",
   "metadata": {},
   "outputs": [],
   "source": [
    "Prestige$type <- factor(Prestige$type,\n",
    "    levels=c(\"bc\", \"wc\", \"prof\"))"
   ]
  },
  {
   "cell_type": "code",
   "execution_count": null,
   "id": "af628d0f",
   "metadata": {},
   "outputs": [],
   "source": [
    "scatterplot(prestige ~ income | type, data=Duncan,\n",
    "    legend=list(coords=\"bottomright\", inset=0.1),\n",
    "    smooth=list(span=0.9))"
   ]
  },
  {
   "cell_type": "code",
   "execution_count": null,
   "id": "8b3fca7f",
   "metadata": {},
   "outputs": [],
   "source": [
    "xtabs(~type, data=Duncan)"
   ]
  },
  {
   "cell_type": "code",
   "execution_count": null,
   "id": "e89b7c58",
   "metadata": {},
   "outputs": [],
   "source": [
    "scatterplotMatrix(~ prestige + income + education + women,data=Prestige)"
   ]
  },
  {
   "cell_type": "code",
   "execution_count": null,
   "id": "26c665ca",
   "metadata": {},
   "outputs": [],
   "source": [
    "scatterplot(infantMortality ~ ppgdp, data=UN,\n",
    "     xlab=\"GDP per Capita\",\n",
    "     ylab=\"Infant Mortality Rate (per 1000 births)\",\n",
    "     main=\"(a)\", id=list(n=3))"
   ]
  },
  {
   "cell_type": "code",
   "execution_count": null,
   "id": "9d8eea5d",
   "metadata": {},
   "outputs": [],
   "source": [
    "scatterplot(infantMortality ~ ppgdp, data=UN,\n",
    "     xlab=\"GDP per capita\",\n",
    "     ylab=\"Infant Mortality Rate (per 1000 births)\",\n",
    "     main=\"(b)\", log=\"xy\", id=list(n=3))"
   ]
  },
  {
   "cell_type": "code",
   "execution_count": null,
   "id": "78591f08",
   "metadata": {},
   "outputs": [],
   "source": [
    "fit<-lm(log(infantMortality) ~ log(ppgdp), data=UN)\n",
    "summary(fit)"
   ]
  },
  {
   "cell_type": "code",
   "execution_count": null,
   "id": "219d051a",
   "metadata": {},
   "outputs": [],
   "source": [
    "S(fit)  # Estimativas dos coeficientes"
   ]
  },
  {
   "cell_type": "code",
   "execution_count": null,
   "id": "4a12fd6a",
   "metadata": {},
   "outputs": [],
   "source": [
    "Confint(fit) # INtervalos de confiança para os coeficientes"
   ]
  },
  {
   "cell_type": "markdown",
   "id": "a04c7f14",
   "metadata": {},
   "source": [
    "### Transformações para normalidade"
   ]
  },
  {
   "cell_type": "code",
   "execution_count": null,
   "id": "83d604f3",
   "metadata": {},
   "outputs": [],
   "source": [
    "summary(p1 <- powerTransform(infantMortality ~ 1, data=UN, family=\"bcPower\"))"
   ]
  },
  {
   "cell_type": "code",
   "execution_count": null,
   "id": "bcbbcb5c",
   "metadata": {},
   "outputs": [],
   "source": [
    "testTransform(p1, lambda=1/2)"
   ]
  },
  {
   "cell_type": "code",
   "execution_count": null,
   "id": "4852914e",
   "metadata": {},
   "outputs": [],
   "source": [
    "summary(p2 <- powerTransform(cbind(income, education) ~ 1, data=Prestige, family=\"bcPower\"))"
   ]
  },
  {
   "cell_type": "markdown",
   "id": "e452b3f3",
   "metadata": {},
   "source": [
    "### Comparação de modelos: caso de remoção de pontos influentes"
   ]
  },
  {
   "cell_type": "code",
   "execution_count": null,
   "id": "d60b29a6",
   "metadata": {},
   "outputs": [],
   "source": [
    "davis.mod <- lm(weight ~ repwt, data=Davis)\n",
    "plot(weight ~ repwt, data=Davis)\n",
    "abline(0, 1, lty=\"dashed\", lwd=2)\n",
    "abline(davis.mod, lwd=2)\n",
    "legend(\"bottomright\", c(\"Unbiased Reporting\", \"Least Squares\"),lty=c(\"dashed\", \"solid\"), lwd=2, inset=0.02)\n",
    "with(Davis, showLabels(repwt, weight, n=2, method=\"mahal\"))"
   ]
  },
  {
   "cell_type": "code",
   "execution_count": null,
   "id": "ecb8f85a",
   "metadata": {},
   "outputs": [],
   "source": [
    "davis.mod.2 <- update(davis.mod, subset=-12)\n",
    "S(davis.mod.2)"
   ]
  },
  {
   "cell_type": "code",
   "execution_count": null,
   "id": "73430f6d",
   "metadata": {},
   "outputs": [],
   "source": [
    "compareCoefs(davis.mod, davis.mod.2)\n",
    "Confint(davis.mod.2)"
   ]
  },
  {
   "cell_type": "code",
   "execution_count": null,
   "id": "96e05a32",
   "metadata": {},
   "outputs": [],
   "source": [
    "carWeb() # Pegar os arquivos na Web"
   ]
  }
 ],
 "metadata": {
  "kernelspec": {
   "display_name": "R",
   "language": "R",
   "name": "ir"
  },
  "language_info": {
   "codemirror_mode": "r",
   "file_extension": ".r",
   "mimetype": "text/x-r-source",
   "name": "R",
   "pygments_lexer": "r",
   "version": "4.1.0"
  }
 },
 "nbformat": 4,
 "nbformat_minor": 5
}
