{
  "nbformat": 4,
  "nbformat_minor": 0,
  "metadata": {
    "colab": {
      "provenance": [],
      "collapsed_sections": []
    },
    "kernelspec": {
      "name": "python3",
      "display_name": "Python 3"
    }
  },
  "cells": [
    {
      "cell_type": "markdown",
      "metadata": {
        "id": "Y1Ixknhz3hEX"
      },
      "source": [
        "# Aula de Séries Temporais I"
      ]
    },
    {
      "cell_type": "code",
      "metadata": {
        "id": "C_Yi9tQaEylT"
      },
      "source": [
        "from google.colab import files\n",
        "uploaded = files.upload()"
      ],
      "execution_count": null,
      "outputs": []
    },
    {
      "cell_type": "markdown",
      "source": [
        "[R data sets](https://stat.ethz.ch/R-manual/R-devel/library/datasets/html/00Index.html)"
      ],
      "metadata": {
        "id": "FX4Jfqko7ipr"
      }
    },
    {
      "cell_type": "code",
      "metadata": {
        "id": "njlPiiWptanh"
      },
      "source": [
        "!jupyter-kernelspec list"
      ],
      "execution_count": null,
      "outputs": []
    },
    {
      "cell_type": "markdown",
      "metadata": {
        "id": "liilGuiv3c3x"
      },
      "source": []
    },
    {
      "cell_type": "code",
      "metadata": {
        "id": "AotNLZPEuhEa"
      },
      "source": [
        "# activate R magic\n",
        "# https://stackoverflow.com/questions/54595285/how-to-use-r-with-google-colaboratory\n",
        "%load_ext rpy2.ipython"
      ],
      "execution_count": null,
      "outputs": []
    },
    {
      "cell_type": "code",
      "metadata": {
        "id": "8uoNclJQuzYO"
      },
      "source": [
        "%%R\n",
        "\n",
        "# install.packages('itsmr')\n",
        "\n",
        "plot(itsmr::wine, xlab='Tempo (Meses)', ylab='10³ litros', \n",
        "        main= 'Vendas de vinho na Australia', pch=18, col='blue')\n",
        "lines(1:length(itsmr::wine), itsmr::wine, lty = 2, lwd = 1, col='black')"
      ],
      "execution_count": null,
      "outputs": []
    },
    {
      "cell_type": "code",
      "source": [
        "%%R\n",
        "\n",
        "data(sunspot.month)\n",
        "\n",
        "plot.ts(sunspot.month)"
      ],
      "metadata": {
        "id": "QWtdcJA66LIB"
      },
      "execution_count": null,
      "outputs": []
    },
    {
      "cell_type": "code",
      "source": [
        "%%R\n",
        "\n",
        "data(nottem)\n",
        "\n",
        "plot.ts(nottem)"
      ],
      "metadata": {
        "id": "cz7AkH_C6lhz"
      },
      "execution_count": null,
      "outputs": []
    },
    {
      "cell_type": "code",
      "source": [
        "%%R\n",
        "\n",
        "data(Nile)\n",
        "\n",
        "plot.ts(Nile)"
      ],
      "metadata": {
        "id": "deGQxBe263xV"
      },
      "execution_count": null,
      "outputs": []
    },
    {
      "cell_type": "code",
      "source": [
        "%%R\n",
        "\n",
        "data(AirPassengers)\n",
        "\n",
        "plot.ts(AirPassengers)"
      ],
      "metadata": {
        "id": "oBvC8I6g6W5s"
      },
      "execution_count": null,
      "outputs": []
    },
    {
      "cell_type": "code",
      "source": [
        "%%R\n",
        "\n",
        "data(airmiles)\n",
        "\n",
        "plot.ts(airmiles)"
      ],
      "metadata": {
        "id": "oQIR3B0o80Xc"
      },
      "execution_count": null,
      "outputs": []
    },
    {
      "cell_type": "code",
      "source": [
        "%%R\n",
        "\n",
        "n <- 500\n",
        "\n",
        "ar.sim <- arima.sim(list(order = c(1,1,0), ar = 0.2), n)\n",
        "\n",
        "par(mfrow=c(2,1))\n",
        "acf(ar.sim, lag.max= n*0.5)\n",
        "acf(ar.sim, ci.type=\"ma\", lag.max= n*0.5)"
      ],
      "metadata": {
        "id": "82j1RiKw3J6v"
      },
      "execution_count": null,
      "outputs": []
    },
    {
      "cell_type": "code",
      "metadata": {
        "id": "oeuPt-X-3up7"
      },
      "source": [
        "%%R\n",
        "n<-1000\n",
        "\n",
        "ma.sim<-arima.sim(list(order=c(0,0,1),ma=0.2),n)\n",
        "\n",
        "acf(ma.sim, ci.type=\"ma\", lag.max= n*0.5)"
      ],
      "execution_count": null,
      "outputs": []
    },
    {
      "cell_type": "code",
      "metadata": {
        "id": "yneXKb3f32n_"
      },
      "source": [
        "%%R\n",
        "#install.packages(\"fracdiff\")\n",
        "\n",
        "x <- fracdiff::fracdiff.sim(n, d=0.3)$series\n",
        "\n",
        "plot.ts(x)"
      ],
      "execution_count": null,
      "outputs": []
    },
    {
      "cell_type": "code",
      "source": [
        "%%R\n",
        "\n",
        "acf(x)"
      ],
      "metadata": {
        "id": "hT1Ws7CN_wTE"
      },
      "execution_count": null,
      "outputs": []
    }
  ]
}